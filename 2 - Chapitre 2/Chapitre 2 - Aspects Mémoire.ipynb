{
 "cells": [
  {
   "cell_type": "markdown",
   "id": "13318817",
   "metadata": {
    "heading_collapsed": true
   },
   "source": [
    "# Chapitre 1 - Concepts de Programmation"
   ]
  },
  {
   "cell_type": "markdown",
   "id": "5f6024e2",
   "metadata": {},
   "source": [
    "# Chapitre 2 - Aspects Mémoire: les spécificités du C\n"
   ]
  },
  {
   "cell_type": "markdown",
   "id": "17a82355",
   "metadata": {
    "heading_collapsed": true
   },
   "source": [
    "## La mémoire vive (RAM)"
   ]
  },
  {
   "cell_type": "markdown",
   "id": "4c02a3f4",
   "metadata": {
    "hidden": true
   },
   "source": [
    "On se représente la mémoire vive comme une succession de \"cases mémoire\" qui chacune contient un octet. Un octet est une chaine de 8 bits (un bit vaut 0 ou 1). \n",
    "Les cases sont numérotées de 0 à la taille de la RAM, le numéro d'une case s'appelle son *adresse* dans la mémoire.\n",
    "Les adresses sont donc des entiers, qui il y a peu était stockés sur 32 bits. Par conséquent la taille de la RAM était limité à $2^{32}-1 = 4 294 967 295$, soit un peu plus de 4 Giga octets. Entre 2000 et 2010 s'est donc opéré un changement du système d'adressage: les adresses sont maintenant encodées sur 64 bits."
   ]
  },
  {
   "cell_type": "markdown",
   "id": "b2db7b21",
   "metadata": {
    "heading_collapsed": true
   },
   "source": [
    "## Les pointeurs"
   ]
  },
  {
   "cell_type": "markdown",
   "id": "ea196548",
   "metadata": {
    "hidden": true
   },
   "source": [
    "Si \"var\" est une variable, alors\n",
    "    \n",
    "    &var\n",
    "    \n",
    "désigne l'adresse mémoire de cette variable dans la RAM. Cette adresse n'est rien d'autre qu'un entier 64 bits, pour autant le type de l'expression \"&var\" n'est pas \"long\" mais \"t*\" où t désigne le type de de var.\n",
    "\n",
    "La raison est la suivante: si \"var\" est de type \"int\", alors elle n'a pas **une** adresse mémoire mais **quatre** adresses mémoire, en effet un \"int\" occupe 4 octets en mémoire. "
   ]
  },
  {
   "cell_type": "code",
   "execution_count": null,
   "id": "4be0bf62",
   "metadata": {
    "hidden": true
   },
   "outputs": [],
   "source": [
    "int var = 12 ;\n",
    "int*  p = &var ;\n",
    "printf(\"var = %d;\\np = %p;\\n(long)p = %lu\", var, p, (long)(p)) ;"
   ]
  },
  {
   "cell_type": "markdown",
   "id": "50304cff",
   "metadata": {
    "hidden": true
   },
   "source": [
    "La variable \"p\" désigne donc l'adresse de la première case mémoire occupée par \"var\" et le type \"int*\" permet de savoir que la variable var est stockée à cette adresse **plus les trois suivantes**.\n",
    "\n",
    "\n",
    "**Remarque**: le système d'adressage virtuel de ce serveur est très déterministe. Pour tous les exemples qui affichent des adresses, il faut privilégier l'exécution en environnement réel. \n",
    "Pour l'exemple ci-dessus, observer l'adresse retournée sur plusieurs exécution (cours2-0.c).\n",
    "\n",
    "\n",
    "Une variable qui contient une adresse mémoire (telle que \"p\" ci dessus) s'appelle un **pointeur**: il pointe vers une autre adresse en mémoire. Etant donné un pointeur, on peut récupérer la valeur contenue dans la case mémoire qu'il pointe comme ci dessous, on parle de **déréférencement de pointeur**."
   ]
  },
  {
   "cell_type": "code",
   "execution_count": null,
   "id": "2c4bc0e8",
   "metadata": {
    "hidden": true
   },
   "outputs": [],
   "source": [
    "int var = 12 ;\n",
    "int* p = &var ;\n",
    "int varbis = *p ;\n",
    "printf(\"La variable var vaut %d\\n\", var) ;\n",
    "printf(\"La variable varbis vaut \\\"le contenu de la case pointee par p\\\", soit %d aussi\", varbis) ;"
   ]
  },
  {
   "cell_type": "markdown",
   "id": "80bf0a54",
   "metadata": {
    "hidden": true
   },
   "source": [
    "La présence de pointeur dans un programme rend son exécution un peu plus difficile à suivre.  \n",
    "\n",
    "Exercice: prédire les valeurs des différentes variables du programme suivant en fin d'exécution."
   ]
  },
  {
   "cell_type": "code",
   "execution_count": null,
   "id": "a9fb16e9",
   "metadata": {
    "hidden": true
   },
   "outputs": [],
   "source": [
    "int entier1 = 3;\n",
    "int entier2 = 5;\n",
    "int entier3 = 8;\n",
    "int* pointeur1 = &entier1;\n",
    "int* pointeur2 = &entier2;\n",
    "int* pointeur3 = &entier3;\n",
    "pointeur1 = pointeur3;\n",
    "*pointeur3 = 10;\n",
    "entier2 = *pointeur1 + 7;"
   ]
  },
  {
   "cell_type": "code",
   "execution_count": null,
   "id": "2be441ec",
   "metadata": {
    "hidden": true
   },
   "outputs": [],
   "source": [
    "printf(\"entier1: %d \\nentier2: %d \\nentier3: %d\\n\", entier1, entier2, entier3) ;\n",
    "printf(\"Adresse de Entier1: %p \\n\", &entier1) ;\n",
    "printf(\"Adresse de Entier2: %p \\n\", &entier2) ;\n",
    "printf(\"Adresse de Entier3: %p \\n\", &entier3) ;\n",
    "printf(\"Adresse pointée par pointeur1: %p \\n\", pointeur1) ;\n",
    "printf(\"Adresse pointée par pointeur2: %p \\n\", pointeur2) ;\n",
    "printf(\"Adresse pointée par pointeur3: %p \\n\", pointeur3) ;"
   ]
  },
  {
   "cell_type": "markdown",
   "id": "5ca02e2e",
   "metadata": {
    "hidden": true,
    "slideshow": {
     "slide_type": "slide"
    }
   },
   "source": [
    "Illustration PythonTutor: cours2-32.c."
   ]
  },
  {
   "cell_type": "markdown",
   "id": "da8bf114",
   "metadata": {
    "hidden": true
   },
   "source": [
    "Résumé:\n",
    "- Si var est de type t alors son adresse &var est de type t*.\n",
    "- Si p est un pointeur de type t*, alors *p est une valeur de type t.\n",
    "\n",
    "**Attention**: un pointeur p contient une adresse, mais il a lui même une adresse (comme toute variable !) et les deux ne coincident pas:"
   ]
  },
  {
   "cell_type": "code",
   "execution_count": null,
   "id": "27dacdef",
   "metadata": {
    "hidden": true
   },
   "outputs": [],
   "source": [
    "int a = 12 ;\n",
    "int* p = &a ; \n",
    "printf(\"Adresse de p: %p \\nValeur de p = adresse de a: %p\", &p, p) ;"
   ]
  },
  {
   "cell_type": "markdown",
   "id": "98c6b5c0",
   "metadata": {
    "hidden": true
   },
   "source": [
    "On dit du C que c'est un langage **bas niveau** (*proche de la machine*): les instructions se traduisent *relativement simplement* en langage machine. Cela contraste avec les langage **haut niveau** (comme Python) où certaines instructions sont non élémentaires: une seule instruction sera traduite en un grand nombre d'instructions machine. De plus, \n",
    "avec les pointeurs, on a un accès direct à la mémoire, ce qui permet d'être très précis dans les manipulations effectuées. \n",
    "\n",
    "L'avantage du C est que l'on a alors un meilleur contrôle sur ce qui sera réellement exécuté par la machine (cependant le *compilateur* effectue d'énormes optimisations à la compilation).\n",
    "\n",
    "Enfin, un langage **haut niveau** se distingue du C par la présence de davantage de *structures avancés* natives: en C il n'y a ni listes, ni séquences, ni dictionnaires (comme vous avez peut être vu en Python), encore moins les arbres ou les types récursifs comme on verra en OCaml. Il n'y a que trois structures *non élémentaires* en C que nous allons aborder: les tableaux, les chaines de caractères et les STRUCT déjà rencontrées. \n",
    "Et nous allons voir que leur manipulation nécessite des précautions qui sont gérées **automatiquement** dans des langaages plus haut niveau.\n",
    "\n",
    "---------------------------\n",
    "Les pointeurs sont à la fois un avantage et un danger: ils permettent une grande liberté, mais leur manipulation engendrent facilement des erreurs."
   ]
  },
  {
   "cell_type": "code",
   "execution_count": null,
   "id": "20465d0f",
   "metadata": {
    "hidden": true
   },
   "outputs": [],
   "source": [
    "// Le programme de MP2I mentionne que l'arithmetique des pointeurs est hors programme.\n",
    "// La compréhension du code ci dessous n'est pas tout à fait exigible.\n",
    "char c1 = 'a' ;\n",
    "char c2 = 'a' ;\n",
    "char c3 = 'a' ;\n",
    "char c4 = 'a' ;\n",
    "int a = 12 ;\n",
    "int b = 24 ;\n",
    "\n",
    "printf(\"Contenu de la case a droite de a: %d\\n\", *(&a+1)) ; // Ligne hors programme\n",
    "*(&a+1) = 13 ; // Ligne hors programme\n",
    "printf(\"Valeur de b après L11: %d\\n\", b) ;\n",
    "printf(\"Contenu la case a gauche de a: %d\\n\", *(&a-1)) ; // Ligne hors programme\n",
    "printf(\"Codage du caractere \\'a\\': %d\\n\", (int)(c1)) ;\n",
    "printf(\"97 en binaire: 01100001\\n\") ;\n",
    "printf(\"Le nombre binaire 01100001 01100001 01100001 01100001 s'ecrit en decimal: 1633771873\") ;"
   ]
  },
  {
   "cell_type": "markdown",
   "id": "0c907597",
   "metadata": {
    "hidden": true
   },
   "source": [
    "Lorsque le programme s'exécute, l'OS ne lui alloue qu'une partie (un segment) de la RAM de l'ordinateur. Si le programme tente d'accéder à une adresse \"qui ne lui appartient pas\", il échoue avec l'erreur \"Segmentation Fault\". C'est typiquement le cas si vous déclarez un pointeur sans le définir; alors sa valeur est 0 par défaut et l'adresse nulle est invalide par convention. On utilise généralement la constante NULL (en majuscule en C) pour désigner le pointeur nul, qui pointe vers l'adresse 0 (cours2-1.c)."
   ]
  },
  {
   "cell_type": "code",
   "execution_count": null,
   "id": "7ff6f2d9",
   "metadata": {
    "hidden": true,
    "scrolled": true
   },
   "outputs": [],
   "source": [
    "int* p ;\n",
    "printf(\"%d\",*p) ;"
   ]
  },
  {
   "cell_type": "markdown",
   "id": "60d30e20",
   "metadata": {
    "hidden": true
   },
   "source": [
    "L'interpréteur C de ce serveur est beaucoup trop poli. Comparer avec cours2-1.c en environnement réel."
   ]
  },
  {
   "cell_type": "code",
   "execution_count": null,
   "id": "f1225496",
   "metadata": {
    "hidden": true
   },
   "outputs": [],
   "source": [
    "int* p;\n",
    "int* q = 0 ;\n",
    "int* r = NULL ;\n",
    "printf(\"%p %p %p\\n\",p,q,r) ;\n",
    "if (p == q && q == r)\n",
    "    printf(\"0 == NULL == initialisation par defaut\\n\") ;"
   ]
  },
  {
   "cell_type": "markdown",
   "id": "a602d076",
   "metadata": {
    "hidden": true
   },
   "source": [
    "Si l'on tire un entier au hasard, avec grande probabilité il désigne une adresse hors du segment de RAM alloué au programme (cours2-2.c)."
   ]
  },
  {
   "cell_type": "code",
   "execution_count": null,
   "id": "51fa856c",
   "metadata": {
    "hidden": true
   },
   "outputs": [],
   "source": [
    "bool choice = true ;\n",
    "long n ;\n",
    "if (choice)\n",
    "    n = 140634921422984 ;\n",
    "else\n",
    "    n = 250634921422984 ;\n",
    "int* p = (int*)(n) ;\n",
    "*p = 12 ;\n",
    "printf(\"%d\", *p) ;"
   ]
  },
  {
   "cell_type": "markdown",
   "id": "5ff08dd8",
   "metadata": {
    "heading_collapsed": true
   },
   "source": [
    "## Gestion des variables en mémoire: la pile."
   ]
  },
  {
   "cell_type": "markdown",
   "id": "d02a32b3",
   "metadata": {
    "hidden": true
   },
   "source": [
    "### Adresses des variables"
   ]
  },
  {
   "cell_type": "markdown",
   "id": "2225bc81",
   "metadata": {
    "hidden": true
   },
   "source": [
    "Lorsque l'on crée des variables, elles sont stockées sur la pile.\n",
    "Le nom est explicite: imaginez une pile de livre, et à chaque acquisition d'un nouveau livre vous vous contentez de le poser sur la pile existante."
   ]
  },
  {
   "cell_type": "code",
   "execution_count": null,
   "id": "a2b627cc",
   "metadata": {
    "code_folding": [],
    "hidden": true
   },
   "outputs": [],
   "source": [
    "void printBool (bool b)\n",
    "{\n",
    "    b? printf(\"true \"):printf(\"false \") ; // Syntaxe hors programme\n",
    "}"
   ]
  },
  {
   "cell_type": "code",
   "execution_count": null,
   "id": "5cf01b0a",
   "metadata": {
    "hidden": true
   },
   "outputs": [],
   "source": [
    "void printAdd (char* name, void* p)\n",
    "{\n",
    "    printf(\"Adresse de %s: %p %ld\\n\", name, p, (long)(p)) ;\n",
    "}"
   ]
  },
  {
   "cell_type": "code",
   "execution_count": null,
   "id": "11051b5a",
   "metadata": {
    "hidden": true
   },
   "outputs": [],
   "source": [
    "// On déclare 5 variables de type CHAR\n",
    "char a ; \n",
    "char b ;\n",
    "char c ; \n",
    "char d ; \n",
    "char e ;\n",
    "\n",
    "// On affiche les adresses: &a = l'adresse de la variable a.\n",
    "// ignorer la conversion (char*): c'est à cause du C++ !\n",
    "// voir la version C dans cours2-6.c\n",
    "printAdd( (char*)\"a\", &a) ;\n",
    "printAdd( (char*)\"b\", &b) ;\n",
    "printAdd( (char*)\"c\", &c) ;\n",
    "printAdd( (char*)\"d\", &d) ;\n",
    "printAdd( (char*)\"e\", &e) ;\n",
    "\n",
    "\n",
    "// On constate que les adresses sont côte à côte:\n",
    "printf(\"\\n&b == &a + 1: \") ;\n",
    "printBool(&b == &a + 1); \n",
    "printf(\"\\n&c == &b + 1: \") ;\n",
    "printBool(&c == &b + 1) ;\n",
    "printf(\"\\n&d == &c + 1: \") ;\n",
    "printBool(&d == &c + 1) ;\n",
    "printf(\"\\n&e == &d + 1: \") ;\n",
    "printBool(&e == &d + 1) ;\n"
   ]
  },
  {
   "cell_type": "markdown",
   "id": "f73a8b8b",
   "metadata": {
    "hidden": true
   },
   "source": [
    "A chaque exécution d'un programme, l'OS (operating system) alloue un espace mémoire pour la pile. Cet espace change à chaque exécution: notez que lorsque vous réexécutez la cellule précédente, les adresses allouées changent.  \n",
    "\n",
    "L'allocation mémoire est la raison principale pour laquelle on doit donner le type d'une variable lorsqu'on la déclare: le système doit savoir quelle place il réserve pour cette variable:"
   ]
  },
  {
   "cell_type": "code",
   "execution_count": null,
   "id": "f4cf84fc",
   "metadata": {
    "hidden": true
   },
   "outputs": [],
   "source": [
    "// Observons la place que prennent en mémoire les variables suivantes, de type différents:\n",
    "int z ;\n",
    "char a1 ;\n",
    "char a2 ;\n",
    "char a3 ;\n",
    "char a4 ;\n",
    "int b ;\n",
    "float c ; \n",
    "long d ; \n",
    "double e ;\n",
    "char f ;\n",
    "\n",
    "\n",
    "// On affiche les adresses:\n",
    "printAdd((char*)\"a4\", &a4) ;\n",
    "printAdd((char*)\"b\", &b) ;\n",
    "printAdd((char*)\"c\", &c) ;\n",
    "printAdd((char*)\"d\", &d) ;\n",
    "printAdd((char*)\"e\", &e) ;\n",
    "printAdd((char*)\"f\", &f) ;\n",
    "    \n",
    "\n",
    "// On en déduit les tailles des types associés:\n",
    "printf(\"\\nUn CHAR est stocke \\t sur 1 octet  ( 8 bits): &b - &a = %ld\", (long)&b - (long)&a4) ;\n",
    "printf(\"\\nUn INT \\t \\t \\t sur 4 octets (32 bits): &c - &b = %ld\", (long)&c - (long)&b) ;\n",
    "printf(\"\\nUn FLOAT \\t \\t sur 4 octets (32 bits): &d - &c = %ld\", (long)&d - (long)&c) ;\n",
    "printf(\"\\nUn LONG \\t \\t sur 8 octets (64 bits): &e - &d = %ld\", (long)&e - (long)&d) ;\n",
    "printf(\"\\nUn DOUBLE  \\t \\t sur 8 octets (64 bits): &f - &e = %ld\",(long)&f - (long)&e) ;"
   ]
  },
  {
   "cell_type": "markdown",
   "id": "eabdeea4",
   "metadata": {
    "hidden": true
   },
   "source": [
    "Inutile de connaitre ces valeurs par coeur:"
   ]
  },
  {
   "cell_type": "code",
   "execution_count": null,
   "id": "b5619d85",
   "metadata": {
    "hidden": true
   },
   "outputs": [],
   "source": [
    "printf(\"Taille d'un CHAR: %lu\\n\", sizeof(char)) ;\n",
    "printf(\"Taille d'un INT: %lu\\n\", sizeof(int)) ;\n",
    "printf(\"Taille d'un FLOAT: %lu\\n\", sizeof(float)) ;\n",
    "printf(\"Taille d'un LONG: %lu\\n\", sizeof(long)) ;\n",
    "printf(\"Taille d'un DOUBLE: %lu\\n\", sizeof(double)) ;"
   ]
  },
  {
   "cell_type": "markdown",
   "id": "78802421",
   "metadata": {
    "hidden": true
   },
   "source": [
    "### Portée des variables (l'explication)"
   ]
  },
  {
   "cell_type": "code",
   "execution_count": null,
   "id": "cca31724",
   "metadata": {
    "hidden": true
   },
   "outputs": [],
   "source": [
    "void f ()\n",
    "{\n",
    "    int a = 11;\n",
    "    int b = 12;\n",
    "    int c = 13;\n",
    "    printf(\"Adresse de a (dans fct f): %p %lu\\n\", &a, (long)(&a)) ;\n",
    "    printf(\"Adresse de b (dans fct f): %p %lu\\n\", &b, (long)(&b)) ;\n",
    "    printf(\"Adresse de c (dans fct f): %p %lu\\n\", &c, (long)(&c)) ;\n",
    "}\n"
   ]
  },
  {
   "cell_type": "code",
   "execution_count": null,
   "id": "9cd8c650",
   "metadata": {
    "hidden": true
   },
   "outputs": [],
   "source": [
    "int main ()\n",
    "{\n",
    "    int a = 2;\n",
    "    int b = 3;\n",
    "    int c = 4;\n",
    "    printf(\"Adresse de a (dans main) : %p %lu\\n\", &a, (long)(&a)) ;\n",
    "    printf(\"Adresse de b (dans main) : %p %lu\\n\", &b, (long)(&b)) ;\n",
    "    printf(\"Adresse de c (dans main) : %p %lu\\n\", &c, (long)(&c)) ;\n",
    "    printf(\"\\n\") ;\n",
    "    f () ;\n",
    "    printf(\"\\n\") ;\n",
    "    printf(\"Adresse de a (dans main) : %p %lu\\n\", &a, (long)(&a)) ;\n",
    "    printf(\"Adresse de b (dans main) : %p %lu\\n\", &b, (long)(&b)) ;\n",
    "    printf(\"Adresse de c (dans main) : %p %lu\\n\", &c, (long)(&c)) ;\n",
    "}"
   ]
  },
  {
   "cell_type": "code",
   "execution_count": null,
   "id": "8439090d",
   "metadata": {
    "hidden": true
   },
   "outputs": [],
   "source": [
    "main () ;"
   ]
  },
  {
   "cell_type": "markdown",
   "id": "6c2fb445",
   "metadata": {
    "hidden": true
   },
   "source": [
    "Le phénomène est (presque) le même lorsque l'on déclare une variable au sein d'une boucle FOR:"
   ]
  },
  {
   "cell_type": "code",
   "execution_count": null,
   "id": "df137a7f",
   "metadata": {
    "hidden": true
   },
   "outputs": [],
   "source": [
    "int myVar = -1 ;\n",
    "printf(\"%lu\\n\\n\", (long)(&myVar)) ;\n",
    "for (int i = 0; i < 12; i++)\n",
    "{\n",
    "    int myVar = i ;\n",
    "    printf(\"Adresse a l'interieur de la boucle: %p %lu\\n\", &myVar, (long)(&myVar)) ;\n",
    "}\n",
    "printf(\"\\nAdresse a l'exterieur de la boucle: %p %lu\\n\", &myVar, (long)(&myVar));"
   ]
  },
  {
   "cell_type": "markdown",
   "id": "1ddd719f",
   "metadata": {
    "hidden": true
   },
   "source": [
    "**Retenez cependant:** il est rarement justifié de définir une nouvelle variable dans une boucle FOR, on peut la déclarer en amont et la mettre à jour dans la boucle.\n",
    "\n",
    "\n",
    "Les variables declarées dans la boucle sont depilées a chaque exécution de la boucle:"
   ]
  },
  {
   "cell_type": "code",
   "execution_count": null,
   "id": "a9fd65a7",
   "metadata": {
    "hidden": true
   },
   "outputs": [],
   "source": [
    "int main ()\n",
    "{\n",
    "  int var = -1 ;\n",
    "  for (int i = 0; i < 12; i++)\n",
    "    {\n",
    "      printf(\"%d \", var) ;\n",
    "      int var = i ;\n",
    "    }\n",
    "}\n",
    "main () ;"
   ]
  },
  {
   "cell_type": "markdown",
   "id": "bfa7d445",
   "metadata": {
    "hidden": true
   },
   "source": [
    "Exercice: le code ci-dessous est-il correct ? Pensez en terme de graphe de flot de contrôle."
   ]
  },
  {
   "cell_type": "code",
   "execution_count": null,
   "id": "d5266e1a",
   "metadata": {
    "hidden": true,
    "scrolled": false
   },
   "outputs": [],
   "source": [
    "int main ()\n",
    "{\n",
    "  for (int i = 0; i < 12; i++)\n",
    "    {\n",
    "      if (i != 0)\n",
    "        printf(\"%d\\n\", var) ;\n",
    "      int var = i ;\n",
    "    }\n",
    "}"
   ]
  },
  {
   "cell_type": "markdown",
   "id": "3cb1323e",
   "metadata": {
    "heading_collapsed": true
   },
   "source": [
    "## Tableaux (1ere entrevue)"
   ]
  },
  {
   "cell_type": "markdown",
   "id": "6c24b1b0",
   "metadata": {
    "hidden": true
   },
   "source": [
    "### Manipulation naïve"
   ]
  },
  {
   "cell_type": "markdown",
   "id": "c8755669",
   "metadata": {
    "hidden": true
   },
   "source": [
    "Déclaration d'un tableau:"
   ]
  },
  {
   "cell_type": "code",
   "execution_count": null,
   "id": "38d0d0f9",
   "metadata": {
    "hidden": true
   },
   "outputs": [],
   "source": [
    "int tab[10] ;"
   ]
  },
  {
   "cell_type": "markdown",
   "id": "9377c8f5",
   "metadata": {
    "hidden": true
   },
   "source": [
    "Initialisation d'un tableau:"
   ]
  },
  {
   "cell_type": "code",
   "execution_count": null,
   "id": "a0e7ef20",
   "metadata": {
    "hidden": true
   },
   "outputs": [],
   "source": [
    "// 1. A la main\n",
    "int tab[10] ;\n",
    "for (int i = 0; i < 10; i++)\n",
    "    tab[i] = i ;\n",
    "\n",
    "// 2. En listant les éléments:\n",
    "int tab2[] = { 1,2,3,4,5,6,7,8,9,10 } ;\n",
    "\n",
    "// 3. En listant les éléments avec taille explicite:\n",
    "int tab3[10] = { 1,2,3,4,5,6,7,8,9,10 } ;"
   ]
  },
  {
   "cell_type": "markdown",
   "id": "2dba4cee",
   "metadata": {
    "hidden": true
   },
   "source": [
    "On ne peut pas lister plus d'éléments qu'annoncé:"
   ]
  },
  {
   "cell_type": "code",
   "execution_count": null,
   "id": "d4c81dc4",
   "metadata": {
    "hidden": true,
    "scrolled": true
   },
   "outputs": [],
   "source": [
    "int tab4[5] = { 1,2,3,4,5,6,7,8,9,10 } ;"
   ]
  },
  {
   "cell_type": "markdown",
   "id": "b8d7b9f1",
   "metadata": {
    "hidden": true
   },
   "source": [
    "Mais on peut en lister moins:"
   ]
  },
  {
   "cell_type": "code",
   "execution_count": null,
   "id": "a9b4bfd7",
   "metadata": {
    "hidden": true
   },
   "outputs": [],
   "source": [
    "int tab4[15] = { 0,1,2,3,4,5,6,7,8,9 } ;"
   ]
  },
  {
   "cell_type": "markdown",
   "id": "4a223ee2",
   "metadata": {
    "hidden": true
   },
   "source": [
    "Accès aux éléments d'un tableau: \n",
    "\n",
    "    tab[i]"
   ]
  },
  {
   "cell_type": "code",
   "execution_count": null,
   "id": "b0089b4f",
   "metadata": {
    "hidden": true
   },
   "outputs": [],
   "source": [
    "printf(\"tab = \") ;\n",
    "for (int i = 0; i < 10; i++)\n",
    "    printf(\"%d \", tab[i]) ;\n",
    "printf(\"\\ntab2 = \");\n",
    "for (int i = 0; i < 10; i++)\n",
    "    printf(\"%d \", tab2[i]) ;"
   ]
  },
  {
   "cell_type": "markdown",
   "id": "ae1e6aac",
   "metadata": {
    "hidden": true
   },
   "source": [
    "**Gros détail**: il n'existe pas de fonction qui permettent de connaitre la taille d'un tableau.\n",
    "Mis à part cela, vous avez ci-dessus suffisament de matière pour manipuler les tableaux comme vous le faisiez en Python (or do you ?):"
   ]
  },
  {
   "cell_type": "code",
   "execution_count": null,
   "id": "73ed29d1",
   "metadata": {
    "hidden": true
   },
   "outputs": [],
   "source": [
    "int sumTab (int longueur, int tab[])\n",
    "{\n",
    "    int sum = 0 ;\n",
    "    for (int i = 0; i < longueur; i++)\n",
    "        sum = sum + tab[i] ;\n",
    "    return(sum) ;\n",
    "}\n",
    "printf(\"Somme des elts de tab: %d\\n\",sumTab(10,tab)) ;\n",
    "printf(\"Somme des elts de tab2: %d\\n\",sumTab(10,tab2)) ;"
   ]
  },
  {
   "cell_type": "markdown",
   "id": "0ca424e6",
   "metadata": {
    "hidden": true
   },
   "source": [
    "Et si on se trompe dans la longueur ?"
   ]
  },
  {
   "cell_type": "code",
   "execution_count": null,
   "id": "b5e017a2",
   "metadata": {
    "hidden": true
   },
   "outputs": [],
   "source": [
    "printf(\"Somme des elts de tab: %d\\n\",sumTab(5,tab)) ;"
   ]
  },
  {
   "cell_type": "markdown",
   "id": "ca1c905b",
   "metadata": {
    "hidden": true
   },
   "source": [
    "Et si on se trompe de l'autre côté ? (à exécuter en env réel: cours2-3.c)"
   ]
  },
  {
   "cell_type": "code",
   "execution_count": null,
   "id": "05c0f5e8",
   "metadata": {
    "hidden": true
   },
   "outputs": [],
   "source": [
    "printf(\"Somme des elts de tab: %d\\n\",sumTab(15,tab)) ;\n",
    "printf(\"Somme des elts de tab4: %d\\n\",sumTab(15,tab4)) ;"
   ]
  },
  {
   "cell_type": "markdown",
   "id": "4f88b4ce",
   "metadata": {
    "hidden": true
   },
   "source": [
    "Conclusion: un tableau doit toujours se promener avec sa longueur, et lorsqu'on écrit \"tab[i]\", on prend le temps de se convaincre que i est un indice valide !"
   ]
  },
  {
   "cell_type": "markdown",
   "id": "c9ebd405",
   "metadata": {
    "hidden": true
   },
   "source": [
    "### Implémentation des tableaux en mémoire"
   ]
  },
  {
   "cell_type": "markdown",
   "id": "22b3d926",
   "metadata": {
    "hidden": true
   },
   "source": [
    "L'avantage d'avoir une longueur de tableau connue à la compilation (on dit *statique*), c'est que le compilateur détecte les débordements:"
   ]
  },
  {
   "cell_type": "code",
   "execution_count": null,
   "id": "7787108a",
   "metadata": {
    "hidden": true,
    "scrolled": true
   },
   "outputs": [],
   "source": [
    "int main ()\n",
    "{\n",
    "  int tab[10] ;\n",
    "  printf(\"%d\\n\", tab[10]) ;\n",
    "}"
   ]
  },
  {
   "cell_type": "markdown",
   "id": "2253e4aa",
   "metadata": {
    "hidden": true
   },
   "source": [
    "Mais ce n'est qu'un warning:"
   ]
  },
  {
   "cell_type": "code",
   "execution_count": null,
   "id": "c7bb5f25",
   "metadata": {
    "hidden": true,
    "scrolled": true
   },
   "outputs": [],
   "source": [
    "main () ;"
   ]
  },
  {
   "cell_type": "markdown",
   "id": "d3d44e6b",
   "metadata": {
    "hidden": true
   },
   "source": [
    "Et il ne le détecte pas forcément:"
   ]
  },
  {
   "cell_type": "code",
   "execution_count": null,
   "id": "72ea312c",
   "metadata": {
    "hidden": true
   },
   "outputs": [],
   "source": [
    "int main ()\n",
    "{\n",
    "    int tab[10] ;\n",
    "    int n = 10 ;\n",
    "    printf(\"%d\\n\", tab[n]) ;\n",
    "}"
   ]
  },
  {
   "cell_type": "code",
   "execution_count": null,
   "id": "ccff5919",
   "metadata": {
    "hidden": true
   },
   "outputs": [],
   "source": [
    "main () ;"
   ]
  },
  {
   "cell_type": "markdown",
   "id": "0d48dc26",
   "metadata": {
    "hidden": true
   },
   "source": [
    "Bonus: exécuter ces deux exemples en environnement réel pour observer les valeurs affichées (cours2-5.c et cours2-7.c)\n",
    "\n",
    "Question: à quoi correspondent ces valeurs ?"
   ]
  },
  {
   "cell_type": "code",
   "execution_count": null,
   "id": "27991b23",
   "metadata": {
    "hidden": true
   },
   "outputs": [],
   "source": [
    "  int a = 4 ;\n",
    "  int b = -1 ;\n",
    "  int aa = 26 ;\n",
    "  int bb = 27 ;\n",
    "  int ttab[4] = { 121,122,123,124 } ;\n",
    "  int ttab2[4] = { 212,213,214,215 } ;\n",
    "  int c = 12 ;\n",
    "  printf(\"ttab[4] = %d \\n\", ttab[a]) ;\n",
    "  printf(\"ttab[-1] = %d \\n\", ttab[b]) ;\n",
    "  printf(\"ttab2[4] = %d \\n\", ttab2[a]) ;\n",
    "  printf(\"ttab2[-1] = %d \\n\", ttab2[b]) ;  "
   ]
  },
  {
   "cell_type": "code",
   "execution_count": null,
   "id": "22a4e3b3",
   "metadata": {
    "hidden": true
   },
   "outputs": [],
   "source": [
    "printf(\"Explication: \\n\") ;\n",
    "printAdd((char*)\"a\",&a) ;\n",
    "printAdd((char*)\"b\",&b) ;\n",
    "printAdd((char*)\"aa\",&aa) ;\n",
    "printAdd((char*)\"bb\",&bb) ;\n",
    "printAdd((char*)\"ttab[0]\",&ttab[0]) ;\n",
    "printAdd((char*)\"ttab[1]\",&ttab[1]) ;\n",
    "printAdd((char*)\"ttab[2]\",&ttab[2]) ;\n",
    "printAdd((char*)\"ttab[3]\",&ttab[3]) ;\n",
    "printAdd((char*)\"ttab2[0]\",&ttab2[0]) ;\n",
    "printAdd((char*)\"ttab2[1]\",&ttab2[1]) ;\n",
    "printAdd((char*)\"ttab2[2]\",&ttab2[2]) ;\n",
    "printAdd((char*)\"ttab2[3]\",&ttab2[3]) ;\n",
    "printAdd((char*)\"c\",&c) ;"
   ]
  },
  {
   "cell_type": "markdown",
   "id": "bf157d38",
   "metadata": {
    "hidden": true
   },
   "source": [
    "Attention: la gestion des variables locales (notamment l'ordre dans lequel on les empile) dépend du compilateur. Comparer avec cours2-4.c.\n",
    "\n",
    "Finalement, déclarer un tableau d'entiers de taille 10 (int tab[10]), cela revient à déclarer d'un coup 10 variables de type int, ces variables s'appellent tab[0], ..., tab[9]. \n",
    "Elles ont une adresse: &tab[i] ; \n",
    "On peut les modifier: tab[i] = 3 ;\n",
    "\n",
    "La variable tab n'est qu'un pointeur vers le premier élément du tableau:"
   ]
  },
  {
   "cell_type": "code",
   "execution_count": null,
   "id": "6e53090c",
   "metadata": {
    "hidden": true
   },
   "outputs": [],
   "source": [
    "printf(\"Adresse de tab[0]: %lu \\n\", (long)&tab[0]) ;\n",
    "printf(\"Adresse pointée par tab: %lu\\n\", (long)tab) ;\n",
    "if (tab == &tab[0])\n",
    "    printf(\"Le prof a raison !\") ;\n",
    "else\n",
    "    printf(\"Le prof a tort, et le tortue.\") ;"
   ]
  },
  {
   "cell_type": "markdown",
   "id": "6f46a3d2",
   "metadata": {
    "hidden": true
   },
   "source": [
    "Bonus (hors programme): tab[i] c'est simplement un calcul *d'arithmétique des pointeurs*: on part de l'adresse de tab et on ajoute le nombre de cases à parcourir (i) fois la taille d'une case:\n",
    "\n",
    "    tab[i] = *(tab + i*sizeof(type))"
   ]
  },
  {
   "cell_type": "code",
   "execution_count": null,
   "id": "5d02d0d5",
   "metadata": {
    "hidden": true
   },
   "outputs": [],
   "source": [
    "int hauteurs[3] = {1, 2, 3};\n",
    "int* pValeur = &hauteurs[0];\n",
    "pValeur = pValeur + 1;\n",
    "*pValeur = 4;\n",
    "pValeur = pValeur + 1;\n",
    "*pValeur = 9;\n",
    "printf(\"%d %d %d\\n\", hauteurs[0], hauteurs[1], hauteurs[2]) ;"
   ]
  },
  {
   "cell_type": "markdown",
   "id": "51531c2e",
   "metadata": {
    "hidden": true
   },
   "source": [
    "D'après ce qui précède, la seconde ligne\n",
    "\n",
    "    int* pValeur = &hauteurs[0] ;\n",
    "peut être remplacée par\n",
    "\n",
    "    int* pValeur = hauteurs ;\n",
    "    \n",
    "    \n",
    "--------------\n",
    "**Remarque**: une variable a un type explicite, afin que le compilateur sache quel espace mémoire réserver (char = 8 bits, int = 32 bits, ...). Tous les types pointeurs (char*, int*, ...) ne sont que des adresses, et toutes les adresses sont sur 64 bits. Pourquoi n'y a-t-il pas qu'un seul type pointeur ? \n",
    "Afin de connaitre totalement l'espace pointé: c'est l'espace qui commence à l'adresse du pointeur et dont la taille est donnée par le type du pointeur (4 cases pour un int*, 1 case pour un char*, ...). \n",
    "Cela permet de simplifier l'arithmétique des pointeurs: l'opérateur + dépend du type:"
   ]
  },
  {
   "cell_type": "code",
   "execution_count": null,
   "id": "66de3ad2",
   "metadata": {
    "hidden": true
   },
   "outputs": [],
   "source": [
    "int a = 0;\n",
    "int* p = &a ;\n",
    "char* q = (char*)p ;\n",
    "printAdd((char*)\"p\", p) ;\n",
    "printAdd((char*)\"q\", q) ;\n",
    "printAdd((char*)\"p+1\", p+1) ;\n",
    "printAdd((char*)\"q+1\", q+1) ;\n",
    "printf(\"Si on convertit avant l'addition: (long)p + 1 = %lu \\n\", (long)p+1) ;"
   ]
  },
  {
   "cell_type": "markdown",
   "id": "190f2cac",
   "metadata": {
    "hidden": true
   },
   "source": [
    "Ceci explique pourquoi dans le programme précédent, on effectue \n",
    "\n",
    "    pValeur = pValeur + 1\n",
    "au lieu de     \n",
    "\n",
    "    pValeur = pValeur + 4\n",
    "bien que dans un tableau d'entier, la case suivante se situe 4 cases mémoires plus loin."
   ]
  },
  {
   "cell_type": "markdown",
   "id": "441dbfb5",
   "metadata": {
    "hidden": true
   },
   "source": [
    "Ce qu'il faut retenir:\n",
    "- Les tableaux sont stockés de manière contigue en mémoire.\n",
    "- Chaque case à la même taille, et on peut donc par un calcul très simple connaitre l'adresse d'une case, sans parcourir tout le tableau.\n",
    "- Lorsque le système réserve un emplacement pour un tableau, vous ne savez pas ce qui se situe autour du tableau en mémoire. Il est donc impossible d'augmenter la taille d'un tableau après coup. La seule solution est d'initialiser un nouveau tableau plus grand, et de copier l'ancien tableau case par case.\n",
    "- Une variable de \"type tableau\" n'est qu'un pointeur vers l'adresse du premier élément du tableau. Ce point sera détaillé dans la suite."
   ]
  },
  {
   "cell_type": "markdown",
   "id": "263e1ce0",
   "metadata": {
    "heading_collapsed": true
   },
   "source": [
    "## Gestion des appels de fonctions: la pile d'appels"
   ]
  },
  {
   "cell_type": "markdown",
   "id": "aa212cb0",
   "metadata": {
    "heading_collapsed": true,
    "hidden": true
   },
   "source": [
    "### Fonctionnement"
   ]
  },
  {
   "cell_type": "code",
   "execution_count": 1,
   "id": "a37d4353",
   "metadata": {
    "hidden": true
   },
   "outputs": [],
   "source": [
    "// Fonction à 0 argument:\n",
    "void f0 ()\n",
    "{\n",
    "    int a_f = 1;\n",
    "    int b_f = 2;\n",
    "    int* p = &b_f ;\n",
    "    for (int i = 0; i < 16; i++)\n",
    "    {\n",
    "        printf(\"Contenu %d*4 cases avant b_f: %d\\n\", i, *(p+i)) ;\n",
    "    }\n",
    "}"
   ]
  },
  {
   "cell_type": "code",
   "execution_count": 2,
   "id": "96af5ef9",
   "metadata": {
    "hidden": true
   },
   "outputs": [],
   "source": [
    "int main ()\n",
    "{\n",
    "    int a = 123 ;\n",
    "    int b = 243 ;\n",
    "    f0 () ;\n",
    "}"
   ]
  },
  {
   "cell_type": "code",
   "execution_count": 3,
   "id": "825ad3c1",
   "metadata": {
    "hidden": true
   },
   "outputs": [
    {
     "name": "stdout",
     "output_type": "stream",
     "text": [
      "Contenu 0*4 cases avant b_f: 2\n",
      "Contenu 1*4 cases avant b_f: 1\n",
      "Contenu 2*4 cases avant b_f: -685923968\n",
      "Contenu 3*4 cases avant b_f: 32764\n",
      "Contenu 4*4 cases avant b_f: -955293534\n",
      "Contenu 5*4 cases avant b_f: 32511\n",
      "Contenu 6*4 cases avant b_f: -685923808\n",
      "Contenu 7*4 cases avant b_f: 32764\n",
      "Contenu 8*4 cases avant b_f: 243\n",
      "Contenu 9*4 cases avant b_f: 123\n",
      "Contenu 10*4 cases avant b_f: -685923904\n",
      "Contenu 11*4 cases avant b_f: 32764\n",
      "Contenu 12*4 cases avant b_f: -955293647\n",
      "Contenu 13*4 cases avant b_f: 32511\n",
      "Contenu 14*4 cases avant b_f: -685923808\n",
      "Contenu 15*4 cases avant b_f: 32764\n"
     ]
    }
   ],
   "source": [
    "main () ;"
   ]
  },
  {
   "cell_type": "code",
   "execution_count": 4,
   "id": "9f1f7c41",
   "metadata": {
    "hidden": true
   },
   "outputs": [],
   "source": [
    "// Fonction à 1 arguments:\n",
    "void f1 (int x)\n",
    "{\n",
    "    int a_f = 1;\n",
    "    int b_f = 2;\n",
    "    int* p = &b_f ;\n",
    "    for (int i = 0; i < x; i++)\n",
    "    {\n",
    "        printf(\"Contenu %d*4 cases avant b_f: %d\\n\", i, *(p+i)) ;\n",
    "    }\n",
    "}"
   ]
  },
  {
   "cell_type": "code",
   "execution_count": 5,
   "id": "cc2253c5",
   "metadata": {
    "hidden": true
   },
   "outputs": [],
   "source": [
    "int main ()\n",
    "{\n",
    "    int a = 123 ;\n",
    "    int b = 243 ;\n",
    "    f1(16) ;\n",
    "}"
   ]
  },
  {
   "cell_type": "code",
   "execution_count": 6,
   "id": "60116e64",
   "metadata": {
    "hidden": true
   },
   "outputs": [
    {
     "name": "stdout",
     "output_type": "stream",
     "text": [
      "Contenu 0*4 cases avant b_f: 2\n",
      "Contenu 1*4 cases avant b_f: 1\n",
      "Contenu 2*4 cases avant b_f: 16\n",
      "Contenu 3*4 cases avant b_f: -685923968\n",
      "Contenu 4*4 cases avant b_f: 32764\n",
      "Contenu 5*4 cases avant b_f: -955563857\n",
      "Contenu 6*4 cases avant b_f: 32511\n",
      "Contenu 7*4 cases avant b_f: -685923808\n",
      "Contenu 8*4 cases avant b_f: 16\n",
      "Contenu 9*4 cases avant b_f: 243\n",
      "Contenu 10*4 cases avant b_f: 123\n",
      "Contenu 11*4 cases avant b_f: -685923904\n",
      "Contenu 12*4 cases avant b_f: 32764\n",
      "Contenu 13*4 cases avant b_f: -955563983\n",
      "Contenu 14*4 cases avant b_f: 32511\n",
      "Contenu 15*4 cases avant b_f: -685923808\n"
     ]
    }
   ],
   "source": [
    "main () ;"
   ]
  },
  {
   "cell_type": "code",
   "execution_count": 7,
   "id": "f9bf4170",
   "metadata": {
    "hidden": true
   },
   "outputs": [],
   "source": [
    "// Fonction à 2 arguments:\n",
    "void f2 (int x, int y)\n",
    "{\n",
    "    int a_f = 1;\n",
    "    int b_f = 2;\n",
    "    int* p = &b_f ;\n",
    "    for (int i = 0; i < x; i++)\n",
    "    {\n",
    "        printf(\"Contenu %d*4 cases avant b_f: %d\\n\", i, *(p+i)) ;\n",
    "    }\n",
    "}"
   ]
  },
  {
   "cell_type": "code",
   "execution_count": 8,
   "id": "50de36f2",
   "metadata": {
    "hidden": true
   },
   "outputs": [],
   "source": [
    "int main ()\n",
    "{\n",
    "    int a = 123 ;\n",
    "    int b = 243 ;\n",
    "    f2 (16, 332) ;\n",
    "}"
   ]
  },
  {
   "cell_type": "code",
   "execution_count": 9,
   "id": "3a166dcb",
   "metadata": {
    "hidden": true
   },
   "outputs": [
    {
     "name": "stdout",
     "output_type": "stream",
     "text": [
      "Contenu 0*4 cases avant b_f: 2\n",
      "Contenu 1*4 cases avant b_f: 1\n",
      "Contenu 2*4 cases avant b_f: 332\n",
      "Contenu 3*4 cases avant b_f: 16\n",
      "Contenu 4*4 cases avant b_f: -685923968\n",
      "Contenu 5*4 cases avant b_f: 32764\n",
      "Contenu 6*4 cases avant b_f: -957230916\n",
      "Contenu 7*4 cases avant b_f: 32511\n",
      "Contenu 8*4 cases avant b_f: 332\n",
      "Contenu 9*4 cases avant b_f: 16\n",
      "Contenu 10*4 cases avant b_f: 243\n",
      "Contenu 11*4 cases avant b_f: 123\n",
      "Contenu 12*4 cases avant b_f: -685923904\n",
      "Contenu 13*4 cases avant b_f: 32764\n",
      "Contenu 14*4 cases avant b_f: -957231055\n",
      "Contenu 15*4 cases avant b_f: 32511\n"
     ]
    }
   ],
   "source": [
    "main () ;"
   ]
  },
  {
   "cell_type": "code",
   "execution_count": 10,
   "id": "8659485f",
   "metadata": {
    "hidden": true
   },
   "outputs": [],
   "source": [
    "// Fonction à 3 arguments:\n",
    "void f3 (int x, int y, int z)\n",
    "{\n",
    "    int a_f = 1;\n",
    "    int b_f = 2;\n",
    "    int* p = &b_f ;\n",
    "    for (int i = 0; i < x; i++)\n",
    "    {\n",
    "        printf(\"Contenu %d*4 cases avant b_f: %d\\n\", i, *(p+i)) ;\n",
    "    }\n",
    "}"
   ]
  },
  {
   "cell_type": "code",
   "execution_count": 11,
   "id": "070cf4a2",
   "metadata": {
    "hidden": true
   },
   "outputs": [],
   "source": [
    "int main ()\n",
    "{\n",
    "    int a = 123 ;\n",
    "    int b = 243 ;\n",
    "    f3 (20, 332, 156) ;\n",
    "}"
   ]
  },
  {
   "cell_type": "code",
   "execution_count": 12,
   "id": "8580b820",
   "metadata": {
    "hidden": true
   },
   "outputs": [
    {
     "name": "stdout",
     "output_type": "stream",
     "text": [
      "Contenu 0*4 cases avant b_f: 2\n",
      "Contenu 1*4 cases avant b_f: 1\n",
      "Contenu 2*4 cases avant b_f: 156\n",
      "Contenu 3*4 cases avant b_f: 332\n",
      "Contenu 4*4 cases avant b_f: 20\n",
      "Contenu 5*4 cases avant b_f: -685923968\n",
      "Contenu 6*4 cases avant b_f: 32764\n",
      "Contenu 7*4 cases avant b_f: -957239078\n",
      "Contenu 8*4 cases avant b_f: 32511\n",
      "Contenu 9*4 cases avant b_f: 160451280\n",
      "Contenu 10*4 cases avant b_f: 332\n",
      "Contenu 11*4 cases avant b_f: 20\n",
      "Contenu 12*4 cases avant b_f: 156\n",
      "Contenu 13*4 cases avant b_f: -957239056\n",
      "Contenu 14*4 cases avant b_f: 32511\n",
      "Contenu 15*4 cases avant b_f: 243\n",
      "Contenu 16*4 cases avant b_f: 123\n",
      "Contenu 17*4 cases avant b_f: -685923904\n",
      "Contenu 18*4 cases avant b_f: 32764\n",
      "Contenu 19*4 cases avant b_f: -957239247\n"
     ]
    }
   ],
   "source": [
    "main () ;"
   ]
  },
  {
   "cell_type": "code",
   "execution_count": 14,
   "id": "773b118b",
   "metadata": {
    "hidden": true
   },
   "outputs": [],
   "source": [
    "void f (int x)\n",
    "{\n",
    "    int a = x+1 ;\n",
    "    int b = x+2 ;\n",
    "    printf(\"Adresse de a: %lu\\n\", (long)(&a)) ;\n",
    "    printf(\"Adresse de b: %lu\\n\", (long)(&b)) ;\n",
    "}"
   ]
  },
  {
   "cell_type": "code",
   "execution_count": 15,
   "id": "d1e8e7f8",
   "metadata": {
    "hidden": true
   },
   "outputs": [],
   "source": [
    "int main ()\n",
    "{\n",
    "    int x = 12 ;\n",
    "    printf(\"Adresse x: %lu\\n\", (long)(&x)) ;\n",
    "    printf(\"1er appel: \\n\") ;\n",
    "    f(x + 10) ;\n",
    "    printf(\"\\nAdresse x: %lu\\n\", (long)(&x)) ;\n",
    "    printf(\"2e appel: \\n\") ;\n",
    "    f(x+20) ;\n",
    "    printf(\"\\nAdresse x: %lu\", (long)(&x)) ;\n",
    "}"
   ]
  },
  {
   "cell_type": "code",
   "execution_count": 16,
   "id": "19d82abe",
   "metadata": {
    "hidden": true
   },
   "outputs": [
    {
     "name": "stdout",
     "output_type": "stream",
     "text": [
      "Adresse x: 140723917529468\n",
      "1er appel: \n",
      "Adresse de a: 140723917529400\n",
      "Adresse de b: 140723917529396\n",
      "\n",
      "Adresse x: 140723917529468\n",
      "2e appel: \n",
      "Adresse de a: 140723917529400\n",
      "Adresse de b: 140723917529396\n",
      "\n",
      "Adresse x: 140723917529468"
     ]
    }
   ],
   "source": [
    "main () ;"
   ]
  },
  {
   "cell_type": "markdown",
   "id": "8f0469b6",
   "metadata": {
    "hidden": true
   },
   "source": [
    "Tout ce qui a été ajouté sur la pile pour le premier appel de f a été *dépilé* à la fin de ce premier appel."
   ]
  },
  {
   "cell_type": "code",
   "execution_count": 17,
   "id": "6e826373",
   "metadata": {
    "hidden": true
   },
   "outputs": [],
   "source": [
    "void ff (int y, int z)\n",
    "{\n",
    "    int a = y+12 ;\n",
    "    int b = y-7 ;\n",
    "    int c = 12 ; \n",
    "    printf(\"Adresse de a: %lu\\n\", (long)(&a)) ;\n",
    "    printf(\"Adresse de b: %lu\\n\", (long)(&b)) ;\n",
    "}"
   ]
  },
  {
   "cell_type": "code",
   "execution_count": 18,
   "id": "95c12bca",
   "metadata": {
    "hidden": true
   },
   "outputs": [],
   "source": [
    "void fff (int y)\n",
    "{\n",
    "    int c = 12 ; \n",
    "    int a = y+12 ;\n",
    "    int b = y-7 ;\n",
    "    printf(\"Adresse de a: %lu\\n\", (long)(&a)) ;\n",
    "    printf(\"Adresse de b: %lu\\n\", (long)(&b)) ;\n",
    "}"
   ]
  },
  {
   "cell_type": "code",
   "execution_count": 19,
   "id": "43205305",
   "metadata": {
    "hidden": true
   },
   "outputs": [],
   "source": [
    "int main ()\n",
    "{\n",
    "    int x = 12 ;\n",
    "    printf(\"Adresse x: %lu\\n\", (long)(&x)) ;\n",
    "    printf(\"Appel f: \\n\") ;\n",
    "    f(x + 10) ;\n",
    "    printf(\"\\nAdresse x: %lu\\n\", (long)(&x)) ;\n",
    "    printf(\"Appel ff: \\n\") ;\n",
    "    ff(x+20,13) ;\n",
    "    printf(\"\\nAdresse x: %lu\\n\", (long)(&x)) ;\n",
    "    printf(\"Appel fff: \\n\") ;\n",
    "    fff(x+30) ;\n",
    "    printf(\"\\nAdresse x: %lu\\n\", (long)(&x)) ;\n",
    "}"
   ]
  },
  {
   "cell_type": "code",
   "execution_count": 20,
   "id": "a42ebdc5",
   "metadata": {
    "hidden": true
   },
   "outputs": [
    {
     "name": "stdout",
     "output_type": "stream",
     "text": [
      "Adresse x: 140723917529468\n",
      "Appel f: \n",
      "Adresse de a: 140723917529384\n",
      "Adresse de b: 140723917529380\n",
      "\n",
      "Adresse x: 140723917529468\n",
      "Appel ff: \n",
      "Adresse de a: 140723917529380\n",
      "Adresse de b: 140723917529376\n",
      "\n",
      "Adresse x: 140723917529468\n",
      "Appel fff: \n",
      "Adresse de a: 140723917529380\n",
      "Adresse de b: 140723917529376\n",
      "\n",
      "Adresse x: 140723917529468\n"
     ]
    }
   ],
   "source": [
    "main () ;"
   ]
  },
  {
   "cell_type": "markdown",
   "id": "f4ee3528",
   "metadata": {
    "hidden": true
   },
   "source": [
    "**Ce qu'il faut retenir:**\n",
    "- Les appels de fonction ont un coût en mémoire.\n",
    "- Lors d'un appel de fonction, les arguments sont copiés plusieurs fois.\n",
    "\n",
    "Pararaphe du programme officiel:\n",
    "\n",
    "    \"On met l’accent sur la gestion au niveau de la machine, en termes d’occupation mémoire, \n",
    "    de la pile d’exécution, et de temps de calcul, en évoquant les questions de sauvegarde et de restauration de contexte.\""
   ]
  },
  {
   "cell_type": "markdown",
   "id": "f6ea80f7",
   "metadata": {
    "hidden": true
   },
   "source": [
    "Petit bonus: prédire la valeur qui va être affichée par la fonction main (credit: université de Rennes)."
   ]
  },
  {
   "cell_type": "code",
   "execution_count": 21,
   "id": "c9ff9613",
   "metadata": {
    "hidden": true
   },
   "outputs": [],
   "source": [
    "int foo ()\n",
    "{\n",
    "    char buffer[8];\n",
    "    char * ret;\n",
    "    ret = buffer + 24 ;\n",
    "    (*ret) += 8 ;\n",
    "    return 0 ;\n",
    "}"
   ]
  },
  {
   "cell_type": "code",
   "execution_count": null,
   "id": "da526b3d",
   "metadata": {
    "hidden": true
   },
   "outputs": [],
   "source": [
    "int main ()\n",
    "{\n",
    "    int i = 26;\n",
    "    foo() ;\n",
    "    i = 17 ;\n",
    "    printf(\"%d\\n\", i) ;\n",
    "    return 0 ;\n",
    "}"
   ]
  },
  {
   "cell_type": "code",
   "execution_count": null,
   "id": "13a429c7",
   "metadata": {
    "hidden": true
   },
   "outputs": [],
   "source": [
    "// Cet exemple ne fonctionne pas ici, ni sur onlinegdb.\n",
    "// Voir cours2-11.c\n",
    "main () ; "
   ]
  },
  {
   "cell_type": "markdown",
   "id": "7382afbd",
   "metadata": {
    "heading_collapsed": true,
    "hidden": true
   },
   "source": [
    "### Digression: l'évaluation paresseuse"
   ]
  },
  {
   "cell_type": "markdown",
   "id": "72a94ae2",
   "metadata": {
    "hidden": true
   },
   "source": [
    "Les expressions booléennes sont évaluées de manière *paresseuse*:"
   ]
  },
  {
   "cell_type": "code",
   "execution_count": 23,
   "id": "6c537037",
   "metadata": {
    "hidden": true
   },
   "outputs": [],
   "source": [
    "bool f (bool b)\n",
    "{\n",
    "  if (b)\n",
    "    printf(\"Mon argument est vrai.\\n\") ;\n",
    "  else\n",
    "    printf(\"Mon argument est faux.\\n\");\n",
    "  return b;\n",
    "}\n"
   ]
  },
  {
   "cell_type": "code",
   "execution_count": 24,
   "id": "74aafe67",
   "metadata": {
    "hidden": true
   },
   "outputs": [],
   "source": [
    "\n",
    "int main ()\n",
    "{\n",
    "  printf(\"Test 1:\\n\") ;\n",
    "  if (f(true) || f(true))\n",
    "    printf(\"La disjonction est vraie.\\n\\n\") ;\n",
    "  else\n",
    "    printf(\"La disjonction est fausse.\\n\\n\");\n",
    "  \n",
    "  printf(\"Test 2:\\n\") ;\n",
    "  if (f(true) || f(false))\n",
    "    printf(\"La disjonction est vraie.\\n\\n\") ;\n",
    "  else\n",
    "    printf(\"La disjonction est fausse.\\n\\n\");\n",
    "\n",
    "  printf(\"Test 3:\\n\") ;\n",
    "  if (f(false) || f(true))\n",
    "    printf(\"La disjonction est vraie.\\n\\n\") ;\n",
    "  else\n",
    "    printf(\"La disjonction est fausse.\\n\\n\");\n",
    "\n",
    "  printf(\"Test 4:\\n\") ;\n",
    "  if (f(false) || f(false))\n",
    "    printf(\"La disjonction est vraie.\\n\\n\") ;\n",
    "  else\n",
    "    printf(\"La disjonction est fausse.\\n\\n\");\n",
    "\n",
    "  printf(\"Test 5:\\n\") ;\n",
    "  if (f(false) && f(false))\n",
    "    printf(\"La conjonction est vraie.\\n\\n\") ;\n",
    "  else\n",
    "    printf(\"La conjonction est fausse.\\n\\n\");\n",
    "\n",
    "  printf(\"Test 6:\\n\") ;\n",
    "  if (f(true) && f(false))\n",
    "    printf(\"La conjonction est vraie.\\n\\n\") ;\n",
    "  else\n",
    "    printf(\"La conjonction est fausse.\\n\\n\");\n",
    "\n",
    "    printf(\"Test 6:\\n\") ;\n",
    "  if (f(false) && f(true))\n",
    "    printf(\"La conjonction est vraie.\\n\\n\") ;\n",
    "  else\n",
    "    printf(\"La conjonction est fausse.\\n\\n\");\n",
    "\n",
    "    printf(\"Test 8:\\n\") ;\n",
    "  if (f(true) && f(true))\n",
    "    printf(\"La conjonction est vraie.\\n\\n\") ;\n",
    "  else\n",
    "    printf(\"La conjonction est fausse.\\n\\n\");\n",
    "}"
   ]
  },
  {
   "cell_type": "code",
   "execution_count": 25,
   "id": "9dcb4d3b",
   "metadata": {
    "hidden": true,
    "scrolled": true
   },
   "outputs": [
    {
     "name": "stdout",
     "output_type": "stream",
     "text": [
      "Test 1:\n",
      "Mon argument est vrai.\n",
      "La disjonction est vraie.\n",
      "\n",
      "Test 2:\n",
      "Mon argument est vrai.\n",
      "La disjonction est vraie.\n",
      "\n",
      "Test 3:\n",
      "Mon argument est faux.\n",
      "Mon argument est vrai.\n",
      "La disjonction est vraie.\n",
      "\n",
      "Test 4:\n",
      "Mon argument est faux.\n",
      "Mon argument est faux.\n",
      "La disjonction est fausse.\n",
      "\n",
      "Test 5:\n",
      "Mon argument est faux.\n",
      "La conjonction est fausse.\n",
      "\n",
      "Test 6:\n",
      "Mon argument est vrai.\n",
      "Mon argument est faux.\n",
      "La conjonction est fausse.\n",
      "\n",
      "Test 6:\n",
      "Mon argument est faux.\n",
      "La conjonction est fausse.\n",
      "\n",
      "Test 8:\n",
      "Mon argument est vrai.\n",
      "Mon argument est vrai.\n",
      "La conjonction est vraie.\n",
      "\n"
     ]
    }
   ],
   "source": [
    "main () ;"
   ]
  },
  {
   "cell_type": "markdown",
   "id": "7902a0a8",
   "metadata": {
    "hidden": true
   },
   "source": [
    "En C, comme dans beaucoup de langages, l'évaluation des fonctions n'est PAS paresseuse:"
   ]
  },
  {
   "cell_type": "code",
   "execution_count": 26,
   "id": "e2e14f8d",
   "metadata": {
    "hidden": true
   },
   "outputs": [],
   "source": [
    "void f ( int n)\n",
    "{\n",
    "  printf(\"f: Utiliser ses arguments c'est une norme sociale de l'ancien temps.\\n \") ;\n",
    "}\n"
   ]
  },
  {
   "cell_type": "code",
   "execution_count": 27,
   "id": "76fea437",
   "metadata": {
    "hidden": true
   },
   "outputs": [],
   "source": [
    "int g ()\n",
    "{\n",
    "  printf(\"g: On m'appelle ?\\n\") ; \n",
    "  return 0 ;\n",
    "}\n"
   ]
  },
  {
   "cell_type": "code",
   "execution_count": 28,
   "id": "3029d2ae",
   "metadata": {
    "hidden": true
   },
   "outputs": [
    {
     "name": "stdout",
     "output_type": "stream",
     "text": [
      "g: On m'appelle ?\n",
      "f: Utiliser ses arguments c'est une norme sociale de l'ancien temps.\n",
      " "
     ]
    }
   ],
   "source": [
    "int main ()\n",
    "{\n",
    "  f(g()) ;\n",
    "}\n",
    "main () ;"
   ]
  },
  {
   "cell_type": "markdown",
   "id": "eca91e9a",
   "metadata": {
    "hidden": true
   },
   "source": [
    "Dans un langage avec évaluation paresseuse (comme Haskell), la ligne\n",
    "\n",
    "    \"g: On m'appelle ?\"\n",
    "n'apparaitrait pas, puisque la fonction \"f\" n'utilise jamais son argument, il est donc inutile de l'évaluer.   \n",
    "\n",
    "En OCaml, il existe une commande (lazy) qui force une évaluation à être paresseuse."
   ]
  },
  {
   "cell_type": "markdown",
   "id": "cc2f0d54",
   "metadata": {
    "heading_collapsed": true,
    "hidden": true
   },
   "source": [
    "### Passage (d'arguments) par valeurs"
   ]
  },
  {
   "cell_type": "markdown",
   "id": "d30a3e2d",
   "metadata": {
    "hidden": true
   },
   "source": [
    "On a vu plus haut que lorsque l'on appelle une fonction, ses arguments sont copiés sur la pile. \n",
    "On a même aperçu qu'ils sont copiés deux fois: une première fois au sommet de la pile pour appeler l'instruction \"call\" en assembleur (hors programme), puis copié une seconde fois dans un paramètre local."
   ]
  },
  {
   "cell_type": "code",
   "execution_count": 29,
   "id": "1f3f73bb",
   "metadata": {
    "hidden": true
   },
   "outputs": [],
   "source": [
    "int f (int x)\n",
    "{\n",
    "    printf(\"Adresse de x dans f: %lu\\n\",(long)&x) ;\n",
    "    return (x+1) ;\n",
    "}"
   ]
  },
  {
   "cell_type": "code",
   "execution_count": 30,
   "id": "62743fd0",
   "metadata": {
    "hidden": true
   },
   "outputs": [
    {
     "name": "stdout",
     "output_type": "stream",
     "text": [
      "Adresse de n dans main: 140723917529468\n",
      "Adresse de x dans f: 140723917529420\n"
     ]
    }
   ],
   "source": [
    "int main ()\n",
    "{\n",
    "    int n = 42 ;\n",
    "    printf(\"Adresse de n dans main: %lu\\n\",(long)&n) ;\n",
    "    f(n) ;\n",
    "}\n",
    "main () ;"
   ]
  },
  {
   "cell_type": "markdown",
   "id": "b895a626",
   "metadata": {
    "hidden": true
   },
   "source": [
    "Par conséquent, si la fonction \"f\" modifie son argument \"x\", elle le modifie localement et cela n'a aucune incidence sur la variable passée en argument à f (ici \"n\"): ce n'est pas la variable qui est argument, c'est sa **valeur**: on parle de **passage par valeurs**. \n",
    "Dans le code précédent, comme \"n\" vaut 42 au moment de l'appel, tout se passe exactement comme si l'on avait directement écrit \"f(42)\"."
   ]
  },
  {
   "cell_type": "code",
   "execution_count": 31,
   "id": "ba7ac7c8",
   "metadata": {
    "hidden": true
   },
   "outputs": [],
   "source": [
    "// From France IOI\n",
    "void afficheEtModifie(int parametre)\n",
    "{\n",
    "   printf(\"Début fonction : %d\\n\", parametre);\n",
    "   parametre = 68;\n",
    "   printf(\"Fin fonction : %d\\n\", parametre);\n",
    "}"
   ]
  },
  {
   "cell_type": "code",
   "execution_count": 32,
   "id": "48e5c9c0",
   "metadata": {
    "hidden": true
   },
   "outputs": [
    {
     "name": "stdout",
     "output_type": "stream",
     "text": [
      "Début programme : 42\n",
      "Début fonction : 42\n",
      "Fin fonction : 68\n",
      "Fin programme : 42\n"
     ]
    }
   ],
   "source": [
    "// From France IOI\n",
    "int main()\n",
    "{\n",
    "   int valeur = 42;\n",
    "   printf(\"Début programme : %d\\n\", valeur);\n",
    "   afficheEtModifie(valeur);\n",
    "   printf(\"Fin programme : %d\\n\", valeur);\n",
    "}\n",
    "main () ;"
   ]
  },
  {
   "cell_type": "markdown",
   "id": "68cb696f",
   "metadata": {
    "hidden": true
   },
   "source": [
    "En C, tous les appels se font par valeur. L'argument est constamment copié, ce qui a des conséquences:"
   ]
  },
  {
   "cell_type": "code",
   "execution_count": 33,
   "id": "669d0e1b",
   "metadata": {
    "hidden": true
   },
   "outputs": [],
   "source": [
    "struct hordeDeNombres {\n",
    "    int entier01 ;\n",
    "    int entier02 ;\n",
    "    int entier98 ;\n",
    "    int entier99 ;\n",
    "} ;\n",
    "\n",
    "typedef struct hordeDeNombres hDN"
   ]
  },
  {
   "cell_type": "code",
   "execution_count": 34,
   "id": "78476251",
   "metadata": {
    "hidden": true
   },
   "outputs": [],
   "source": [
    "int sum (hDN horde)\n",
    "{\n",
    "    printf(\"Adresses de la horde: %lu %lu %lu %lu \\n\", \n",
    "           (long)&horde.entier01, (long)&horde.entier02, (long)&horde.entier98, (long)&horde.entier99) ;\n",
    "    return (horde.entier01 + horde.entier02 + horde.entier98 + horde.entier99) ;\n",
    "}"
   ]
  },
  {
   "cell_type": "code",
   "execution_count": 35,
   "id": "bd2ab5ba",
   "metadata": {
    "hidden": true
   },
   "outputs": [
    {
     "name": "stdout",
     "output_type": "stream",
     "text": [
      "Adresses de la horde: 140723917529456 140723917529460 140723917529464 140723917529468 \n",
      "Adresses de la horde: 140723917529368 140723917529372 140723917529376 140723917529380 \n",
      "46\n"
     ]
    }
   ],
   "source": [
    "int main ()\n",
    "{\n",
    "    hDN horde { 12, 15, 16, 3 } ;\n",
    "    printf(\"Adresses de la horde: %lu %lu %lu %lu \\n\", \n",
    "           (long)&horde.entier01, (long)&horde.entier02, (long)&horde.entier98, (long)&horde.entier99) ;\n",
    "    printf(\"%d\\n\", sum(horde)) ;\n",
    "}\n",
    "main () ;"
   ]
  },
  {
   "cell_type": "markdown",
   "id": "8191ecef",
   "metadata": {
    "hidden": true
   },
   "source": [
    "Heureusement (?), en C il n'existe pas d'objets de grosse taille. A part les STRUCT que nous venons de voir (et en pratique on ne crée pas un type avec 1000 champs), tous les objets sont stockés sur 64 bits. En effet, les seuls types que l'on aurait pu imaginer être volumineux sont les tableaux et les chaines de caractères. Mais ces derniers sont en réalité des pointeurs vers un bloc de mémoire, et un pointeur est stocké sur 64 bits. C'est une contrainte dictée par le langage sous-jacent à C: en assembleur, la valeur de retour d'une fonction est stocké dans un registre dédiée du micro-processeur, lequel peut contenir 64 bits.\n",
    "\n",
    "\n",
    "Dans les langages plus haut niveau, certains objets sont passés par valeurs (notamment les entiers, flottants, booléens, caractères, ...) et d'autres par **référence** (on parle de *passage par référence*), notamment les plus gros objets tels que les listes, les tableaux, les dictionnaires, les arbres, ... Dans le passage par référence, la fonction ne reçoit pas une copie des arguments, mais un *lien* vers les arguments d'origine. \n",
    "Souvent, ces langages haut niveau sont compilés (traduits) vers le C, et ce \"passage par référence\" est en réalité un passage par valeur, mais d'un pointeur, et non d'une valeur. Dans la plupart des langages de haut niveau, la notion de pointeur n'existe pas, et donc on parle de *passage par référence*. Ce mode de passage des arguments présente des inconvénients:"
   ]
  },
  {
   "cell_type": "code",
   "execution_count": 36,
   "id": "e5eb1ef5",
   "metadata": {
    "hidden": true
   },
   "outputs": [],
   "source": [
    "void afficheEtModifie(int* parametre)\n",
    "{\n",
    "   printf(\"Début fonction : %d\\n\", *parametre);\n",
    "   *parametre = 68;\n",
    "   printf(\"Fin fonction : %d\\n\", *parametre);\n",
    "}"
   ]
  },
  {
   "cell_type": "code",
   "execution_count": 37,
   "id": "cea9de08",
   "metadata": {
    "hidden": true
   },
   "outputs": [
    {
     "name": "stdout",
     "output_type": "stream",
     "text": [
      "Début programme : 42\n",
      "Début fonction : 42\n",
      "Fin fonction : 68\n",
      "Fin programme : 68\n"
     ]
    }
   ],
   "source": [
    "int main()\n",
    "{\n",
    "   int valeur = 42;\n",
    "   printf(\"Début programme : %d\\n\", valeur);\n",
    "   afficheEtModifie(&valeur);\n",
    "   printf(\"Fin programme : %d\\n\", valeur);\n",
    "}\n",
    "main () ;"
   ]
  },
  {
   "cell_type": "code",
   "execution_count": 38,
   "id": "99f78bb7",
   "metadata": {
    "hidden": true
   },
   "outputs": [],
   "source": [
    "int* increment (int longueur, int tab[])\n",
    "{\n",
    "    for (int i = 0; i < longueur; i++)\n",
    "        tab[i] = tab[i]+1 ;\n",
    "    return tab ;\n",
    "}"
   ]
  },
  {
   "cell_type": "code",
   "execution_count": 39,
   "id": "095ce875",
   "metadata": {
    "hidden": true
   },
   "outputs": [
    {
     "name": "stdout",
     "output_type": "stream",
     "text": [
      "myTab = 1 2 3 4 5 6 7 8 9 10 \n",
      "myTab == newTab"
     ]
    }
   ],
   "source": [
    "int main ()\n",
    "{\n",
    "    int myTab[10] = { 0,1,2,3,4,5,6,7,8,9 } ;\n",
    "    int* newTab = increment(10, myTab) ;\n",
    "    printf(\"myTab = \") ;\n",
    "    for (int i = 0 ; i < 10; i++)\n",
    "        printf(\"%d \", myTab[i]) ;\n",
    "    printf(\"\\n\") ;\n",
    "    if (myTab == newTab)\n",
    "        printf(\"myTab == newTab\") ;\n",
    "    else\n",
    "        printf(\"myTab != newTab\") ;\n",
    "}\n",
    "main () ;"
   ]
  },
  {
   "cell_type": "markdown",
   "id": "cc3e5b73",
   "metadata": {
    "hidden": true
   },
   "source": [
    "**Illustration avec PythonTutor.**"
   ]
  },
  {
   "cell_type": "markdown",
   "id": "a38882fb",
   "metadata": {
    "heading_collapsed": true,
    "hidden": true
   },
   "source": [
    "### Simulation de valeurs de retour multiples (par passage par référence)"
   ]
  },
  {
   "cell_type": "markdown",
   "id": "72a60cd4",
   "metadata": {
    "hidden": true
   },
   "source": [
    "Le passage par référence permet également de \"simuler des valeurs de retour multiples\" (citation du programme officiel). On a déjà vu comment renvoyer plusieurs variables en les groupant dans une STRUCT. On peut également placer la valeur retournée à une adresse donnée en argument."
   ]
  },
  {
   "cell_type": "code",
   "execution_count": null,
   "id": "69d71a3a",
   "metadata": {
    "hidden": true
   },
   "outputs": [],
   "source": [
    "void f (int a, int* p, int* q, int* r)\n",
    "{\n",
    "    int x = a+1 ;\n",
    "    int y = a+2 ;\n",
    "    int z = a+3 ;\n",
    "    // Simulation de return:\n",
    "    *p = x ;\n",
    "    *q = y ;\n",
    "    *r = z ;\n",
    "}"
   ]
  },
  {
   "cell_type": "code",
   "execution_count": null,
   "id": "1739a6ac",
   "metadata": {
    "hidden": true
   },
   "outputs": [],
   "source": [
    "// cours2-12.c\n",
    "int main ()\n",
    "{\n",
    "    int a = 12 ;\n",
    "    int p ;\n",
    "    int q ;\n",
    "    int r ;\n",
    "    f(a,&p,&q,&r) ;\n",
    "    printf(\"%d %d %d\\n\",p,q,r) ;\n",
    "}\n",
    "\n",
    "main () ;"
   ]
  },
  {
   "cell_type": "markdown",
   "id": "75d7b89f",
   "metadata": {
    "heading_collapsed": true,
    "hidden": true
   },
   "source": [
    "### Saturation de la pile (StackOverflow)"
   ]
  },
  {
   "cell_type": "markdown",
   "id": "e719cd5b",
   "metadata": {
    "hidden": true
   },
   "source": [
    "Exercice: écrire un programme qui ne termine pas, le plus simple et court possible."
   ]
  },
  {
   "cell_type": "code",
   "execution_count": null,
   "id": "354e8f9c",
   "metadata": {
    "code_folding": [],
    "hidden": true
   },
   "outputs": [],
   "source": [
    "int toInfinity ()\n",
    "{\n",
    "    while (true)\n",
    "    {\n",
    "    }\n",
    "}\n",
    "toInfinity () ;"
   ]
  },
  {
   "cell_type": "code",
   "execution_count": null,
   "id": "62725054",
   "metadata": {
    "code_folding": [],
    "hidden": true
   },
   "outputs": [],
   "source": [
    "// cours2-8.c\n",
    "void andBeyond ()\n",
    "{\n",
    "    andBeyond () ;\n",
    "}\n",
    "andBeyond () ;"
   ]
  },
  {
   "cell_type": "markdown",
   "id": "40d97cc5",
   "metadata": {
    "hidden": true
   },
   "source": [
    "Pourtant, l'un de ces programme termine. Lequel ?"
   ]
  },
  {
   "cell_type": "code",
   "execution_count": 40,
   "id": "bc210220",
   "metadata": {
    "code_folding": [],
    "hidden": true
   },
   "outputs": [],
   "source": [
    "// Explication: cours2-9.c\n",
    "void andBeyond ()\n",
    "{\n",
    "  int a ;\n",
    "  printf(\"%p %lu\\n\", &a, (long)&a) ;\n",
    "  andBeyond () ;\n",
    "}"
   ]
  },
  {
   "cell_type": "code",
   "execution_count": null,
   "id": "08c920f2",
   "metadata": {
    "code_folding": [],
    "hidden": true
   },
   "outputs": [],
   "source": [
    "// Explication plus précise: cours2-10.c\n",
    "void andBeyond (int n)\n",
    "{\n",
    "  printf(\"%d %p %lu\\n\", n,&n,(long)&n) ;\n",
    "  andBeyond (n+1) ;\n",
    "}"
   ]
  },
  {
   "cell_type": "markdown",
   "id": "6805051c",
   "metadata": {
    "hidden": true
   },
   "source": [
    "Par défaut, l'exécution d'un programme est lancée avec une pile d'exécution de 8 Mb. Lorsque cette mémoire est intégralement utilisée, le sommet de la pile se situe dans une zone interdite de la mémoire: Segmentation Fault.\n",
    "\n",
    "Et comme on l'a vu plus haut, appeler une fonction occupe environ 50 cases mémoire. Sur mon ordinateur, \"andBeyond\" plante au bout d'environ 175 000 appels, 175 000 * 50 = 8 750 000 soit environ 8Mb.\n",
    "\n",
    "C'est un inconvénient des programmes récursifs: ils consomment de l'espace mémoire sur la pile. On verra en fin de premier semestre comment contourner ce problème avec la *récursion terminale*.\n",
    "\n",
    "Un exemple célèbre est la suite de Fibonacci, censée modéliser l'évolution dans le temps d'une population de lapins:\n",
    "- $u_0 = u_1 = 1$,\n",
    "- $u_{n+2} = u_{n+1} + u_n$.\n",
    "    "
   ]
  },
  {
   "cell_type": "code",
   "execution_count": null,
   "id": "1c1cd297",
   "metadata": {
    "hidden": true
   },
   "outputs": [],
   "source": [
    "// cours2-13.c\n",
    "int fibonacci(int n)\n",
    "{\n",
    "    if (n==0 || n==1)\n",
    "        return 1 ;\n",
    "    else\n",
    "        return (fibonacci(n-1) + fibonacci(n-2)) ;\n",
    "}"
   ]
  },
  {
   "cell_type": "code",
   "execution_count": null,
   "id": "8b69df1f",
   "metadata": {
    "hidden": true
   },
   "outputs": [],
   "source": [
    "printf(\"%d\\n\",fibonacci(24)) ;"
   ]
  },
  {
   "cell_type": "markdown",
   "id": "e12be106",
   "metadata": {
    "hidden": true
   },
   "source": [
    "Sur mon ordinateur, ça Segfault à 140 000. Les ressources du serveur sont différentes semble-t-il.\n",
    "Voir cours2-13.c."
   ]
  },
  {
   "cell_type": "markdown",
   "id": "e8f9f196",
   "metadata": {
    "heading_collapsed": true,
    "hidden": true
   },
   "source": [
    "### Ce qu'il faut retenir:"
   ]
  },
  {
   "cell_type": "markdown",
   "id": "0c2b5a41",
   "metadata": {
    "hidden": true
   },
   "source": [
    "Lors de l'exécution d'un programme, le système d'exploitation alloue un espace mémoire relativement restreint (8 Mb) réservé au programme, que l'on appelle la pile (stack en anglais). Le programme y stocke:\n",
    "- les variables locales,\n",
    "- tout un tas d'information nécessaires lors d'un appel de fonction.\n",
    "\n",
    "Le premier point explique la portée des variables: les variables locales d'une fonction qui se termine sont dépilées, elles disparaissent. Il faut retenir le second point pour se souvenir que les programmes récursifs consomment de la mémoire: les appels imbriqués les uns dans les autres accumulent des informations sur la pile.\n",
    "\n",
    "\n",
    "Il faut également retenir les concepts de passage par valeurs et référence. Notamment qu'en C, les arguments sont copiés. Mais lorsque l'on se passe un pointeur en argument (une \"référence\"), c'est bel et bien un pointeur vers la copie originale, les modifications ont donc lieu sur l'originale."
   ]
  },
  {
   "cell_type": "markdown",
   "id": "f115764e",
   "metadata": {
    "heading_collapsed": true,
    "hidden": true
   },
   "source": [
    "### Stackoverflow"
   ]
  },
  {
   "cell_type": "markdown",
   "id": "636b816e",
   "metadata": {
    "hidden": true
   },
   "source": [
    "https://stackoverflow.com/ est un forum d'entraide pour développeurs dont les informations sont fiables. \n",
    "Ce site fait partie du réseau https://stackexchange.com/, la version math a également très bonne réputation: https://math.stackexchange.com/\n"
   ]
  },
  {
   "cell_type": "markdown",
   "id": "62cc71f0",
   "metadata": {},
   "source": [
    "## Les tableaux: C pas si facile ..."
   ]
  },
  {
   "cell_type": "markdown",
   "id": "a98ccad7",
   "metadata": {
    "heading_collapsed": true
   },
   "source": [
    "### Stackoverflow (again !)"
   ]
  },
  {
   "cell_type": "markdown",
   "id": "cc8f6b34",
   "metadata": {
    "hidden": true
   },
   "source": [
    "Au paragraphe précédent, on a provoqué une \"stack overflow\" en saturant la pile avec des appels de fonctions. \n",
    "Avec quoi d'autre pouvons nous saturer la pile d'exécution ?"
   ]
  },
  {
   "cell_type": "code",
   "execution_count": null,
   "id": "8c563287",
   "metadata": {
    "hidden": true
   },
   "outputs": [],
   "source": [
    "// cours2-14.c\n",
    "// Ne fonctionne pas ici. Je ne connais pas les ressources de ce serveur, \n",
    "// manifestement pas celles par défaut\n",
    "int main ()\n",
    "{\n",
    "    int tab[2100000] ;\n",
    "}"
   ]
  },
  {
   "cell_type": "markdown",
   "id": "be93d774",
   "metadata": {
    "heading_collapsed": true
   },
   "source": [
    "### Mon tableau a disparu !"
   ]
  },
  {
   "cell_type": "code",
   "execution_count": 41,
   "id": "c2fe913e",
   "metadata": {
    "hidden": true
   },
   "outputs": [
    {
     "name": "stderr",
     "output_type": "stream",
     "text": [
      "input_line_47:8:12: warning: address of stack memory associated with local variable 'tab' returned [-Wreturn-stack-address]\n",
      "    return tab ;\n",
      "           ^~~\n"
     ]
    }
   ],
   "source": [
    "int* initTableau () \n",
    "{\n",
    "    int tab[6] ;\n",
    "    printf(\"Entrez 6 entiers: \") ;\n",
    "    for (int i = 0; i < 6; i++)\n",
    "        // scanf(\"%d\", &tab[i]) ;\n",
    "        tab[i] = i ;\n",
    "    return tab ;\n",
    "}"
   ]
  },
  {
   "cell_type": "code",
   "execution_count": 42,
   "id": "e332ef4b",
   "metadata": {
    "hidden": true
   },
   "outputs": [],
   "source": [
    "void traitementTableau (int longueur, int tab[longueur])\n",
    "{\n",
    "    int a = 27 ;\n",
    "    int b = 37 ;\n",
    "    int c = 47 ;\n",
    "    int d = 57 ;\n",
    "    for (int i = 0; i < longueur; i++)\n",
    "        tab[i] = 2*tab[i] ;\n",
    "}"
   ]
  },
  {
   "cell_type": "code",
   "execution_count": 43,
   "id": "31e7c733",
   "metadata": {
    "hidden": true
   },
   "outputs": [],
   "source": [
    "int main ()\n",
    "{\n",
    "    int* tab = initTableau() ;\n",
    "    traitementTableau(6, tab) ;\n",
    "    printf(\"tab = %d %d %d %d %d %d\\n\", tab[0],tab[1],tab[2],tab[3],tab[4],tab[5]) ;\n",
    "}"
   ]
  },
  {
   "cell_type": "code",
   "execution_count": 44,
   "id": "b9addc73",
   "metadata": {
    "hidden": true
   },
   "outputs": [
    {
     "name": "stdout",
     "output_type": "stream",
     "text": [
      "Entrez 6 entiers: tab = 0 6 57 94 74 54\n"
     ]
    }
   ],
   "source": [
    "main () ;"
   ]
  },
  {
   "cell_type": "markdown",
   "id": "6c588b99",
   "metadata": {
    "hidden": true
   },
   "source": [
    "Conclusion: la structure \"chronologique\" de la pile est incompatible avec les objets dont on souhaite qu'ils restent longtemps en mémoire (au delà de la portée de la variable). C'est notamment un problème avec les objets que l'on ne peut pas copier.\n",
    "\n",
    "La solution: **le tas !**"
   ]
  },
  {
   "cell_type": "markdown",
   "id": "7f3634da",
   "metadata": {
    "heading_collapsed": true
   },
   "source": [
    "## Le tas (heap), Malloc, Free"
   ]
  },
  {
   "cell_type": "markdown",
   "id": "ddb99633",
   "metadata": {
    "hidden": true
   },
   "source": [
    "Comme son nom l'indique, le tas est moins \"ordonné\" que la pile. \n",
    "La pile a une structure: les objets les plus récents se trouvent au sommet de la pile, et lorsqu'on \"descend\" dans la pile, on accède à des variables déclarées plus tôt. \n",
    "Dans le tas en revanche, aucune structure. Il est impossible d'y trouver quelque chose sans connaitre exactement son adresse. Pour demander au système un espace mémoire sur le tas, on utilise la fonction \"malloc\" (memory allocation), dont le seul argument est le nombre d'octets demandés. Attention, il faut charger la librairie stdlib pour pouvoir utiliser malloc."
   ]
  },
  {
   "cell_type": "code",
   "execution_count": null,
   "id": "86af3a65",
   "metadata": {
    "hidden": true
   },
   "outputs": [],
   "source": [
    "#include <stdlib.h>\n",
    "int* p ;\n",
    "for (int i = 0; i < 10; i++)\n",
    "{\n",
    "    p = (int*)(malloc(sizeof(int))) ;\n",
    "    printf(\"Adresse de p: %p   %lu ;   Valeur de p: %d \\n\", p, (long)(p), *p) ; \n",
    "    free(p) ;\n",
    "}"
   ]
  },
  {
   "cell_type": "markdown",
   "id": "febe08c5",
   "metadata": {
    "hidden": true
   },
   "source": [
    "Le système se souvient de quels sont les espaces mémoire *alloués* et ceux qui sont *libres*. Lorsque la fonction malloc est appelée, elle renvoie l'adresse d'un espace libre et le système note alors cet espace comme alloué. \n",
    "Si l'on itère suffisament la boucle du programme ci dessus, le système va nous allouer toute la mémoire; la fonction malloc va alors échouer car il n'y a plus d'espace libre.\n",
    "\n",
    "Si un programme a réellement besoin d'autant de mémoire (ça ne sera pas le cas en CPGE), on l'exécute sur une machine spécifique avec davantage de RAM. Mais la plupart du temps, une consommation excessive de mémoire provient d'une **fuite mémoire**: votre programme alloue de l'espace sans jamais le **libérer**. Pour libérer un espace alloué, on utilise la fonction \"free()\". Contrairement aux variables locales qui ont une durée de vie (dictée par le fonctionnement de la pile), les objets sur le tas y persiste jusqu'à la fin d'exécution du programme. Il faut donc manuellement \"mettre fin à leur vie\" lorsqu'ils ne seront plus utilisés.\n",
    "\n",
    "**A tout appel de \"malloc\" doit donc correspondre un appel de \"free\".**"
   ]
  },
  {
   "cell_type": "code",
   "execution_count": null,
   "id": "e57430de",
   "metadata": {
    "hidden": true
   },
   "outputs": [],
   "source": [
    "// PythonTutor !!!\n",
    "// cours2-33.c\n",
    "int* initTableau (int* longueur) \n",
    "{\n",
    "    printf(\"Combien de nombres allez-vous entrer ? \") ;\n",
    "    int n ;\n",
    "    // scanf(\"%d\",&n) ;\n",
    "    n = 28 ;\n",
    "    printf(\"28\\n\") ;\n",
    "    printf(\"Entrez %d nombres, un par ligne.\\n\",n) ;\n",
    "    // Conversion obligatoire ici ?\n",
    "    int* tab = (int*)(malloc(sizeof(int)*n)) ; \n",
    "    for (int i = 0; i < n; i++)\n",
    "        // scanf(\"%d\", &tab[i]) ;\n",
    "        tab[i] = i ;\n",
    "    *longueur = n ; // Retour multiple\n",
    "    return tab ;\n",
    "}"
   ]
  },
  {
   "cell_type": "code",
   "execution_count": null,
   "id": "5a559217",
   "metadata": {
    "hidden": true
   },
   "outputs": [],
   "source": [
    "void traitementTableau (int longueur, int tab[longueur])\n",
    "{\n",
    "    for (int i = 0; i < longueur; i++)\n",
    "        tab[i] = 2*tab[i] ;\n",
    "}"
   ]
  },
  {
   "cell_type": "code",
   "execution_count": null,
   "id": "43e8b171",
   "metadata": {
    "hidden": true
   },
   "outputs": [],
   "source": [
    "int main ()\n",
    "{\n",
    "    int longueur ;\n",
    "    int* tab = initTableau(&longueur) ;\n",
    "    traitementTableau(longueur, tab) ;\n",
    "    printf(\"tab = \") ;\n",
    "    for (int i = 0; i < longueur; i++)\n",
    "        printf(\"%d \", tab[i]) ;\n",
    "    // LIGNE IMPORTANTE:\n",
    "    free(tab) ;\n",
    "}"
   ]
  },
  {
   "cell_type": "code",
   "execution_count": null,
   "id": "8cede0fd",
   "metadata": {
    "hidden": true,
    "scrolled": true
   },
   "outputs": [],
   "source": [
    "main () ;"
   ]
  },
  {
   "cell_type": "markdown",
   "id": "7affc528",
   "metadata": {
    "hidden": true
   },
   "source": [
    "Techniquement, le type de retour de la fonction \"malloc\" est \"void*\", soit un pointeur vers une donnée de type void. Or ici, mon tableau est de type \"int*\", d'où la conversion explicite. D'après votre programme officiel, c'est le seul cas où vous êtes censés utiliser des conversions: \n",
    "\n",
    "    \"Transtypage de données depuis et vers le type void* dans l’optique stricte de l’utilisation de fonctions comme malloc.\"\n",
    "    \n",
    "Ceci étant dit, sur ce serveur (avec noyau C++) j'ai un warning si j'omets la conversion explicite, je n'en ai pas avec gcc. "
   ]
  },
  {
   "cell_type": "markdown",
   "id": "1b6d6670",
   "metadata": {
    "hidden": true
   },
   "source": [
    "Remarque: j'aurais voulu illustrer la fuite mémoire, mais j'ai eu pitié pour ma machine. Plusieurs erreurs sont possibles:\n",
    "- \"Malloc cannot allocate region\"\n",
    "- \"Malloc cannot allocate memory\"\n",
    "- malloc retourne le pointeur NULL, auquel cas l'erreur est un Segmentation Fault\n",
    "\n",
    "\n",
    "Le tas est bien plus large que la pile: par défaut le système doit allouer environ 1Gb de RAM. Il est donc peu probable que vous ayiez l'une de ces erreurs en CPGE, et ce même si vous ne libérez pas votre mémoire. Il est néanmoins indispensable d'écrire les choses correctement tout de même, pour convaincre vos correcteurs que vous avez compris le fonctionnement. Et pour être tout à fait correct, il faut envisager que \"malloc\" renvoie le pointeur NULL en cas de saturation du tas. Je vous recommande donc de toujours vérifier que ce n'est pas le cas. On peut le faire avec un \"if\" mais l'écriture la plus concise et claire reste:\n",
    "\n",
    "    int* p = malloc(12) ;\n",
    "    assert(p != NULL) ;"
   ]
  },
  {
   "cell_type": "markdown",
   "id": "7f650565",
   "metadata": {
    "hidden": true
   },
   "source": [
    "**Ce qu'il faut retenir**: lors de l'exécution d'un programme, l'OS alloue deux espaces dans la mémoire: la pile (stack) et le tas (heap). La pile est utilisée comme une pile \"on y empile\" les données que l'on veut stocker, dans l'ordre où elles interviennent dans le programme. Le tas ressemble davantage à votre chambre d'étudiant et sert à stocker des données non-copiables de manière persistente. \n",
    "\n",
    "Dès que les tableaux sont grands, voire de taille non pré-déterminée (non déterminée à la compilation), il convient de les placer sur le tas, en utilisant la fonction \"malloc\". Il faut absolument libérer (avec \"free\") la mémoire allouée avec \"malloc\" dès qu'elle ne sera plus utilisée. Il faut toujours vérifier que \"malloc\" ne renvoie pas un pointeur nul.\n",
    "\n",
    "Pour les tableaux statiques (définis sur la pile) il faut également faire attention à leur \"disparition\": leur durée de vie est la même que celle d'une variable classique. Comme \"main\" est la première et dernière fonction appelée (outtermost dans l'arbre d'appels), les variables locales de \"main\" ne seront jamais dépilées avant la fin du programme. C'est donc une solution pour la persistance du tableau, mais cette solution n'est pas viable pour un projet de taille conséquente."
   ]
  },
  {
   "cell_type": "code",
   "execution_count": null,
   "id": "5c6e9f78",
   "metadata": {
    "hidden": true
   },
   "outputs": [],
   "source": [
    "void initTableau (int longueur, int* tab) \n",
    "{\n",
    "    printf(\"Entrez %d entiers: \",longueur) ;\n",
    "    for (int i = 0; i < longueur; i++)\n",
    "        // scanf(\"%d\", &tab[i]) ;\n",
    "        tab[i] = i ;\n",
    "}"
   ]
  },
  {
   "cell_type": "code",
   "execution_count": null,
   "id": "40695656",
   "metadata": {
    "hidden": true
   },
   "outputs": [],
   "source": [
    "int main ()\n",
    "{\n",
    "    int tab[6] ;\n",
    "    initTableau(6,tab) ;\n",
    "    traitementTableau(6, tab) ;\n",
    "    printf(\"tab = \") ;\n",
    "    for (int i = 0; i < 6; i++)\n",
    "        printf(\"%d \", tab[i]) ;\n",
    "}"
   ]
  },
  {
   "cell_type": "markdown",
   "id": "3cad8536",
   "metadata": {
    "hidden": true
   },
   "source": [
    "Souvenez-vous bien que les tableaux sont \"passés par référence\" (car ils SONT en réalité des références), ainsi le tableau d'origine et modifié par la fonction \"traitementTableau\"."
   ]
  },
  {
   "cell_type": "markdown",
   "id": "8d2ec187",
   "metadata": {
    "heading_collapsed": true
   },
   "source": [
    "## Quelques précisions sur les tableaux "
   ]
  },
  {
   "cell_type": "markdown",
   "id": "5ac2492e",
   "metadata": {
    "heading_collapsed": true,
    "hidden": true
   },
   "source": [
    "### Tableaux en argument d'une fonction"
   ]
  },
  {
   "cell_type": "markdown",
   "id": "e80a1821",
   "metadata": {
    "hidden": true
   },
   "source": [
    "Les 3 lignes suivantes sont équivalentes pour passer un tableau en argument: \n",
    "\n",
    "    type f(int longueur, int* tab) \n",
    "    type f(int longueur, int tab[])\n",
    "    type f(int longueur, int tab[longueur])\n",
    "    \n",
    "La 3e ligne donne une indication au développeur, mais aucune vérification n'est effectuée: si tab n'est pas de longueur \"longueur\", cela ne pose aucun problème."
   ]
  },
  {
   "cell_type": "code",
   "execution_count": null,
   "id": "5ff03c05",
   "metadata": {
    "hidden": true
   },
   "outputs": [],
   "source": [
    "//int f(int longueur, int* tab) \n",
    "// int f(int longueur, int tab[])\n",
    "//int f(int longueur, int tab[longueur])\n",
    "// int f(int tab[], int longueur)  // On peut inverser l'ordre des arguments, sauf pour la 3e ligne.\n",
    "{\n",
    "    return(tab[longueur-1]) ;\n",
    "}"
   ]
  },
  {
   "cell_type": "code",
   "execution_count": null,
   "id": "d0e176cf",
   "metadata": {
    "hidden": true
   },
   "outputs": [],
   "source": [
    "int main()\n",
    "{\n",
    "    int tab[10] = { 1,2,3,34,4,5,6,7,7,54 } ;\n",
    "    printf(\"%d\\n\",f(10,tab)) ;\n",
    "}\n",
    "main () ;"
   ]
  },
  {
   "cell_type": "markdown",
   "id": "5580bd44",
   "metadata": {
    "heading_collapsed": true,
    "hidden": true
   },
   "source": [
    "### Conflit avec le programme officiel"
   ]
  },
  {
   "cell_type": "markdown",
   "id": "a634d750",
   "metadata": {
    "hidden": true
   },
   "source": [
    "J'insiste encore une fois: l'instruction\n",
    "\n",
    "    int tab[12] ;\n",
    "    \n",
    "crée le tableau sur la pile. Il faut soigneusement vérifier que la durée de vie de cette variable est celle attendue, et **n'utiliser cette syntaxe qu'avec des valeurs numériques**. Interdiction formelle d'écrire:\n",
    "\n",
    "    int tab[n] ;\n",
    "    \n",
    "et ce **même si vous déclarer à la ligne précédente**\n",
    "\n",
    "    int n = 12 ;\n",
    "    \n",
    "La syntaxe \"int tab[n]\" existe en C et est acceptée. C'est moi qui vous l'interdit, pas le langage. Je détaille plus bas. Le programme officiel autorise (et encourage) le code suivant:"
   ]
  },
  {
   "cell_type": "code",
   "execution_count": null,
   "id": "615020ca",
   "metadata": {
    "hidden": true
   },
   "outputs": [],
   "source": [
    "const int n = 12 ;\n",
    "int tab[n] ;"
   ]
  },
  {
   "cell_type": "markdown",
   "id": "5a290c89",
   "metadata": {
    "hidden": true
   },
   "source": [
    "Je vous interdit cette syntaxe malgré tout. Le mot clé \"const\" force la variable à rester constante, il n'est plus possible d'affecter une valeur à n:"
   ]
  },
  {
   "cell_type": "code",
   "execution_count": null,
   "id": "c74e130c",
   "metadata": {
    "hidden": true
   },
   "outputs": [],
   "source": [
    "const int n = 12 ;\n",
    "n = 13 ;"
   ]
  },
  {
   "cell_type": "markdown",
   "id": "fddf1c9c",
   "metadata": {
    "hidden": true
   },
   "source": [
    "Je m'attends à ce que les correcteurs aient comme consigne de sanctionner la syntaxe \"int tab[n]\", sans même vérifier si la variable \"n\" a été définie comme constante avec le mot clé \"const\". Si votre tableau n'a pas une taille qui est un entier numérique, alors vous **devez** passer par la fonction malloc et l'allocation dynamique sur le tas."
   ]
  },
  {
   "cell_type": "code",
   "execution_count": null,
   "id": "981bd7bd",
   "metadata": {
    "hidden": true
   },
   "outputs": [],
   "source": [
    "int n = 12 ;\n",
    "int* tab = (int*)(malloc(sizeof(int)*12)) ;"
   ]
  },
  {
   "cell_type": "markdown",
   "id": "09e3f814",
   "metadata": {
    "hidden": true
   },
   "source": [
    "### Copier un tableau, subtilité de typage"
   ]
  },
  {
   "cell_type": "markdown",
   "id": "125accad",
   "metadata": {
    "hidden": true
   },
   "source": [
    "En C, toutes les instructions du langages sont élémentaires. Il n'existe pas de commande qui se traduisent en réalité en un grand nombre d'opérations machine. Par conséquent, il est impossible de copier un tableau en une seule instruction, il faut pour cela faire une boucle."
   ]
  },
  {
   "cell_type": "code",
   "execution_count": null,
   "id": "b38f3319",
   "metadata": {
    "hidden": true
   },
   "outputs": [],
   "source": [
    "int tab1[5] = { 1,2,3,4,5 } ;\n",
    "int tab2[5] ;\n",
    "tab2 = tab1 ;"
   ]
  },
  {
   "cell_type": "markdown",
   "id": "ecb601bf",
   "metadata": {
    "hidden": true
   },
   "source": [
    "Pourtant, lorsque l'on défini un tableau dynamiquement, on le définit comme un pointeur, et à ce moment là ce n'est plus interdit:"
   ]
  },
  {
   "cell_type": "code",
   "execution_count": null,
   "id": "df849fa2",
   "metadata": {
    "hidden": true
   },
   "outputs": [],
   "source": [
    "int* tab1 = (int*)(malloc(sizeof(int)*5)) ;\n",
    "tab1[0] = 1; tab1[1] = 2; tab1[2] = 3; tab1[3] = 4; tab1[4] = 5 ;\n",
    "int* tab2 ;\n",
    "tab2 = tab1 ;\n",
    "printf(\"tab1 = %d %d %d %d %d\\n\", tab1[0], tab1[1], tab1[2], tab1[3], tab1[4]) ;\n",
    "printf(\"tab2 = %d %d %d %d %d\\n\", tab2[0], tab2[1], tab2[2], tab2[3], tab2[4]) ;"
   ]
  },
  {
   "cell_type": "markdown",
   "id": "b2cbe0e4",
   "metadata": {
    "hidden": true
   },
   "source": [
    "Mais l'effet produit par cette affectation n'est peut être pas celui que vous imaginiez (notamment ce n'est PAS une copie): "
   ]
  },
  {
   "cell_type": "code",
   "execution_count": null,
   "id": "bf9ca6e2",
   "metadata": {
    "hidden": true
   },
   "outputs": [],
   "source": [
    "// PythonTutor\n",
    "tab2[0] = 12;\n",
    "tab2[1] = 17;\n",
    "tab2[2] = 24 ;\n",
    "printf(\"tab1 = %d %d %d %d %d\\n\", tab1[0], tab1[1], tab1[2], tab1[3], tab1[4]) ;\n",
    "printf(\"tab2 = %d %d %d %d %d\\n\", tab2[0], tab2[1], tab2[2], tab2[3], tab2[4]) ;"
   ]
  },
  {
   "cell_type": "markdown",
   "id": "c9a6ee76",
   "metadata": {
    "hidden": true
   },
   "source": [
    "Le type \"array\" n'existe pas vraiment, le compilateur distingue \"int*\" et \"array\" pour vous protéger d'erreur telle que celle-ci. Mais cette sécurité disparait dès que vous passez à travers une fonction. En effet, les syntaxes du 2.8.1 sont équivalentes, la fonction appelée voit votre tableau comme un int*, ni plus ni moins. Elle n'a aucun moyen de savoir que c'était un tableau à l'origine:"
   ]
  },
  {
   "cell_type": "code",
   "execution_count": null,
   "id": "4ef141ba",
   "metadata": {
    "hidden": true
   },
   "outputs": [],
   "source": [
    "void f(int longueur, int tab1[], int tab2[]) \n",
    "{\n",
    "    tab2 = tab1 ;\n",
    "    printf(\"Dans f: tab1 = %d %d %d %d %d\\n\", tab1[0], tab1[1], tab1[2], tab1[3], tab1[4]) ;\n",
    "    printf(\"Dans f: tab1 = %d %d %d %d %d\\n\", tab2[0], tab2[1], tab2[2], tab2[3], tab2[4]) ;\n",
    "}"
   ]
  },
  {
   "cell_type": "code",
   "execution_count": null,
   "id": "5ea836ed",
   "metadata": {
    "hidden": true
   },
   "outputs": [],
   "source": [
    "int main()\n",
    "{\n",
    "    int tab1[5] = { 1,2,3,4,5 } ;\n",
    "    int tab2[5] ;\n",
    "    f(5,tab1, tab2) ;\n",
    "    // tab2 = tab1 ;\n",
    "    printf(\"Dans main: tab1 = %d %d %d %d %d\\n\", tab1[0], tab1[1], tab1[2], tab1[3], tab1[4]) ;\n",
    "    printf(\"Dans main: tab1 = %d %d %d %d %d\\n\", tab2[0], tab2[1], tab2[2], tab2[3], tab2[4]) ;\n",
    "    return 0 ;\n",
    "}\n",
    "main () ;"
   ]
  },
  {
   "cell_type": "markdown",
   "id": "16e0a322",
   "metadata": {
    "heading_collapsed": true
   },
   "source": [
    "## Quelques précisions sur les structures"
   ]
  },
  {
   "cell_type": "markdown",
   "id": "331beb21",
   "metadata": {
    "hidden": true
   },
   "source": [
    "### Passage par valeurs et copie"
   ]
  },
  {
   "cell_type": "markdown",
   "id": "1871f1ed",
   "metadata": {
    "hidden": true
   },
   "source": [
    "Comme pour les objets élémentaires du langage, les éléments de type \"STRUCT trucmuche\" sont passés par valeurs: ils sont notamment copiés lorsqu'ils sont passés en argument, ou renvoyé par \"return\":"
   ]
  },
  {
   "cell_type": "code",
   "execution_count": null,
   "id": "4407f645",
   "metadata": {
    "hidden": true
   },
   "outputs": [],
   "source": [
    "struct montype { int champ1; int champ2 ;} ;\n",
    "typedef struct montype montype ;"
   ]
  },
  {
   "cell_type": "code",
   "execution_count": null,
   "id": "5a46bb93",
   "metadata": {
    "hidden": true
   },
   "outputs": [],
   "source": [
    "void stackScribbler ()\n",
    "{\n",
    "    int a = 12 ;\n",
    "    int b = 12 ;\n",
    "    int c = 12 ;\n",
    "    int d = 12 ;\n",
    "    int e = 12 ;\n",
    "    printf(\"Scribbled over: %lu %lu %lu %lu %lu\\n\"\n",
    "           , (long)&a, (long)&b, (long)&c, (long)&d, (long)&e) ;\n",
    "}"
   ]
  },
  {
   "cell_type": "code",
   "execution_count": null,
   "id": "b2a581d6",
   "metadata": {
    "hidden": true
   },
   "outputs": [],
   "source": [
    "montype init (int n, int m)\n",
    "{\n",
    "  montype mavar;\n",
    "  mavar.champ1 = n;\n",
    "  mavar.champ2 = m;\n",
    "  printf(\"Adresse de mavar (dans init): %lu %lu %lu\\n\"\n",
    "         ,(long)&mavar, (long)&mavar.champ1, (long)&mavar.champ2) ;\n",
    "  return mavar;\n",
    "}"
   ]
  },
  {
   "cell_type": "code",
   "execution_count": null,
   "id": "fefb3a1a",
   "metadata": {
    "hidden": true
   },
   "outputs": [],
   "source": [
    "int main()\n",
    "{\n",
    "  montype monobjet = init (42,12) ;\n",
    "  stackScribbler () ;\n",
    "  printf(\"Adresse et valeur de monobjet (dans main): %lu %d %d\\n\"\n",
    "         , (long)&monobjet, monobjet.champ1, monobjet.champ2) ;\n",
    "}\n",
    "main () ;"
   ]
  },
  {
   "cell_type": "markdown",
   "id": "37641876",
   "metadata": {
    "hidden": true
   },
   "source": [
    "A priori, un objet de type \"STRUCT montype\" peut être assez volumineux, comme un tableau. Pourquoi alors est-ce que le langage sait les copier, mais pas les tableaux ? Parce que la taille est statiquement connue: elle est fixée lors de la définition du type:"
   ]
  },
  {
   "cell_type": "code",
   "execution_count": null,
   "id": "99a8810c",
   "metadata": {
    "hidden": true
   },
   "outputs": [],
   "source": [
    "printf(\"%lu\", sizeof(montype)) ;"
   ]
  },
  {
   "cell_type": "markdown",
   "id": "dd3c21aa",
   "metadata": {
    "hidden": true
   },
   "source": [
    "alors que tous les tableaux ont le même type, et donc le type ne suffit pas à indiquer la taille. D'ailleurs, le langage sait faire de la copie de structure:"
   ]
  },
  {
   "cell_type": "code",
   "execution_count": null,
   "id": "82a580d5",
   "metadata": {
    "hidden": true
   },
   "outputs": [],
   "source": [
    "montype obj1 = { 1, 2 } ;\n",
    "montype obj2 = obj1 ;\n",
    "montype obj3 ;\n",
    "obj3 = obj2 ;\n",
    "printf(\"Obj1 = %d %d \\n\", obj1.champ1, obj1.champ2) ;\n",
    "printf(\"Obj2 = %d %d \\n\", obj2.champ1, obj2.champ2) ;\n",
    "printf(\"Obj3 = %d %d \\n\", obj3.champ1, obj3.champ2) ;\n",
    "printf(\"On modifie l'objet 1 et l'objet 3.\\n\") ;\n",
    "obj3.champ1 = 36 ;\n",
    "obj1.champ2 = 42 ;\n",
    "printf(\"Obj1 = %d %d \\n\", obj1.champ1, obj1.champ2) ;\n",
    "printf(\"Obj2 = %d %d \\n\", obj2.champ1, obj2.champ2) ;\n",
    "printf(\"Obj3 = %d %d \\n\", obj3.champ1, obj3.champ2) ;"
   ]
  },
  {
   "cell_type": "markdown",
   "id": "966135bc",
   "metadata": {
    "hidden": true
   },
   "source": [
    "### Passage par référence"
   ]
  },
  {
   "cell_type": "markdown",
   "id": "39b1732e",
   "metadata": {
    "hidden": true
   },
   "source": [
    "Si on veut malgré tout minimiser la copie de données, on peut utiliser des pointeurs et ne de passer que la référence des STRUCT en argument et return. La mise en oeuvre est la même que pour les tableaux:"
   ]
  },
  {
   "cell_type": "code",
   "execution_count": null,
   "id": "6a45d3bc",
   "metadata": {
    "hidden": true
   },
   "outputs": [],
   "source": [
    "montype* init (int n, int m)\n",
    "{\n",
    "  montype* p = (montype*)(malloc(sizeof(montype))) ;\n",
    "  (*p).champ1 = n; // Les parenthèses sont obligatoires.\n",
    "  p->champ2 = m; // Syntaxe alternative.\n",
    "  printf(\"Adresse et valeur de p: %lu %lu\\n\",(long)&p,(long)p);\n",
    "  return p;\n",
    "}"
   ]
  },
  {
   "cell_type": "code",
   "execution_count": null,
   "id": "29c5b34d",
   "metadata": {
    "hidden": true
   },
   "outputs": [],
   "source": [
    "int main()\n",
    "{\n",
    "  montype* p = init (42,12) ;\n",
    "  stackScribbler () ;\n",
    "  printf(\"Adresse et valeur de p (dans main): %lu %lu\\n\", (long)&p, (long)p) ;\n",
    "  printf(\"Valeur des champs (dans main): %d %d\\n\",p->champ1, (*p).champ2) ;\n",
    "  free(p) ;\n",
    "}\n",
    "main () ;"
   ]
  },
  {
   "cell_type": "markdown",
   "id": "54d9dd5e",
   "metadata": {
    "hidden": true
   },
   "source": [
    "Erreurs classiques sur ce code:\n",
    "- garder le même format que dans le 2.9.1 et simplement retourner \"&mavar\" dans la fonction \"init\": cela retourne effectivement l'adresse où est stocké l'objet \"mavar\", mais ce dernier va être écrasé par \"stackScribbler\".\n",
    "- Ligne 3 de la fonction \"init\" du paragraphe 2.9.2: déclarer le pointeur sans l'initialiser:\n",
    "    \n",
    "    montype* p ;\n",
    "    \n",
    "Il est alors initialiser à NULL ou à une valeur aléatoire, et les affectations\n",
    "\n",
    "    (*p).champ1\n",
    "    (*p).champ2\n",
    "échouent (tentative d'accéder à une adresse invalide: segmentation fault)."
   ]
  },
  {
   "cell_type": "markdown",
   "id": "987246db",
   "metadata": {
    "heading_collapsed": true
   },
   "source": [
    "## Bonus Fonte de Cerveaux: interaction STRUCT et Tableaux"
   ]
  },
  {
   "cell_type": "markdown",
   "id": "26fce7df",
   "metadata": {
    "hidden": true
   },
   "source": [
    "Dans l'exemple de \"profilEleve\" présenté au cours précédent pour illustrer les STRUCT, on avait des chaines de caractères dans la structure (pour le nom et commentaires). En C, les chaines de caractères sont ni plus ni moins que des tableaux de char, nous avions donc un tableau dans une STRUCT. Il y a deux implémentations possibles:"
   ]
  },
  {
   "cell_type": "code",
   "execution_count": null,
   "id": "f2589811",
   "metadata": {
    "hidden": true
   },
   "outputs": [],
   "source": [
    "struct type1 { int tab[5] ; };\n",
    "typedef struct type1 type1 ;\n",
    "struct type2 { int* tab ; } ;\n",
    "typedef struct type2 type2 ;"
   ]
  },
  {
   "cell_type": "markdown",
   "id": "163c2621",
   "metadata": {
    "hidden": true
   },
   "source": [
    "### Taille des objets:"
   ]
  },
  {
   "cell_type": "markdown",
   "id": "794f32e6",
   "metadata": {
    "hidden": true
   },
   "source": [
    "Prévoir le résultat de ces commandes:"
   ]
  },
  {
   "cell_type": "code",
   "execution_count": null,
   "id": "51b0b0e6",
   "metadata": {
    "hidden": true,
    "scrolled": true
   },
   "outputs": [],
   "source": [
    "printf(\"Taille du type1: %lu\\n\", sizeof(type1)) ;\n",
    "printf(\"Taille du type2: %lu\\n\", sizeof(type2)) ;"
   ]
  },
  {
   "cell_type": "markdown",
   "id": "acd595fa",
   "metadata": {
    "hidden": true
   },
   "source": [
    "### Initialisation, accès et modification des objets:"
   ]
  },
  {
   "cell_type": "code",
   "execution_count": null,
   "id": "8df5efd2",
   "metadata": {
    "hidden": true
   },
   "outputs": [],
   "source": [
    "type1 obj1 = { {1,2,3,4,5} } ; // fonctionne"
   ]
  },
  {
   "cell_type": "code",
   "execution_count": null,
   "id": "06ba8a3f",
   "metadata": {
    "hidden": true
   },
   "outputs": [],
   "source": [
    "type2 obj2 = { { 1,2,3,4,5} } ; // ne fonctionne pas"
   ]
  },
  {
   "cell_type": "code",
   "execution_count": null,
   "id": "af103e36",
   "metadata": {
    "hidden": true
   },
   "outputs": [],
   "source": [
    "int montab[5] = {1,2,3,4,5} ;\n",
    "type2 obj2 = { montab } ;"
   ]
  },
  {
   "cell_type": "markdown",
   "id": "e0614328",
   "metadata": {
    "hidden": true
   },
   "source": [
    "Pour l'accès et les mises à jour, cela ne change absolument rien:"
   ]
  },
  {
   "cell_type": "code",
   "execution_count": null,
   "id": "8d59ee42",
   "metadata": {
    "hidden": true
   },
   "outputs": [],
   "source": [
    "printf(\"obj1.tab[2] = %d\\n\",obj1.tab[2]);\n",
    "printf(\"obj2.tab[2] = %d\\n\",obj2.tab[2]);\n",
    "obj1.tab[2] = 12 ;\n",
    "obj2.tab[2] = 13 ;\n",
    "printf(\"obj1.tab[2] = %d\\n\",obj1.tab[2]);\n",
    "printf(\"obj2.tab[2] = %d\\n\",obj2.tab[2]);"
   ]
  },
  {
   "cell_type": "markdown",
   "id": "443a26c6",
   "metadata": {
    "hidden": true
   },
   "source": [
    "Ou presque: "
   ]
  },
  {
   "cell_type": "code",
   "execution_count": null,
   "id": "6b175b3f",
   "metadata": {
    "hidden": true
   },
   "outputs": [],
   "source": [
    "int autretab[5] = { 12,13,15,17,19 } ;\n",
    "obj2.tab = autretab ;"
   ]
  },
  {
   "cell_type": "code",
   "execution_count": null,
   "id": "428df6ee",
   "metadata": {
    "hidden": true
   },
   "outputs": [],
   "source": [
    "obj1.tab = autretab ;"
   ]
  },
  {
   "cell_type": "markdown",
   "id": "d40c7e49",
   "metadata": {
    "hidden": true
   },
   "source": [
    "### Passage par valeur et persistance mémoire"
   ]
  },
  {
   "cell_type": "code",
   "execution_count": null,
   "id": "a790d6e3",
   "metadata": {
    "hidden": true
   },
   "outputs": [],
   "source": [
    "type1 init1 (int n)\n",
    "{\n",
    "    type1 obj1 = { { n,n,n,n,n } } ;\n",
    "    return obj1 ;\n",
    "}"
   ]
  },
  {
   "cell_type": "code",
   "execution_count": null,
   "id": "afd15699",
   "metadata": {
    "hidden": true
   },
   "outputs": [],
   "source": [
    "type2 init2 (int n)\n",
    "{\n",
    "    int tab[5] = { n,n,n,n,n } ;\n",
    "    type2 obj2 = { tab } ;\n",
    "    return obj2 ;\n",
    "}"
   ]
  },
  {
   "cell_type": "code",
   "execution_count": null,
   "id": "b4bb5779",
   "metadata": {
    "hidden": true
   },
   "outputs": [],
   "source": [
    "int main1 ()\n",
    "{\n",
    "    type1 obj1 = init1(42) ;\n",
    "    stackScribbler() ;\n",
    "    printf(\"obj1.tab = %d %d %d %d %d\\n\", \n",
    "           obj1.tab[0], obj1.tab[1], obj1.tab[2],obj1.tab[3],obj1.tab[4]) ;\n",
    "    return 0 ;\n",
    "}\n",
    "main1 () ;"
   ]
  },
  {
   "cell_type": "code",
   "execution_count": null,
   "id": "097a869c",
   "metadata": {
    "hidden": true
   },
   "outputs": [],
   "source": [
    "int main2 ()\n",
    "{\n",
    "    type2 obj2 = init2(42) ;\n",
    "    stackScribbler() ;\n",
    "    printf(\"obj2.tab = %d %d %d %d %d\\n\", \n",
    "           obj2.tab[0], obj2.tab[1], obj2.tab[2],obj2.tab[3],obj2.tab[4]) ;\n",
    "    return 0;\n",
    "}\n",
    "main2 () ;"
   ]
  },
  {
   "cell_type": "markdown",
   "id": "917fc13f",
   "metadata": {
    "hidden": true
   },
   "source": [
    "### Copie et Hack ultime"
   ]
  },
  {
   "cell_type": "code",
   "execution_count": null,
   "id": "6b7d849d",
   "metadata": {
    "hidden": true
   },
   "outputs": [],
   "source": [
    "type1 obj11 = { {1,2,3,4,5} } ;\n",
    "type1 obj12 = { {3,4,5,6,7} } ;\n",
    "obj12 = obj11 ;\n",
    "printf(\"obj11.tab = %d %d %d %d %d\\n\", \n",
    "           obj11.tab[0], obj11.tab[1], obj11.tab[2],obj11.tab[3],obj11.tab[4]) ;\n",
    "printf(\"obj12.tab = %d %d %d %d %d\\n\", \n",
    "           obj12.tab[0], obj12.tab[1], obj12.tab[2],obj12.tab[3],obj12.tab[4]) ;\n",
    "printf(\"Modification obj12\\n\") ;\n",
    "obj12.tab[3] = 26 ;\n",
    "printf(\"obj11.tab = %d %d %d %d %d\\n\", \n",
    "           obj11.tab[0], obj11.tab[1], obj11.tab[2],obj11.tab[3],obj11.tab[4]) ;\n",
    "printf(\"obj12.tab = %d %d %d %d %d\\n\", \n",
    "           obj12.tab[0], obj12.tab[1], obj12.tab[2],obj12.tab[3],obj12.tab[4]) ;\n"
   ]
  },
  {
   "cell_type": "markdown",
   "id": "f38071ed",
   "metadata": {
    "hidden": true
   },
   "source": [
    "**On vient de copier un tableau !!!!**\n",
    "\n",
    "\n",
    "Alors qu'avec le type2:"
   ]
  },
  {
   "cell_type": "code",
   "execution_count": null,
   "id": "8b715e69",
   "metadata": {
    "hidden": true
   },
   "outputs": [],
   "source": [
    "int tab1[5] = { 1,2,3,4,5 };\n",
    "int tab2[5] = { 3,4,5,6,7 };\n",
    "type2 obj21 = { tab1 };\n",
    "type2 obj22 = { tab2 };\n",
    "obj22 = obj21 ;\n",
    "printf(\"obj21.tab = %d %d %d %d %d\\n\", \n",
    "           obj21.tab[0], obj21.tab[1], obj21.tab[2],obj21.tab[3],obj21.tab[4]) ;\n",
    "printf(\"obj12.tab = %d %d %d %d %d\\n\", \n",
    "           obj22.tab[0], obj22.tab[1], obj22.tab[2],obj22.tab[3],obj22.tab[4]) ;\n",
    "printf(\"Modification obj22\\n\") ;\n",
    "obj22.tab[3] = 26 ;\n",
    "printf(\"obj21.tab = %d %d %d %d %d\\n\", \n",
    "           obj21.tab[0], obj21.tab[1], obj21.tab[2],obj21.tab[3],obj21.tab[4]) ;\n",
    "printf(\"obj12.tab = %d %d %d %d %d\\n\", \n",
    "           obj22.tab[0], obj22.tab[1], obj22.tab[2],obj22.tab[3],obj22.tab[4]) ;"
   ]
  },
  {
   "cell_type": "markdown",
   "id": "2dd54dc5",
   "metadata": {
    "hidden": true
   },
   "source": [
    "### Conclusion"
   ]
  },
  {
   "cell_type": "markdown",
   "id": "01e269eb",
   "metadata": {
    "hidden": true
   },
   "source": [
    "Dans le cas du type1, le tableau est complètement contenu dans la STRUCT. Les objets du type1 sont donc volumineux et il faut adopter le style du paragraphe 2.9.2: toujours les faire passer par référence. Cela impose donc de créer ces objets directement sur le tas: \n",
    "    \n",
    "    type1* obj = (type1*)(malloc(sizeof(type1))) ;\n",
    "    \n",
    "On peut tout de même les garder sur la pile, et l'appel par valeur fonctionnera. C'est d'ailleurs un hack pour pouvoir copier des tableaux dont la taille est statiquement connue.\n",
    "\n",
    "\n",
    "Dans le cas du type2, le champs du STRUCT pointe vers un tableau, qui se situe ailleurs. Si ce ailleurs est la pile, on aura les problèmes de disparition de tableaux sus-mentionnés. Il faut donc impérativement créer un tableau sur le tas, et y faire référence dans le champ du STRUCT. \n",
    "\n",
    "    int* tab = (int*)(malloc(sizeof(int)*longueur)) ;\n",
    "    type2 obj = { tab } ;\n",
    "\n",
    "Par conséquent, le STRUCT sera peu volumineux, on peut donc laisser faire l'appel par valeur et ne pas s'embêter à déclarer la STRUCT sur le tas (puisque le tableau y est déjà). Il faut par contre garder en tête que toutes les copies de ce STRUCT pointent vers un même tableau, déclaré sur le tas. Toute modification du tableau s'appliquera à toutes les copies du STRUCT.\n",
    "\n",
    "\n",
    "Un avantage du type2 est qu'il ne restreint pas la taille du tableau, là où dans le type1, la taille du tableau est définitivement fixée. Voyez d'ailleurs le message d'erreur associé au code suivant:"
   ]
  },
  {
   "cell_type": "code",
   "execution_count": null,
   "id": "6a9fb46f",
   "metadata": {
    "hidden": true
   },
   "outputs": [],
   "source": [
    "int n = 12 ;\n",
    "\n",
    "struct myTab {\n",
    "  int tab[n] ;\n",
    "} ;"
   ]
  },
  {
   "cell_type": "markdown",
   "id": "5b9dbfb9",
   "metadata": {},
   "source": [
    "## Les Chaines de Caractères (string)"
   ]
  },
  {
   "cell_type": "markdown",
   "id": "bb615097",
   "metadata": {},
   "source": [
    "### Ce qu'il faut savoir:"
   ]
  },
  {
   "cell_type": "markdown",
   "id": "60712c82",
   "metadata": {},
   "source": [
    "En C, il n'y a pas de stype \"string\" comme dans la plupart des autres langages. Les chaines de caractères sont **littéralement** des tableaux de *char*."
   ]
  },
  {
   "cell_type": "code",
   "execution_count": 3,
   "id": "f6d61370",
   "metadata": {
    "scrolled": false
   },
   "outputs": [
    {
     "name": "stdout",
     "output_type": "stream",
     "text": [
      "je m'appelle Simon\n",
      "Ma vie est passionnante n'est-ce pas ?\n"
     ]
    }
   ],
   "source": [
    "char maChaine[50] ;\n",
    "maChaine[0] = 'j' ;\n",
    "maChaine[1] = 'e' ;\n",
    "maChaine[2] = ' ' ;\n",
    "maChaine[3] = 'm' ;\n",
    "maChaine[4] = '\\'' ;\n",
    "maChaine[5] = 'a' ;\n",
    "maChaine[6] = 'p' ;\n",
    "maChaine[7] = 'p' ;\n",
    "maChaine[8] = 'e' ;\n",
    "maChaine[9] = 'l' ;\n",
    "maChaine[10] = 'l' ;\n",
    "maChaine[11] = 'e' ;\n",
    "maChaine[12] = ' ' ;\n",
    "maChaine[13] = 'S' ;\n",
    "maChaine[14] = 'i' ;\n",
    "maChaine[15] = 'm' ;\n",
    "maChaine[16] = 'o' ;\n",
    "maChaine[17] = 'n' ;\n",
    "for (int i = 0; i < 18; i++)\n",
    "  printf(\"%c\",maChaine[i]) ;\n",
    "printf(\"\\n%s\\n\", \"Ma vie est passionnante n'est-ce pas ?\") ;"
   ]
  },
  {
   "cell_type": "markdown",
   "id": "546d4bf6",
   "metadata": {},
   "source": [
    "A la **déclaration seulement**, on peut les initialiser plus rapidemment (ouf !):"
   ]
  },
  {
   "cell_type": "code",
   "execution_count": 4,
   "id": "766e8c05",
   "metadata": {},
   "outputs": [],
   "source": [
    "char monNom[] = { 'S','i','m','o','n' } ;"
   ]
  },
  {
   "cell_type": "markdown",
   "id": "a5c640f4",
   "metadata": {},
   "source": [
    "Une autre syntaxe reservée aux chaines de caractères:"
   ]
  },
  {
   "cell_type": "code",
   "execution_count": 1,
   "id": "51f3d85f",
   "metadata": {},
   "outputs": [],
   "source": [
    "char maPhrase[] = \"Bonjour, je m'appelle Simon !\" ;"
   ]
  },
  {
   "cell_type": "markdown",
   "id": "a9cdf68b",
   "metadata": {},
   "source": [
    "Comme pour les tableaux, la *détection automatique* de la taille à l'initialisation choisit la taille la plus petite possible: "
   ]
  },
  {
   "cell_type": "code",
   "execution_count": 6,
   "id": "518a8294",
   "metadata": {},
   "outputs": [
    {
     "name": "stdout",
     "output_type": "stream",
     "text": [
      "Longueur de maPhrase: 29\n"
     ]
    }
   ],
   "source": [
    "printf(\"Longueur de maPhrase: %lu\\n\",strlen(maPhrase)) ;"
   ]
  },
  {
   "cell_type": "markdown",
   "id": "603a053d",
   "metadata": {},
   "source": [
    "- Titouan: Euh ... On a une fonction qui donne la longueur pour les tableaux ???\n",
    "- Prof: Non toujours pas, mais pour les chaines de caractère oui.\n",
    "- Titouan ?: pourtant c'est la même chose ???\n",
    "- C'est grace à la magie du **caractère nul**, aussi appelé **caractère de fin de chaine**.\n",
    "\n",
    "**Table ASCII**: http://www.mon-club-elec.fr/mes_images/reference_francais/asciifull.gif\n",
    "\n",
    "Extrait du document:\n",
    "\n",
    "Le code ASCII (American Standard Code for Information Interchange) date de 1960. C'est la façon standard dont le texte est codé numériquement. Noter que les 32 premiers caractères (0-31) sont des caractères non-imprimables, souvent appelés caractères de contrôle. "
   ]
  },
  {
   "cell_type": "code",
   "execution_count": 1,
   "id": "82a34170",
   "metadata": {},
   "outputs": [
    {
     "name": "stdout",
     "output_type": "stream",
     "text": [
      "' ( ) * + , - . / 0 1 2 3 4 5 6 7 8 9 : ; < = > ? @ \n",
      "A B C D E F G H I J K L M N O P Q R S T U V W X Y Z \n",
      "[ \\ ] ^ _ ` a b c d e f g h i j k l m n o p q r s t \n"
     ]
    }
   ],
   "source": [
    "for (int j = 65-26; j < 100; j+=26)\n",
    "{\n",
    "    for (int i = j; i < j+26 && i < 256; i++)\n",
    "        printf(\"%c \", (char)i) ;\n",
    "    printf(\"\\n\") ;\n",
    "}"
   ]
  },
  {
   "cell_type": "markdown",
   "id": "363daa07",
   "metadata": {},
   "source": [
    "Toutes les chaines créés ci-dessus, peu importe la méthode d'initialisation, se terminent par un caractère nul:"
   ]
  },
  {
   "cell_type": "code",
   "execution_count": 9,
   "id": "71e174a9",
   "metadata": {},
   "outputs": [
    {
     "name": "stdout",
     "output_type": "stream",
     "text": [
      "maChaine[18-25] = 0 0 0 0 0 0 0 0\n",
      "Longueur de monNom: 5\n",
      "monNom[5]: 0\n",
      "maPhrase[29]: 0\n"
     ]
    }
   ],
   "source": [
    "printf(\"maChaine[18-25] = %d %d %d %d %d %d %d %d\\n\"\n",
    "       ,(int)maChaine[18], (int)maChaine[19],(int)maChaine[20],(int)maChaine[21]\n",
    "       ,(int)maChaine[22],(int)maChaine[23],(int)maChaine[24],(int)maChaine[25]) ;\n",
    "printf(\"Longueur de monNom: %lu\\n\", strlen(monNom)) ;\n",
    "printf(\"monNom[5]: %d\\n\", (int)monNom[5]) ;\n",
    "printf(\"maPhrase[29]: %d\\n\", (int)(maPhrase[29])) ;"
   ]
  },
  {
   "cell_type": "code",
   "execution_count": 33,
   "id": "0318f1c6",
   "metadata": {},
   "outputs": [
    {
     "name": "stdout",
     "output_type": "stream",
     "text": [
      "etat stack: ... &a |  &prenom | &b ...\n",
      "etat stack: ... 97 72 ... 110 0 98 ...\n"
     ]
    }
   ],
   "source": [
    "int i = 7 ;\n",
    "char a = 'a' ;\n",
    "char monPrenom[] = \"Halfon\" ;\n",
    "char b = 'b' ;\n",
    "printf(\"etat stack: ... &a |  &prenom | &b ...\\n\") ;\n",
    "printf(\"etat stack: ... %d %d ... %d %d %d ...\\n\", \n",
    "       (int)monPrenom[-1], (int)monPrenom[0], \n",
    "       (int)monPrenom[5], (int)monPrenom[6], (int)monPrenom[i]) ;"
   ]
  },
  {
   "cell_type": "markdown",
   "id": "b8421c46",
   "metadata": {},
   "source": [
    "Cela permet d'écrire des itérateurs sur les chaines dont on ne dispose pas sur les tableaux:"
   ]
  },
  {
   "cell_type": "code",
   "execution_count": 34,
   "id": "8bd3a978",
   "metadata": {},
   "outputs": [
    {
     "name": "stdout",
     "output_type": "stream",
     "text": [
      "Bonjour, je m'appelle Simon !\n",
      "Bonjour, je m'appelle Simon !\n"
     ]
    }
   ],
   "source": [
    "// printf(\"%s\", maPhrase) ;\n",
    "int i = 0 ;\n",
    "while (maPhrase[i] != '\\0')\n",
    "  {\n",
    "    printf(\"%c\", maPhrase[i]) ;\n",
    "    i++ ;\n",
    "  }\n",
    "\n",
    "printf(\"\\n%s\\n\", maPhrase) ;\n"
   ]
  },
  {
   "cell_type": "code",
   "execution_count": null,
   "id": "9b909ec3",
   "metadata": {},
   "outputs": [],
   "source": [
    "// strlen(maPhrase) ;\n",
    "int i = 0 ;\n",
    "while (maPhrase[i] != '\\0')\n",
    "  {\n",
    "    i++ ;\n",
    "  }\n",
    "printf(\"strlen(maPhrase) = %d\\n\", i) ;\n",
    "printf(\"strlen(maPhrase) = %lu\\n\", strlen(maPhrase)) ;\n"
   ]
  },
  {
   "cell_type": "code",
   "execution_count": 2,
   "id": "b5c9053e",
   "metadata": {},
   "outputs": [
    {
     "name": "stdout",
     "output_type": "stream",
     "text": [
      "newPhrase: Bonjour, je m'appelle Simon !\n",
      "newnewPhrase = Bonjour, je m'appelle Simon !\n"
     ]
    }
   ],
   "source": [
    "// strcpy(newPhrase, maPhrase) ;\n",
    "char newPhrase[35] ;\n",
    "int i = 0 ;\n",
    "while (maPhrase[i] != '\\0')\n",
    "  {\n",
    "    newPhrase[i] = maPhrase[i] ;\n",
    "    i++ ;\n",
    "  }\n",
    "printf(\"newPhrase: %s\\n\", newPhrase) ;\n",
    "char newnewPhrase[32] ;\n",
    "strcpy(newnewPhrase, maPhrase) ;\n",
    "printf(\"newnewPhrase = %s\\n\", newnewPhrase) ;"
   ]
  },
  {
   "cell_type": "markdown",
   "id": "caf74096",
   "metadata": {},
   "source": [
    "Et plein d'autres dans la librairie <string.h>. Une autre librairie intéressante pour travailler avec les chaines de caractères: <ctype.h>. Elle définit des fonctions permettant de tester le type d'un caractère (majuscule, minuscule, alpha-numérique, numérique, lettre de l'alphabet, ...). **Ces deux librairies n'apparaissent PAS dans votre programme.** Cependant, les fonctions \"strlen\", \"strcpy\" et \"strcat\" apparaissent dans le programme. \n",
    "\n",
    "Extrait du programme:\n",
    "\n",
    "    À l’écrit, on travaille toujours sous l’hypothèse que les entêtes suivants ont tous été inclus : <assert.h>, <stdbool.h>, <stddef.h>, <stdint.h>, <stdio.h>, <stdlib.h>. Mais ces fichiers ne font pas en soi l’objet d’une étude et aucune connaissance particulière des fonctionnalités qu’ils apportent n’est exigible.\n",
    "    \n",
    "Notamment, si vous voulez utiliser les fonctions de <string.h> et <ctype.h> à l'écrit, il faut inclure la ligne \n",
    "\n",
    "    #include <string.h>\n",
    "    \n",
    "    \n",
    "Attention, les fonctions \"strlen\", \"strcpy\" etc. sont bien des fonctions écrites en C et absolument pas des éléments du langages. Les string sont des tableaux, et les opérations de copie et d'affectation globales restent impossible:"
   ]
  },
  {
   "cell_type": "code",
   "execution_count": 3,
   "id": "123b521e",
   "metadata": {},
   "outputs": [
    {
     "name": "stderr",
     "output_type": "stream",
     "text": [
      "input_line_9:2:7: error: array initializer must be an initializer list or string literal\n",
      " char newnewnewPhrase[36] = maPhrase ;\n",
      "      ^\n"
     ]
    },
    {
     "ename": "Interpreter Error",
     "evalue": "",
     "output_type": "error",
     "traceback": [
      "Interpreter Error: "
     ]
    }
   ],
   "source": [
    "char newnewnewPhrase[36] = maPhrase ;"
   ]
  },
  {
   "cell_type": "code",
   "execution_count": 4,
   "id": "5cd1c189",
   "metadata": {},
   "outputs": [
    {
     "name": "stderr",
     "output_type": "stream",
     "text": [
      "input_line_10:3:17: error: array type 'char [36]' is not assignable\n",
      "newnewnewPhrase = maPhrase ;\n",
      "~~~~~~~~~~~~~~~ ^\n"
     ]
    },
    {
     "ename": "Interpreter Error",
     "evalue": "",
     "output_type": "error",
     "traceback": [
      "Interpreter Error: "
     ]
    }
   ],
   "source": [
    "char newnewnewPhrase[36] ;\n",
    "newnewnewPhrase = maPhrase ;"
   ]
  },
  {
   "cell_type": "markdown",
   "id": "8ef47bc8",
   "metadata": {},
   "source": [
    "### L'exercice \"date\" du thème \"fonctions\""
   ]
  },
  {
   "cell_type": "markdown",
   "id": "95c94178",
   "metadata": {},
   "source": [
    "Dans cet exercice, il fallait écrire une fonction qui renvoie le jour de la semaine associé à une date, sous la forme d'une chaine de caractère."
   ]
  },
  {
   "cell_type": "code",
   "execution_count": 12,
   "id": "3e0b1ff7",
   "metadata": {},
   "outputs": [
    {
     "name": "stderr",
     "output_type": "stream",
     "text": [
      "input_line_18:4:12: warning: address of stack memory associated with local variable 'jour' returned [-Wreturn-stack-address]\n",
      "    return jour ;\n",
      "           ^~~~\n"
     ]
    }
   ],
   "source": [
    "// cours2-36.c\n",
    "char* jourSemaine (int n)\n",
    "{\n",
    "    char jour[] = \"lundi\" ;\n",
    "    return jour ;\n",
    "}"
   ]
  },
  {
   "cell_type": "code",
   "execution_count": 14,
   "id": "2aacfb8c",
   "metadata": {},
   "outputs": [
    {
     "name": "stdout",
     "output_type": "stream",
     "text": [
      "Nous sommes un .\n"
     ]
    }
   ],
   "source": [
    "int main ()\n",
    "{\n",
    "    printf(\"Nous sommes un %s.\\n\", jourSemaine(12)) ;\n",
    "}\n",
    "main () ;"
   ]
  },
  {
   "cell_type": "markdown",
   "id": "3fa3ed0d",
   "metadata": {},
   "source": [
    "Comportement propre au string: "
   ]
  },
  {
   "cell_type": "code",
   "execution_count": 15,
   "id": "ea2067a9",
   "metadata": {},
   "outputs": [
    {
     "name": "stderr",
     "output_type": "stream",
     "text": [
      "input_line_21:3:12: warning: ISO C++11 does not allow conversion from string literal to 'char *' [-Wwritable-strings]\n",
      "    return \"lundi\" ;\n",
      "           ^\n"
     ]
    }
   ],
   "source": [
    "// cours2-38.c \n",
    "char* jourSemaine2 (int n)\n",
    "{\n",
    "    return \"lundi\" ;\n",
    "}\n",
    "// Warning propre à C++"
   ]
  },
  {
   "cell_type": "code",
   "execution_count": 16,
   "id": "afb92ab5",
   "metadata": {},
   "outputs": [
    {
     "name": "stdout",
     "output_type": "stream",
     "text": [
      "Nous sommes un lundi.\n"
     ]
    }
   ],
   "source": [
    "int main ()\n",
    "{\n",
    "    printf(\"Nous sommes un %s.\\n\", jourSemaine2(12)) ;\n",
    "}\n",
    "main () ;"
   ]
  },
  {
   "cell_type": "code",
   "execution_count": 17,
   "id": "d20f79b5",
   "metadata": {},
   "outputs": [
    {
     "name": "stderr",
     "output_type": "stream",
     "text": [
      "input_line_23:3:19: error: expected ';' after expression\n",
      "    return ({1,2,3}) ;\n",
      "                  ^\n",
      "                  ;\n",
      "input_line_23:3:12: error: cannot initialize return object of type 'int *' with an rvalue of type 'int'\n",
      "    return ({1,2,3}) ;\n",
      "           ^~~~~~~~~\n"
     ]
    },
    {
     "ename": "Interpreter Error",
     "evalue": "",
     "output_type": "error",
     "traceback": [
      "Interpreter Error: "
     ]
    }
   ],
   "source": [
    "// cours2-39.c\n",
    "int* tab ()\n",
    "{\n",
    "    return ({1,2,3}) ;\n",
    "}"
   ]
  },
  {
   "cell_type": "markdown",
   "id": "588c72a5",
   "metadata": {},
   "source": [
    "### Bonus: Buffer Overflow"
   ]
  },
  {
   "cell_type": "markdown",
   "id": "ed2d2091",
   "metadata": {},
   "source": [
    "Comme pour les tableaux, il faut expliciter la taille d'une string lorsqu'on la déclare. C'est particulièrement problématique lorsque l'on veut récupérer une entrée de l'utilisateur; dont on ne connait pas encore la taille:"
   ]
  },
  {
   "cell_type": "code",
   "execution_count": 6,
   "id": "02fb1e9a",
   "metadata": {},
   "outputs": [
    {
     "data": {
      "text/plain": [
       "-1\n",
       "type: int"
      ]
     },
     "execution_count": 6,
     "metadata": {},
     "output_type": "execute_result"
    }
   ],
   "source": [
    "// Attention: scanf ==> passer en environnement réel.\n",
    "char nom[50] ;\n",
    "scanf(\"%s\", nom) ; // Pas de & ici: pourquoi ?"
   ]
  },
  {
   "cell_type": "markdown",
   "id": "d18a03e4",
   "metadata": {},
   "source": [
    "Que se passe-t-il si l'utilisateur entre un nom trop long ? Illustration: cours2-25.c.\n",
    "\n",
    "**Réponse**: ça plante lamentablement (abort). Aucune chance d'utiliser \"assert\" ici puisqu'il faut d'abord stocker une première fois la chaine pour en faire quoique ce soit.\n",
    "\n",
    "**Idée**: travaillons sur le tas plutôt que sur la pile. Illustration: cours2-26.c.\n",
    "\n",
    "Super ça marche ! Or does it ? ...\n",
    "\n",
    "**Non c'est une très mauvaise idée !** Sur la pile, le système était capable de détecter que l'on tentait d'écrire hors de la string et interrompait l'opération. Sur le tas il laisse faire, mais c'est terriblement dangereux: les derniers caractères de notre chaine dépassent de l'espace alloué par malloc: on est potentiellement en train d'écrire sur les cases d'une autre variable ! Et comme c'est mal rangé dans le tas, on a aucune idée de quel variable nous serions en train d'écraser (corruption de données).\n",
    "\n",
    "\n",
    "**Solution simple**: utiliser \n",
    "    \n",
    "    scanf(\"%50s\",nom) ;\n",
    "qui tronque l'entrée utilisateur au delà de 50 caractères lus (cours 2-27.c, cours2-28.c, cours2-29.c).\n",
    "Attention, \"scanf(%s)\" s'arrête au premier espace (il ne lit qu'un seul mot).\n",
    "\n",
    "\n",
    "**Solution expert**: séparer la lecture de l'entrée et le parsing. La pair fgets + sscanf est alors recommandée. On verra (peut-être) cela en TP dédié, mais ces questions dépassent le cadre du programme de MP2I."
   ]
  },
  {
   "cell_type": "markdown",
   "id": "b6eafc28",
   "metadata": {},
   "source": [
    "## Tableaux 2D"
   ]
  },
  {
   "cell_type": "markdown",
   "id": "65eceb14",
   "metadata": {},
   "source": [
    "### Tableaux 2D sur la pile: déclaration, lecture, écriture"
   ]
  },
  {
   "cell_type": "code",
   "execution_count": 12,
   "id": "fd0a1ddd",
   "metadata": {},
   "outputs": [],
   "source": [
    "int tab[12][5] ; // Tableau, 12 lignes, 5 colonnes.\n",
    "for (int i = 0; i < 12; i++)\n",
    "    for (int j = 0; j < 5; j++)\n",
    "        tab[i][j] = i + j ;"
   ]
  },
  {
   "cell_type": "code",
   "execution_count": 23,
   "id": "016a5f10",
   "metadata": {},
   "outputs": [
    {
     "name": "stdout",
     "output_type": "stream",
     "text": [
      " 0  1  2  3  4 \n",
      " 1  2  3  4  5 \n",
      " 2  3  4  5  6 \n",
      " 3  4  5  6  7 \n",
      " 4  5  6  7  8 \n",
      " 5  6  7  8  9 \n",
      " 6  7  8  9 10 \n",
      " 7  8  9 10 11 \n",
      " 8  9 10 11 12 \n",
      " 9 10 11 12 13 \n",
      "10 11 12 13 14 \n",
      "11 12 13 14 15 \n"
     ]
    }
   ],
   "source": [
    "for (int i = 0; i < 12; i++)\n",
    "{\n",
    "    for (int j = 0; j < 5; j++)\n",
    "    {\n",
    "        int n = tab[i][j] ;\n",
    "        if (n > 9)\n",
    "            printf(\"%d \", n) ;\n",
    "        else\n",
    "            printf(\" %d \", n) ;\n",
    "    }\n",
    "    printf(\"\\n\") ;\n",
    "}"
   ]
  },
  {
   "cell_type": "markdown",
   "id": "3c1df8a3",
   "metadata": {},
   "source": [
    "On peut initialiser à la déclaration:"
   ]
  },
  {
   "cell_type": "code",
   "execution_count": 25,
   "id": "1c5a1b86",
   "metadata": {},
   "outputs": [
    {
     "name": "stdout",
     "output_type": "stream",
     "text": [
      "0 1 2 \n",
      "1 2 3 \n"
     ]
    }
   ],
   "source": [
    "int tab2[2][3] = { { 0,1,2 }, {1,2,3 } } ;\n",
    "\n",
    "for (int i = 0; i < 2; i++)\n",
    "{\n",
    "    for (int j = 0; j < 3; j++)\n",
    "        printf(\"%d \", tab2[i][j]) ;\n",
    "    printf(\"\\n\") ;\n",
    "}"
   ]
  },
  {
   "cell_type": "markdown",
   "id": "c1c79c6d",
   "metadata": {},
   "source": [
    "Et tout ceci marche en dimension quelconque:"
   ]
  },
  {
   "cell_type": "code",
   "execution_count": 26,
   "id": "5c2cbb0d",
   "metadata": {},
   "outputs": [],
   "source": [
    "int tab[12][3][17][25] ;\n",
    "  for (int i = 0; i < 12; i++)\n",
    "    for (int j = 0; j < 3; j++)\n",
    "      for (int k = 0; k < 17; k++)\n",
    "        for (int l = 0; l < 25; l++)\n",
    "          tab[i][j][k][l] = 0 ;"
   ]
  },
  {
   "cell_type": "code",
   "execution_count": 27,
   "id": "1d075697",
   "metadata": {},
   "outputs": [],
   "source": [
    "int tab[2][2][2] = { { { 1,2 }, { 3,4 } }, { { 5,6 }, { 7,8 } } } ;\n",
    "// Dessin en 3D au tableau ?"
   ]
  },
  {
   "cell_type": "markdown",
   "id": "d5cb70d7",
   "metadata": {},
   "source": [
    "### La magie du pré-compilateur"
   ]
  },
  {
   "cell_type": "code",
   "execution_count": 31,
   "id": "60345463",
   "metadata": {},
   "outputs": [
    {
     "name": "stdout",
     "output_type": "stream",
     "text": [
      "0 1 2 1 2 3 "
     ]
    }
   ],
   "source": [
    "int tab2[2][3] = { { 0,1,2 }, {1,2,3 } } ;\n",
    "for (int i = 0; i < 6; i++)\n",
    "    printf(\"%d \", *((int*)tab2+i)) ;\n",
    "// Conversion obligatoire à cause du type tableau"
   ]
  },
  {
   "cell_type": "code",
   "execution_count": 34,
   "id": "892df3e3",
   "metadata": {},
   "outputs": [
    {
     "name": "stdout",
     "output_type": "stream",
     "text": [
      "0 1 2 1 2 3 "
     ]
    }
   ],
   "source": [
    "int tab3[6] = { 0,1,2,1,2,3 } ;\n",
    "for (int i = 0; i < 6; i++)\n",
    "    printf(\"%d \", *(tab3+i)) ;"
   ]
  },
  {
   "cell_type": "markdown",
   "id": "b1cdbc73",
   "metadata": {},
   "source": [
    "    tab[i][j] = *(tab + i*nbCol + j)"
   ]
  },
  {
   "cell_type": "code",
   "execution_count": 36,
   "id": "aecb80a4",
   "metadata": {},
   "outputs": [
    {
     "name": "stdout",
     "output_type": "stream",
     "text": [
      "0 1 2 \n",
      "1 2 3 \n"
     ]
    }
   ],
   "source": [
    "for (int i = 0; i < 2; i++)\n",
    "{\n",
    "    for (int j = 0; j < 3; j++)\n",
    "        printf(\"%d \", *((int*)tab2 + i*3 + j)) ;\n",
    "    printf(\"\\n\") ;\n",
    "}"
   ]
  },
  {
   "cell_type": "markdown",
   "id": "6f78485f",
   "metadata": {},
   "source": [
    "### Passage en argument"
   ]
  },
  {
   "cell_type": "markdown",
   "id": "5682ec83",
   "metadata": {},
   "source": [
    "Nous avions vu 3 syntaxes **équivalentes** pour les tableaux 1D:\n",
    "\n",
    "    void f (int longueur, int* tab)\n",
    "    void f (int longueur, int tab[])\n",
    "    void f (int longueur, int tab[longueur])"
   ]
  },
  {
   "cell_type": "markdown",
   "id": "1ed2ed81",
   "metadata": {},
   "source": [
    "Cela donne 5 syntaxes **imaginables** pour les tableaux 2D:\n",
    "    \n",
    "    void f (int nbRow, int nbCol, int* tab)\n",
    "    void f (int nbRow, int nbCol, int tab[][])\n",
    "    void f (int nbRow, int nbCol, int tab[][nbCol])\n",
    "    void f (int nbRow, int nbCol, int tab[nbRow][])\n",
    "    void f (int nbRow, int nbCol, int tab[nbRow][NbCol])\n",
    "    \n",
    "Fonctionnent: 3 et 5 **SEULEMENT**."
   ]
  },
  {
   "cell_type": "code",
   "execution_count": 37,
   "id": "f3955829",
   "metadata": {},
   "outputs": [
    {
     "name": "stderr",
     "output_type": "stream",
     "text": [
      "input_line_46:2:38: error: array has incomplete element type 'int []'\n",
      "void f (int nbRow, int nbCol, int tab[][])\n",
      "                                     ^\n"
     ]
    },
    {
     "ename": "Interpreter Error",
     "evalue": "",
     "output_type": "error",
     "traceback": [
      "Interpreter Error: "
     ]
    }
   ],
   "source": [
    "// cours2-21.c\n",
    "// même erreur ici et avec gcc\n",
    "void f (int nbRow, int nbCol, int tab[][])\n",
    "{\n",
    "  printf(\"%d\\n\", tab[nbRow-1][nbCol-1]) ;\n",
    "}"
   ]
  },
  {
   "cell_type": "code",
   "execution_count": 38,
   "id": "d657d577",
   "metadata": {},
   "outputs": [
    {
     "name": "stderr",
     "output_type": "stream",
     "text": [
      "input_line_47:3:30: error: subscripted value is not an array, pointer, or vector\n",
      "  printf(\"%d\\n\", tab[nbRow-1][nbCol-1]) ;\n",
      "                 ~~~~~~~~~~~~^~~~~~~~\n"
     ]
    },
    {
     "ename": "Interpreter Error",
     "evalue": "",
     "output_type": "error",
     "traceback": [
      "Interpreter Error: "
     ]
    }
   ],
   "source": [
    "// cours2-22.c\n",
    "// Erreur différente en gcc, mais erreur quand même\n",
    "void f (int nbRow, int nbCol, int* tab)\n",
    "{\n",
    "  printf(\"%d\\n\", tab[nbRow-1][nbCol-1]) ;\n",
    "}"
   ]
  },
  {
   "cell_type": "code",
   "execution_count": 39,
   "id": "0e088081",
   "metadata": {},
   "outputs": [
    {
     "name": "stderr",
     "output_type": "stream",
     "text": [
      "input_line_48:1:38: error: array has incomplete element type 'int []'\n",
      "void f (int nbRow, int nbCol, int tab[nbRow][])\n",
      "                                     ^\n"
     ]
    },
    {
     "ename": "Interpreter Error",
     "evalue": "",
     "output_type": "error",
     "traceback": [
      "Interpreter Error: "
     ]
    }
   ],
   "source": [
    "void f (int nbRow, int nbCol, int tab[nbRow][])\n",
    "{\n",
    "  printf(\"%d\\n\", tab[nbRow-1][nbCol-1]) ;\n",
    "}"
   ]
  },
  {
   "cell_type": "code",
   "execution_count": 43,
   "id": "8cc1e129",
   "metadata": {},
   "outputs": [],
   "source": [
    "// cours2-24.c\n",
    "void f (int nbRow, int nbCol, int tab[][nbCol])\n",
    "{\n",
    "  printf(\"%d\\n\", tab[nbRow-1][nbCol-1]) ;\n",
    "}\n",
    "// f(2,3,tab2) ;\n",
    "// Ne fonctionne pas ici à cause du noyau C++"
   ]
  },
  {
   "cell_type": "code",
   "execution_count": 46,
   "id": "c051fa5c",
   "metadata": {},
   "outputs": [],
   "source": [
    "void f (int nbRow, int nbCol, int tab[nbRow][nbCol])\n",
    "{\n",
    "  printf(\"%d\\n\", tab[nbRow-1][nbCol-1]) ;\n",
    "}\n",
    "// f(2,3,tab2) ;\n",
    "// Ne fonctionne pas ici à cause du noyau C++"
   ]
  },
  {
   "cell_type": "code",
   "execution_count": 5,
   "id": "4e276689",
   "metadata": {},
   "outputs": [],
   "source": [
    "void printTab2D (int nbRows, int nbCol, int tab[nbRows][nbCol])\n",
    "{\n",
    "    for (int i = 0; i < nbRows; i++)\n",
    "    {\n",
    "        for (int j = 0; j < nbCol; j++)\n",
    "            printf(\"%d \", tab[i][j]) ;\n",
    "        printf(\"\\n\") ;\n",
    "    }         \n",
    "}\n",
    "// f(2,3,tab2) ;\n",
    "// Ne fonctionn pas ici à cause du noyau C++"
   ]
  },
  {
   "cell_type": "markdown",
   "id": "6b3f3693",
   "metadata": {},
   "source": [
    "### Exemple d'utilisation:"
   ]
  },
  {
   "cell_type": "code",
   "execution_count": 5,
   "id": "38cfb7b0",
   "metadata": {},
   "outputs": [],
   "source": [
    "void quelJour(int n)\n",
    "{\n",
    "    char week[7][10] = { \"lundi\", \"mardi\", \"mercredi\", \"jeudi\", \"vendredi\", \"samedi\", \"dimanche\" } ;\n",
    "    printf(\"Ce sera un %s.\\n\", week[n % 7]) ;\n",
    "    // week[0] = \"Monday\" ;\n",
    "    strcpy(week[0],\"Monday\") ;\n",
    "    strcpy(week[1],\"Tuesday\") ;\n",
    "    strcpy(week[2],\"Wednesday\") ;\n",
    "    strcpy(week[3],\"Thursday\") ;\n",
    "    strcpy(week[4],\"FridayFridayFriday\") ;\n",
    "    printf(\"It will be a %s.\\n\", week[n % 7]) ;\n",
    "}"
   ]
  },
  {
   "cell_type": "code",
   "execution_count": 11,
   "id": "0fb9b26b",
   "metadata": {},
   "outputs": [
    {
     "name": "stdout",
     "output_type": "stream",
     "text": [
      "Ce sera un lundi.\n",
      "It will be a Monday.\n"
     ]
    }
   ],
   "source": [
    "quelJour(0) ;"
   ]
  },
  {
   "cell_type": "markdown",
   "id": "7a0aa9e3",
   "metadata": {},
   "source": [
    "### Tableaux 2D sur le tas (allocation dynamique)"
   ]
  },
  {
   "cell_type": "markdown",
   "id": "d7ff58ae",
   "metadata": {},
   "source": [
    "#### Linéarisation \"à la main\""
   ]
  },
  {
   "cell_type": "code",
   "execution_count": 49,
   "id": "7d548b75",
   "metadata": {},
   "outputs": [],
   "source": [
    "int* createArray2D (int nbRow, int nbCol)\n",
    "{\n",
    "    int* tab = (int*)(malloc(nbRow * nbCol * sizeof(int))) ;\n",
    "    for (int i = 0; i < nbRow; i++)\n",
    "        for (int j = 0; j < nbCol; j++)\n",
    "            tab[i*nbCol + j] = 12 ;\n",
    "            // Attention la ligne ci-dessous ne fonctionne pas !!!\n",
    "            // tab[i][j] = 12 ;\n",
    "    return tab ;\n",
    "}"
   ]
  },
  {
   "cell_type": "code",
   "execution_count": 50,
   "id": "a98fef86",
   "metadata": {},
   "outputs": [],
   "source": [
    "void printTabLin2D (int nbRows, int nbCol, int* tab)\n",
    "{\n",
    "    for (int i = 0; i < nbRows; i++)\n",
    "    {\n",
    "        for (int j = 0; j < nbCol; j++)\n",
    "            printf(\"%d \", tab[i * nbCol + j]) ;\n",
    "        printf(\"\\n\") ;\n",
    "    }         \n",
    "}"
   ]
  },
  {
   "cell_type": "code",
   "execution_count": 51,
   "id": "5366a2d8",
   "metadata": {},
   "outputs": [
    {
     "name": "stdout",
     "output_type": "stream",
     "text": [
      "12 12 12 12 12 12 12 12 12 12 12 12 \n",
      "12 12 12 12 12 12 12 12 12 12 12 12 \n",
      "12 12 12 12 12 12 12 12 12 12 12 12 \n",
      "12 12 12 12 12 12 12 12 12 12 12 12 \n",
      "12 12 12 12 12 12 12 12 12 12 12 12 \n"
     ]
    }
   ],
   "source": [
    "int* tab = createArray2D(5,12) ;\n",
    "printTabLin2D(5,12,tab) ;"
   ]
  },
  {
   "cell_type": "markdown",
   "id": "b783c255",
   "metadata": {},
   "source": [
    "Inconvénient (léger): \n",
    "- nécessite nbRow * nbCol cases mémoires contigues. \n",
    "- on perd la syntaxe tab[ i ][ j ]"
   ]
  },
  {
   "cell_type": "markdown",
   "id": "6538e890",
   "metadata": {},
   "source": [
    "#### Tableaux de tableaux"
   ]
  },
  {
   "cell_type": "code",
   "execution_count": 2,
   "id": "a552e96a",
   "metadata": {},
   "outputs": [],
   "source": [
    "int** createArray2D (int nbRow, int nbCol)\n",
    "{\n",
    "    int** tab = (int**)(malloc(nbRow * sizeof(int*))) ;\n",
    "    for (int i = 0; i < nbRow; i++)\n",
    "    {\n",
    "        tab[i] = (int*)(malloc(nbCol * sizeof(int))) ;\n",
    "        for (int j = 0; j < nbCol; j++)\n",
    "            tab[i][j] = 12 ;\n",
    "    }\n",
    "    return tab ;\n",
    "}"
   ]
  },
  {
   "cell_type": "code",
   "execution_count": 12,
   "id": "c05e96e1",
   "metadata": {},
   "outputs": [],
   "source": [
    "void printTab2D (int nbRows, int nbCol, int* tab[])\n",
    "{\n",
    "    for (int i = 0; i < nbRows; i++)\n",
    "    {\n",
    "        for (int j = 0; j < nbCol; j++)\n",
    "            printf(\"%d \", tab[i][j]) ;\n",
    "        printf(\"\\n\") ;\n",
    "    }         \n",
    "}\n",
    "// f(2,3,tab2) ;\n",
    "// Ne fonctionn pas ici à cause du noyau C++"
   ]
  },
  {
   "cell_type": "code",
   "execution_count": 11,
   "id": "145c8549",
   "metadata": {},
   "outputs": [
    {
     "name": "stdout",
     "output_type": "stream",
     "text": [
      "12 12 12 12 12 12 12 12 12 12 12 12 \n",
      "12 12 12 12 12 12 12 12 12 12 12 12 \n",
      "12 12 12 12 12 12 12 12 12 12 12 12 \n",
      "12 12 12 12 12 12 12 12 12 12 12 12 \n",
      "12 12 12 12 12 12 12 12 12 12 12 12 \n"
     ]
    }
   ],
   "source": [
    "int** tab = createArray2D (5,12) ;\n",
    "printTab2D(5,12,tab) ;"
   ]
  },
  {
   "cell_type": "markdown",
   "id": "261d8ec6",
   "metadata": {},
   "source": [
    "Remarque: dans cette implémentation des tableaux 2D, tab est réellement un tableau 1D de pointeurs. Pour déclarer la fonction printTab2D, on a donc à nouveau le choix entre les 3 syntaxes rigoureusement équivalentes:\n",
    "\n",
    "    void printTab2D (int nbRows, int nbCol, int* tab[])\n",
    "    void printTab2D (int nbRows, int nbCol, int** tab)\n",
    "    void printTab2D (int nbRows, int nbCol, int* tab[nbRows])\n"
   ]
  },
  {
   "cell_type": "markdown",
   "id": "905abe31",
   "metadata": {},
   "source": [
    "Avantages: \n",
    "- On retrouve la syntaxe tab[ i ][ j ]\n",
    "- On a besoin nbRow fois d'une allocation mémoire de taille nbCol. \n",
    "\n",
    "Inconvénient: \n",
    "- L'accès à un élément est en temps linéaire en la dimension (contre logarithmique dans l'autre implémentation). Cette implémentation est un mix entre tableau et liste chainées."
   ]
  },
  {
   "cell_type": "markdown",
   "id": "d56db3d1",
   "metadata": {
    "heading_collapsed": true
   },
   "source": [
    "## Listes Chainées"
   ]
  },
  {
   "cell_type": "markdown",
   "id": "4ccc166c",
   "metadata": {
    "hidden": true
   },
   "source": [
    "Illustration PythonTutor: cours2-31.c."
   ]
  },
  {
   "cell_type": "code",
   "execution_count": null,
   "id": "b426f186",
   "metadata": {
    "hidden": true
   },
   "outputs": [],
   "source": []
  }
 ],
 "metadata": {
  "kernelspec": {
   "display_name": "C++11",
   "language": "C++11",
   "name": "xcpp11"
  },
  "language_info": {
   "codemirror_mode": "text/x-c++src",
   "file_extension": ".cpp",
   "mimetype": "text/x-c++src",
   "name": "c++",
   "version": "11"
  },
  "toc": {
   "base_numbering": 1,
   "nav_menu": {},
   "number_sections": true,
   "sideBar": true,
   "skip_h1_title": false,
   "title_cell": "Table of Contents",
   "title_sidebar": "Contents",
   "toc_cell": false,
   "toc_position": {},
   "toc_section_display": true,
   "toc_window_display": false
  },
  "varInspector": {
   "cols": {
    "lenName": 16,
    "lenType": 16,
    "lenVar": 40
   },
   "kernels_config": {
    "python": {
     "delete_cmd_postfix": "",
     "delete_cmd_prefix": "del ",
     "library": "var_list.py",
     "varRefreshCmd": "print(var_dic_list())"
    },
    "r": {
     "delete_cmd_postfix": ") ",
     "delete_cmd_prefix": "rm(",
     "library": "var_list.r",
     "varRefreshCmd": "cat(var_dic_list()) "
    }
   },
   "types_to_exclude": [
    "module",
    "function",
    "builtin_function_or_method",
    "instance",
    "_Feature"
   ],
   "window_display": false
  }
 },
 "nbformat": 4,
 "nbformat_minor": 5
}
