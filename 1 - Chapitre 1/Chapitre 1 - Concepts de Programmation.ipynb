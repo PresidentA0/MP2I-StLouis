{
 "cells": [
  {
   "cell_type": "markdown",
   "id": "c0a3557e",
   "metadata": {
    "code_folding": []
   },
   "source": [
    "# Chapitre 1: Concepts de Programmation, illustrés en C\n"
   ]
  },
  {
   "cell_type": "markdown",
   "id": "47388305",
   "metadata": {
    "heading_collapsed": true
   },
   "source": [
    "## Premiers Pas en C"
   ]
  },
  {
   "cell_type": "markdown",
   "id": "78302821",
   "metadata": {
    "hidden": true
   },
   "source": [
    "### La fonction main"
   ]
  },
  {
   "cell_type": "markdown",
   "id": "e10a889d",
   "metadata": {
    "hidden": true
   },
   "source": [
    "Un programme C doit toujours contenir une fonction main, c'est le point d'entrée du programme. Voici un programme minimal qui ne fait rien:"
   ]
  },
  {
   "cell_type": "code",
   "execution_count": null,
   "id": "9cbf7318",
   "metadata": {
    "hidden": true
   },
   "outputs": [],
   "source": [
    "int main ()\n",
    "{\n",
    "}"
   ]
  },
  {
   "cell_type": "markdown",
   "id": "2b4f4504",
   "metadata": {
    "hidden": true
   },
   "source": [
    "Voici deux exemples plus intéressants: le traditionnel \"Hello World\" et un programme qui manipule des entiers:"
   ]
  },
  {
   "cell_type": "code",
   "execution_count": 3,
   "id": "8b153772",
   "metadata": {
    "hidden": true
   },
   "outputs": [
    {
     "name": "stdout",
     "output_type": "stream",
     "text": [
      "Hello World !\n"
     ]
    }
   ],
   "source": [
    "#include <stdio.h>\n",
    "\n",
    "int main ()\n",
    "{\n",
    "    printf(\"Hello World !\\n\") ;\n",
    "}\n",
    "\n",
    "// Cette ligne ne devrait pas exister.\n",
    "main () ;"
   ]
  },
  {
   "cell_type": "code",
   "execution_count": 4,
   "id": "24040092",
   "metadata": {
    "hidden": true
   },
   "outputs": [
    {
     "name": "stdout",
     "output_type": "stream",
     "text": [
      "15\n"
     ]
    }
   ],
   "source": [
    "#include <stdio.h>\n",
    "\n",
    "int main ()\n",
    "{\n",
    "    int n = 14 ;\n",
    "    printf(\"%d\\n\", n + 1) ;\n",
    "}\n",
    "\n",
    "// Cette ligne ne devrait pas exister.\n",
    "main () ;"
   ]
  },
  {
   "cell_type": "markdown",
   "id": "7344ae86",
   "metadata": {
    "hidden": true
   },
   "source": [
    "La ligne\n",
    "    \"#include<stdio.h>\"\n",
    "sert à charger la librairie \"standard input output\" qui permet d'utiliser la fonction printf. \n",
    "\n",
    "C'est ainsi que l'on communique des valeurs à l'utilisateur; la valeur de retour de la fonction main **n'est pas** retournée à l'utilisateur:"
   ]
  },
  {
   "cell_type": "code",
   "execution_count": 5,
   "id": "fb1a4122",
   "metadata": {
    "hidden": true
   },
   "outputs": [],
   "source": [
    "int main ()\n",
    "{\n",
    "    return 3 ;\n",
    "}\n",
    "\n",
    "// Cette ligne ne devrait pas exister.\n",
    "main () ;"
   ]
  },
  {
   "cell_type": "markdown",
   "id": "bb0a37c5",
   "metadata": {
    "hidden": true
   },
   "source": [
    "L'instruction \"return\" sera utilisé pour les fonctions internes au programme pour communiquer entre elles:"
   ]
  },
  {
   "cell_type": "code",
   "execution_count": 6,
   "id": "154ec760",
   "metadata": {
    "hidden": true
   },
   "outputs": [],
   "source": [
    "int f (int x)\n",
    "{\n",
    "    return (x+1) ;\n",
    "}"
   ]
  },
  {
   "cell_type": "code",
   "execution_count": 7,
   "id": "35228ff4",
   "metadata": {
    "hidden": true
   },
   "outputs": [],
   "source": [
    "int main ()\n",
    "{\n",
    "    int n = 3 ;\n",
    "    printf(\"%d\\n\", f(n)) ;\n",
    "}"
   ]
  },
  {
   "cell_type": "code",
   "execution_count": 8,
   "id": "0e0ecc80",
   "metadata": {
    "hidden": true
   },
   "outputs": [
    {
     "name": "stdout",
     "output_type": "stream",
     "text": [
      "4\n"
     ]
    }
   ],
   "source": [
    "// Cette ligne ne devrait pas exister\n",
    "main () ;"
   ]
  },
  {
   "cell_type": "markdown",
   "id": "b793adc4",
   "metadata": {
    "hidden": true
   },
   "source": [
    "On peut également communiquer des valeurs au programme (depuis l'utilisateur) avec la fonction scanf: "
   ]
  },
  {
   "cell_type": "code",
   "execution_count": 9,
   "id": "16772197",
   "metadata": {
    "hidden": true
   },
   "outputs": [],
   "source": [
    "int main ()\n",
    "{\n",
    "    int n ;\n",
    "    printf(\"Quel est votre entier préféré ?\\n\") ;\n",
    "    scanf(\"%d\", &n) ;\n",
    "    printf(\"Votre entier préféré est %d\\n\", n) ;\n",
    "}"
   ]
  },
  {
   "cell_type": "code",
   "execution_count": 10,
   "id": "3b14c0c6",
   "metadata": {
    "hidden": true
   },
   "outputs": [
    {
     "name": "stdout",
     "output_type": "stream",
     "text": [
      "Quel est votre entier préféré ?\n",
      "Votre entier préféré est 32765\n"
     ]
    }
   ],
   "source": [
    "// Cette ligne ne devrait pas exister\n",
    "main () ;"
   ]
  },
  {
   "cell_type": "markdown",
   "id": "6d313080",
   "metadata": {
    "hidden": true
   },
   "source": [
    "Ici, cela ne fonctionne pas car nous ne sommes pas dans le cadre d'utilisation normal du C. \n",
    "C'est la même chose pour la ligne \"main ()\" que je dois ajouter à chaque fois pour que la fonction \"main\" soit appelée: c'est normalement inutile, à l'exécution la première chose que fait le C est d'appeler la fonction \"main\".\n",
    "Pour pouvoir tester les programmes de ce cours en conditions \"normales\", vous pouvez utiliser https://www.onlinegdb.com/. Il faudra alors écrire des programmes C complets.\n",
    "Si par exemple vous souhaitez tester une fonction \"fctCours\" de ce cours, qui prend un seul argument entier, alors il faut écrire le code suivant dans \"onlinegdb\" (puis tapez un nombre pour tester le programme): "
   ]
  },
  {
   "cell_type": "code",
   "execution_count": null,
   "id": "a4ba4244",
   "metadata": {
    "hidden": true
   },
   "outputs": [],
   "source": [
    "// On commence par charger les librairies nécessaires.\n",
    "// Dans le doute incluez celles ci:\n",
    "#include <stdio.h>\n",
    "#include <stdlib.h>\n",
    "#include <stdbool.h>\n",
    "#include <stdint.h>\n",
    "#include <stddef.h>\n",
    "#include <assert.h>\n",
    "\n",
    "// Copier ici la fonction du cours\n",
    "int fctCours (int n)\n",
    "{\n",
    "// ...\n",
    "    return 0 ;\n",
    "}\n",
    "\n",
    "// Puis ajoutez la fonction main:\n",
    "int main ()\n",
    "{\n",
    "    int n ;\n",
    "    printf(\"Entrez un argument: \") ;\n",
    "    scanf(\"%d\",&n) ;\n",
    "    printf(\"\\nfctCours(%d)=%d\\n\",n,fctCours(n)) ;\n",
    "}"
   ]
  },
  {
   "cell_type": "markdown",
   "id": "da1926e2",
   "metadata": {
    "hidden": true
   },
   "source": [
    "Si vous avez linux, vous pouvez également vous placer dans les véritables conditions normales d'utilisation (que l'on mettra en place un peu plus tard dans l'année): \n",
    "1. Ecrivez le code précédent dans un fichier d'extension .c (par exemple monFichier.c);\n",
    "2. Dans un terminal, depuis le dossier dans lequel se trouve le fichier, tapez la commande:\n",
    "        gcc monFichier.c\n",
    "3. Exécutez votre programme avec la commande: \n",
    "        ./a.out\n",
    "4. Entrez un nombre pour tester votre programme."
   ]
  },
  {
   "cell_type": "markdown",
   "id": "7521278e",
   "metadata": {
    "hidden": true
   },
   "source": [
    "### Les types de base"
   ]
  },
  {
   "cell_type": "markdown",
   "id": "ea9c58ae",
   "metadata": {
    "hidden": true
   },
   "source": [
    "Voici les types de base au programme de MP2I:\n",
    "- Les entiers signés: int8_t, int32_t, int64_t.\n",
    "- Les entiers non signés: uint8_t, uint32_t, uint64_t.\n",
    "- En pratique on utilisera: int et long. Le plus souvent, int est un raccourci pour int32_t et long pour int64_t."
   ]
  },
  {
   "cell_type": "code",
   "execution_count": 11,
   "id": "1fdbe813",
   "metadata": {
    "hidden": true
   },
   "outputs": [
    {
     "name": "stdout",
     "output_type": "stream",
     "text": [
      "Taille d'un int8_t: 1\n",
      "Taille d'un int32_t: 4\n",
      "Taille d'un int64_t: 8\n",
      "Taille d'un int: 4\n",
      "Taille d'un long: 8\n"
     ]
    }
   ],
   "source": [
    "printf(\"Taille d'un int8_t: %lu\\n\", sizeof(int8_t)) ;\n",
    "printf(\"Taille d'un int32_t: %lu\\n\", sizeof(int32_t)) ;\n",
    "printf(\"Taille d'un int64_t: %lu\\n\", sizeof(int64_t)) ;\n",
    "printf(\"Taille d'un int: %lu\\n\", sizeof(int)) ;\n",
    "printf(\"Taille d'un long: %lu\\n\", sizeof(long)) ;"
   ]
  },
  {
   "cell_type": "markdown",
   "id": "a6bd8804",
   "metadata": {
    "hidden": true
   },
   "source": [
    "Les entiers intN_t sont compris entre $-2^{N-1}$ et $2^{N-1}-1$.  \n",
    "Les entiers uintN_t sont compris entre $0$ et $2^N-1$."
   ]
  },
  {
   "cell_type": "code",
   "execution_count": 12,
   "id": "fe8197cd",
   "metadata": {
    "hidden": true
   },
   "outputs": [
    {
     "name": "stderr",
     "output_type": "stream",
     "text": [
      "input_line_20:4:24: warning: format specifies type 'char' but the argument has type 'int' [-Wformat]\n",
      "printf(\"n+1 = %hhd \\n\",n+1) ;\n",
      "              ~~~~     ^~~\n",
      "              %d\n"
     ]
    },
    {
     "name": "stdout",
     "output_type": "stream",
     "text": [
      "n = 127 \n",
      "n+1 = -128 \n"
     ]
    }
   ],
   "source": [
    "int8_t n = 127 ;\n",
    "printf(\"n = %hhd \\n\", n) ;\n",
    "printf(\"n+1 = %hhd \\n\",n+1) ;"
   ]
  },
  {
   "cell_type": "code",
   "execution_count": 13,
   "id": "60f8e2af",
   "metadata": {
    "hidden": true
   },
   "outputs": [
    {
     "name": "stderr",
     "output_type": "stream",
     "text": [
      "input_line_21:2:21: warning: overflow in expression; result is -2147483648 with type 'int' [-Winteger-overflow]\n",
      " int n = ((1 << 30) * 2) - 1 ;\n",
      "                    ^\n",
      "input_line_21:2:26: warning: overflow in expression; result is 2147483647 with type 'int' [-Winteger-overflow]\n",
      " int n = ((1 << 30) * 2) - 1 ;\n",
      "                         ^\n"
     ]
    },
    {
     "name": "stdout",
     "output_type": "stream",
     "text": [
      "2147483647"
     ]
    }
   ],
   "source": [
    "int n = ((1 << 30) * 2) - 1 ;\n",
    "printf(\"%d\",n) ;"
   ]
  },
  {
   "cell_type": "markdown",
   "id": "6d7dab1e",
   "metadata": {
    "hidden": true
   },
   "source": [
    "- Les caractères: char (for character in english). On en reparlera au 3e cours.\n",
    "- Les flottants: float (sur 32 bits) et double (sur 64 bits). On aura un TP dédié à la représentation des flottants et leur utilisation en fin de premier semestre.\n",
    "- Les booléens: bool. Ils servent majoritairement dans les conditionnelles et les boucles while. Ci dessous un exemple de condition booléenne:"
   ]
  },
  {
   "cell_type": "code",
   "execution_count": 14,
   "id": "5b781aad",
   "metadata": {
    "hidden": true
   },
   "outputs": [],
   "source": [
    "void printBool (bool b)\n",
    "{\n",
    "    printf(\"%s\", b ? \"true\" : \"false\") ;\n",
    "    // Attention: cette syntaxe est hors programme.\n",
    "}"
   ]
  },
  {
   "cell_type": "code",
   "execution_count": 16,
   "id": "733feb5f",
   "metadata": {
    "hidden": true
   },
   "outputs": [
    {
     "name": "stdout",
     "output_type": "stream",
     "text": [
      "true"
     ]
    }
   ],
   "source": [
    "printBool(true && (false || (1 != 2)) && (1 < 3 || 1 >= 3) && !(false && false));"
   ]
  },
  {
   "cell_type": "markdown",
   "id": "6a016950",
   "metadata": {
    "heading_collapsed": true
   },
   "source": [
    "## C (presque) comme du Python\n",
    "\n",
    "\n",
    "\n",
    "\n"
   ]
  },
  {
   "cell_type": "markdown",
   "id": "6e5e912b",
   "metadata": {
    "hidden": true
   },
   "source": [
    "Comme en Python, on a: des variables, des conditionnelles, des boucles FOR et WHILE, on peut définir des fonctions puis les appeler. \n",
    "\n",
    "IMPORTANT: les codes qui suivent ne sont plus encapsulés dans une fonction \"main\" pour que ce soit plus lisible. C'est tout à fait impossible de faire cela dans un vrai environnement C ! Pour exécuter les exemples ci dessous dans un environnement C, il faut suivre les instructions en fin de paragraphe 1.1.1.\n"
   ]
  },
  {
   "cell_type": "markdown",
   "id": "fd8848da",
   "metadata": {
    "hidden": true
   },
   "source": [
    "### Les variables"
   ]
  },
  {
   "cell_type": "markdown",
   "id": "f009d16f",
   "metadata": {
    "hidden": true
   },
   "source": [
    "En C, on peut déclarer des variables sans les initialiser, puis les initialiser plus tard."
   ]
  },
  {
   "cell_type": "code",
   "execution_count": 17,
   "id": "75954976",
   "metadata": {
    "hidden": true
   },
   "outputs": [
    {
     "name": "stdout",
     "output_type": "stream",
     "text": [
      "La variable a vaut: -22"
     ]
    }
   ],
   "source": [
    "int a ;\n",
    "a = 0 ;\n",
    "a = 3*(a+1) - 25 ;\n",
    "printf(\"La variable a vaut: %d\",a) ;"
   ]
  },
  {
   "cell_type": "markdown",
   "id": "16e45431",
   "metadata": {
    "hidden": true
   },
   "source": [
    "On peut également les déclarer et les initialiser en même temps. Le cadre précédent est équivalent à:"
   ]
  },
  {
   "cell_type": "code",
   "execution_count": 18,
   "id": "0d4c7d7e",
   "metadata": {
    "hidden": true
   },
   "outputs": [
    {
     "name": "stdout",
     "output_type": "stream",
     "text": [
      "La variable a vaut: -22"
     ]
    }
   ],
   "source": [
    "int a = 0;\n",
    "a = 3*(a+1) - 25 ;\n",
    "printf(\"La variable a vaut: %d\",a) ;"
   ]
  },
  {
   "cell_type": "markdown",
   "id": "424fd2fc",
   "metadata": {
    "hidden": true
   },
   "source": [
    "Il faut impérativement préciser le type des variables à la déclaration, et le type ne pourra plus être changé. \n",
    "La principale raison est que le système doit connaitre la taille que prend la variable en mémoire, on verra cela au prochain Chapitre (aspects mémoire).\n",
    "\n",
    "Une seconde raison en faveur du typage des variables est que cela permet de détecter des erreurs avant l'exécution du programme: si on tente de manipuler un booléen comme si c'était un flottant, on a probablement fait une erreur. Cependant, C n'interdit pas une telle utilisation mais signale (warning) une \"conversion implicite\":"
   ]
  },
  {
   "cell_type": "code",
   "execution_count": 19,
   "id": "1904da18",
   "metadata": {
    "hidden": true
   },
   "outputs": [
    {
     "name": "stdout",
     "output_type": "stream",
     "text": [
      "0.075472"
     ]
    }
   ],
   "source": [
    "double x = 3.5;\n",
    "printf(\"%lf\", 1/(1+x*x)) ;"
   ]
  },
  {
   "cell_type": "code",
   "execution_count": 20,
   "id": "844506bf",
   "metadata": {
    "hidden": true
   },
   "outputs": [
    {
     "name": "stderr",
     "output_type": "stream",
     "text": [
      "input_line_28:3:5: warning: implicit conversion from 'double' to 'bool' changes value from 3.5 to true [-Wliteral-conversion]\n",
      "b = 3.5 ;\n",
      "  ~ ^~~\n",
      "input_line_28:4:17: warning: format specifies type 'double' but the argument has type 'bool' [-Wformat]\n",
      "printf(\"%lf \\n\",b) ;\n",
      "        ~~~     ^\n"
     ]
    },
    {
     "name": "stdout",
     "output_type": "stream",
     "text": [
      "0.000000 \n",
      "true"
     ]
    }
   ],
   "source": [
    "bool b = true ; \n",
    "b = 3.5 ;\n",
    "printf(\"%lf \\n\",b) ;\n",
    "printBool(b) ;"
   ]
  },
  {
   "cell_type": "markdown",
   "id": "092a1ee9",
   "metadata": {
    "hidden": true
   },
   "source": [
    "C'est un point remarquable du C: même s'il détecte une erreur de type (on essaie d'affecter un flottant à une variable booléenne), il produit un avertissement (Warning) et non une erreur. Autrement dit, il sait que vous vous êtes trompés, mais exécute tout de même le code; et bien sûr le résultat n'est pas celui attendu.  \n",
    "\n",
    "\n",
    "Pour signaler à C que ce n'est pas une maladresse de votre part et que vous souhaitez réellement effectuer la **conversion**, on peut utiliser la syntaxe suivante:\n",
    "\n",
    "    (new_type)(var)\n",
    "    \n",
    "Dans ce cas, nous n'obtenons pas d'avertissement:"
   ]
  },
  {
   "cell_type": "code",
   "execution_count": 23,
   "id": "de0beda7",
   "metadata": {
    "hidden": true
   },
   "outputs": [
    {
     "name": "stdout",
     "output_type": "stream",
     "text": [
      "1.000000 0.000000"
     ]
    },
    {
     "data": {
      "text/plain": [
       "17"
      ]
     },
     "execution_count": 23,
     "metadata": {},
     "output_type": "execute_result"
    }
   ],
   "source": [
    "bool t = true ;\n",
    "bool f = false ;\n",
    "double x = (double)(t) ;\n",
    "printf(\"%lf %lf\", x, (double)(f)) ;\n",
    "// Ici plus de WARNING."
   ]
  },
  {
   "cell_type": "markdown",
   "id": "2d551f4b",
   "metadata": {
    "hidden": true
   },
   "source": [
    "Les conversions sont à utiliser avec précaution, nous ne l'utiliserons que dans des cas bien précis. "
   ]
  },
  {
   "cell_type": "code",
   "execution_count": 24,
   "id": "1c2e6271",
   "metadata": {
    "hidden": true
   },
   "outputs": [
    {
     "name": "stdout",
     "output_type": "stream",
     "text": [
      "Le flottant 3.500000 est converti en entier: 3 \n",
      "Le flottant -3.500000 est converti en entier: -3 \n",
      "L'entier 12 est converti en flottant: 12.000000 \n",
      "Les booleens TRUE et FALSE sont convertis en entier: 1 0 \n"
     ]
    }
   ],
   "source": [
    "double x = 3.5 ;\n",
    "double y = -3.5 ;\n",
    "int n = 12 ;\n",
    "printf(\"Le flottant %lf est converti en entier: %d \\n\", x, (int)(x)) ;\n",
    "printf(\"Le flottant %lf est converti en entier: %d \\n\", y, (int)(y)) ;\n",
    "printf(\"L'entier %d est converti en flottant: %lf \\n\", n, (double)(n)) ;\n",
    "printf(\"Les booleens TRUE et FALSE sont convertis en entier: %d %d \\n\", (int)(true), (int)(false) ) ;"
   ]
  },
  {
   "cell_type": "markdown",
   "id": "fc4ceb99",
   "metadata": {
    "hidden": true
   },
   "source": [
    "Les conversions seront cependant bien pratiques dans certains cas:"
   ]
  },
  {
   "cell_type": "code",
   "execution_count": 25,
   "id": "3f19f2e2",
   "metadata": {
    "hidden": true
   },
   "outputs": [
    {
     "name": "stdout",
     "output_type": "stream",
     "text": [
      "a b c d e f g h i j k l m n o p q r s t u v w x y z \n",
      "Now I know my ABC, next time will you sing with me ?"
     ]
    }
   ],
   "source": [
    "for (int i = 0; i < 26; i++)\n",
    "    printf(\"%c \",'a'+i) ;\n",
    "printf(\"\\nNow I know my ABC, next time will you sing with me ?\") ;"
   ]
  },
  {
   "cell_type": "markdown",
   "id": "fa41c2a7",
   "metadata": {
    "hidden": true
   },
   "source": [
    "### Les conditionnelles et définitions de fonctions"
   ]
  },
  {
   "cell_type": "code",
   "execution_count": 27,
   "id": "7889096e",
   "metadata": {
    "hidden": true
   },
   "outputs": [],
   "source": [
    "int min (int x, int y)\n",
    "{\n",
    "  if (x < y)\n",
    "  {\n",
    "    return x ;\n",
    "  }\n",
    "  else\n",
    "  {\n",
    "    return y ;\n",
    "  }\n",
    "}  "
   ]
  },
  {
   "cell_type": "code",
   "execution_count": 28,
   "id": "f7953da9",
   "metadata": {
    "hidden": true
   },
   "outputs": [
    {
     "name": "stdout",
     "output_type": "stream",
     "text": [
      "min(12,42) = 12\n"
     ]
    }
   ],
   "source": [
    "printf(\"min(%d,%d) = %d\\n\", 12,42,min(12,42)) ;"
   ]
  },
  {
   "cell_type": "markdown",
   "id": "3f518b92",
   "metadata": {
    "hidden": true
   },
   "source": [
    "**ATTENTION** Même s'il est important de continuer à indenter votre code comme vous l'avez appris en Python, ce n'est pas du tout obligatoire en C. La première chose que le compilateur (programme qui lit votre programme et \"prépare\" son exécution) fait est d'enlever les retours à la ligne, les tabulations et les espaces inutiles.\n",
    "\n",
    "\n",
    "Le code suivant est donc équivalent au précédent:"
   ]
  },
  {
   "cell_type": "code",
   "execution_count": null,
   "id": "7f0892cb",
   "metadata": {
    "hidden": true
   },
   "outputs": [],
   "source": [
    "int minMoche(int x,int y) {if(x < y){ return x ;}else{return y ;}}printf(\"%d\", min(12,42)) ;"
   ]
  },
  {
   "cell_type": "markdown",
   "id": "64f994b0",
   "metadata": {
    "hidden": true
   },
   "source": [
    "Vous comprenez donc pourquoi les accolades (absentes de la syntaxe Python) sont ici fondamentales.  \n",
    "Par exemple Le compilateur ne fait aucun différence entre les deux codes suivants: "
   ]
  },
  {
   "cell_type": "code",
   "execution_count": 30,
   "id": "ade4b279",
   "metadata": {
    "hidden": true
   },
   "outputs": [
    {
     "name": "stdout",
     "output_type": "stream",
     "text": [
      "12\n",
      "42\n"
     ]
    }
   ],
   "source": [
    "int n = 12 ;\n",
    "int m = 42 ;\n",
    "if (m < n)\n",
    "    n = 23 ;\n",
    "    printf(\"%d\\n\",n) ;\n",
    "printf(\"%d\\n\", m) ;"
   ]
  },
  {
   "cell_type": "code",
   "execution_count": null,
   "id": "9530ba12",
   "metadata": {
    "hidden": true
   },
   "outputs": [],
   "source": [
    "int n = 12 ;\n",
    "int m = 42 ;\n",
    "if (m < n)\n",
    "    n = 23 ;\n",
    "printf(\"%d\",n) ;"
   ]
  },
  {
   "cell_type": "markdown",
   "id": "02f3bb08",
   "metadata": {
    "hidden": true
   },
   "source": [
    "Lequel est correctement indenté ?\n",
    "\n",
    "\n",
    "\n",
    "C'est le second: en effet, les accolades d'un bloc \"if then else\" (ou d'une boucle) sont optionnelles s'il n'y a qu'une seule instruction. On a le droit d'écrire la fonction \"min\" ainsi: "
   ]
  },
  {
   "cell_type": "code",
   "execution_count": 31,
   "id": "55c2a9af",
   "metadata": {
    "hidden": true
   },
   "outputs": [],
   "source": [
    "int min (int x, int y)\n",
    "{\n",
    "  if (x < y)\n",
    "    return x ;\n",
    "  else\n",
    "    return y ;\n",
    "}"
   ]
  },
  {
   "cell_type": "markdown",
   "id": "71d965f8",
   "metadata": {
    "hidden": true
   },
   "source": [
    "Méfiez vous c'est une pratique dangereuse: il est fréquent de se rendre compte par la suite que l'on avait besoin d'une seconde instruction dans un des blocs et d'oublier d'ajouter les accolades (maintenant obligatoires !)."
   ]
  },
  {
   "cell_type": "code",
   "execution_count": 32,
   "id": "0668605f",
   "metadata": {
    "hidden": true
   },
   "outputs": [
    {
     "name": "stderr",
     "output_type": "stream",
     "text": [
      "input_line_45:6:3: error: expected expression\n",
      "  else\n",
      "  ^\n"
     ]
    },
    {
     "ename": "Interpreter Error",
     "evalue": "",
     "output_type": "error",
     "traceback": [
      "Interpreter Error: "
     ]
    }
   ],
   "source": [
    "int min (int x, int y)\n",
    "{\n",
    "  if (x < y)\n",
    "\n",
    "    printf(\"Le premier argument est plus petit\\n\") ;\n",
    "    return x ;\n",
    "\n",
    "  else\n",
    "    return y ;\n",
    "}"
   ]
  },
  {
   "cell_type": "markdown",
   "id": "9a35dbdb",
   "metadata": {
    "hidden": true
   },
   "source": [
    "### Les boucles"
   ]
  },
  {
   "cell_type": "code",
   "execution_count": 33,
   "id": "43e29b83",
   "metadata": {
    "hidden": true
   },
   "outputs": [],
   "source": [
    "int syracuse (int n)\n",
    "{\n",
    "    while (n != 1)\n",
    "    {\n",
    "        if (n % 2 == 0)\n",
    "            n = n/2 ;\n",
    "        else\n",
    "            n = 3*n+1 ;\n",
    "    }\n",
    "    return n ;\n",
    "}"
   ]
  },
  {
   "cell_type": "code",
   "execution_count": 35,
   "id": "40a5acf4",
   "metadata": {
    "hidden": true
   },
   "outputs": [
    {
     "name": "stdout",
     "output_type": "stream",
     "text": [
      "1"
     ]
    }
   ],
   "source": [
    "printf(\"%d\",syracuse(27));"
   ]
  },
  {
   "cell_type": "markdown",
   "id": "01459754",
   "metadata": {
    "hidden": true
   },
   "source": [
    "Si l'on ajoute une instruction dans la boucle, les accolades ne sont plus optionnelles:"
   ]
  },
  {
   "cell_type": "code",
   "execution_count": 36,
   "id": "1f129155",
   "metadata": {
    "hidden": true
   },
   "outputs": [],
   "source": [
    "int syracuse (int n)\n",
    "{\n",
    "    int cpt = 0 ;\n",
    "    while (n != 1)\n",
    "    {\n",
    "        if (n % 2 == 0)\n",
    "            n = n/2 ;\n",
    "        else\n",
    "            n = 3*n+1 ;\n",
    "        cpt = cpt + 1 ;\n",
    "    }    \n",
    "    return cpt ;\n",
    "}"
   ]
  },
  {
   "cell_type": "code",
   "execution_count": 38,
   "id": "88bd2cc2",
   "metadata": {
    "hidden": true
   },
   "outputs": [
    {
     "name": "stdout",
     "output_type": "stream",
     "text": [
      "111"
     ]
    }
   ],
   "source": [
    "printf(\"%d\",syracuse(27)) ;"
   ]
  },
  {
   "cell_type": "markdown",
   "id": "8ff10054",
   "metadata": {
    "hidden": true
   },
   "source": [
    "Et si on est prudent, on écrit toutes les accolades:"
   ]
  },
  {
   "cell_type": "code",
   "execution_count": null,
   "id": "429d7286",
   "metadata": {
    "hidden": true
   },
   "outputs": [],
   "source": [
    "int syracuse (int n) {\n",
    "    int cpt = 0 ;\n",
    "    while (n != 1) {\n",
    "        if (n % 2 == 0) {\n",
    "            n = n/2 ;\n",
    "        }\n",
    "        else {\n",
    "            n = 3*n+1 ;\n",
    "        }\n",
    "        cpt = cpt + 1 ;\n",
    "    }    \n",
    "    return cpt ;\n",
    "}"
   ]
  },
  {
   "cell_type": "markdown",
   "id": "f44432c9",
   "metadata": {
    "hidden": true
   },
   "source": [
    "Pour les boucles FOR: "
   ]
  },
  {
   "cell_type": "code",
   "execution_count": 45,
   "id": "cfdc9532",
   "metadata": {
    "hidden": true
   },
   "outputs": [],
   "source": [
    "double exp (double x, int n)\n",
    "{\n",
    "    double result = 1 ;\n",
    "    int i = 12 ;\n",
    "    for (int i = 0; i < n; i++)\n",
    "        result = result * x ;\n",
    "    printf(\"%d\\n\", i) ;\n",
    "    return result ;\n",
    "}"
   ]
  },
  {
   "cell_type": "code",
   "execution_count": 43,
   "id": "3042c6b4",
   "metadata": {
    "hidden": true
   },
   "outputs": [
    {
     "name": "stdout",
     "output_type": "stream",
     "text": [
      "5\n",
      "525.218750"
     ]
    }
   ],
   "source": [
    "printf(\"%lf\",exp(3.5,5)) ;"
   ]
  },
  {
   "cell_type": "markdown",
   "id": "a6875615",
   "metadata": {
    "hidden": true
   },
   "source": [
    "En C, les boucles FOR attendent 3 paramètres: le premier est une instruction exécutée en début de boucle, le second est une condition d'arrêt de la boucle testée avant chaque itération (comme pour les boucles WHILE !) et le troisième est l'instruction exécutée après chaque itération de la boucle.\n",
    "\n",
    "\n",
    "Le plus souvent, on utilisera des boucles FOR ayant la forme ci dessus: on y déclare une variable de boucle i, on itère tant qu'elle est inférieure à un entier n (le nombre d'itérations désirées) et on incrémente i à chaque itération. On obtient le même comportement qu'en Python.\n",
    "\n",
    "\n",
    "Mais ce format de boucle FOR permet en fait des choses plus complexes. C'est un avantage, ou un danger:"
   ]
  },
  {
   "cell_type": "code",
   "execution_count": 46,
   "id": "1f001ac4",
   "metadata": {
    "hidden": true
   },
   "outputs": [],
   "source": [
    "double exp (double x, int n)\n",
    "{\n",
    "  double result = 1 ;\n",
    "    \n",
    "  for (int i = 0; i < n; i++)\n",
    "  {\n",
    "    result = result * x ;\n",
    "    n++ ;\n",
    "  }\n",
    "  return result ;\n",
    "}"
   ]
  },
  {
   "cell_type": "code",
   "execution_count": 47,
   "id": "893e9fe2",
   "metadata": {
    "hidden": true
   },
   "outputs": [
    {
     "name": "stdout",
     "output_type": "stream",
     "text": [
      "inf"
     ]
    }
   ],
   "source": [
    "printf(\"%lf\",exp(3.5,5)) ;"
   ]
  },
  {
   "cell_type": "markdown",
   "id": "f2fbf096",
   "metadata": {
    "hidden": true
   },
   "source": [
    "Observez le comportement du programme suivant et comparez avec le programme équivalent Python (ou autre langage): "
   ]
  },
  {
   "cell_type": "code",
   "execution_count": 39,
   "id": "e971b98a",
   "metadata": {
    "hidden": true
   },
   "outputs": [
    {
     "name": "stdout",
     "output_type": "stream",
     "text": [
      "0\n",
      "1\n",
      "2\n"
     ]
    }
   ],
   "source": [
    "int n = 12 ;\n",
    "for (int i = 0; i < n; i++)\n",
    "{\n",
    "    printf(\"%d\\n\",i) ;\n",
    "    n = 3 ;\n",
    "}\n",
    "\n",
    "/*\n",
    "n = 12\n",
    "for i in range(0,12):\n",
    "    print(i)\n",
    "    n = 3\n",
    "*/"
   ]
  },
  {
   "cell_type": "markdown",
   "id": "fc01aa42",
   "metadata": {
    "hidden": true
   },
   "source": [
    "Gardez en tête que l'instruction du milieu sera exécutée **à chaque itération** !   \n",
    "\n",
    "\n",
    "Evitez donc d'écrire:"
   ]
  },
  {
   "cell_type": "code",
   "execution_count": null,
   "id": "3fc05198",
   "metadata": {
    "code_folding": [],
    "hidden": true
   },
   "outputs": [],
   "source": [
    "int fctTresCouteuse(int n)\n",
    "{\n",
    "    if (n==0)\n",
    "        return 1 ;\n",
    "    else\n",
    "        return (fctTresCouteuse(n-1)*n) ;\n",
    "}"
   ]
  },
  {
   "cell_type": "code",
   "execution_count": null,
   "id": "dcb46117",
   "metadata": {
    "hidden": true
   },
   "outputs": [],
   "source": [
    "int n = 5 ;\n",
    "int sum = 0 ;\n",
    "for (int i = 0; i < fctTresCouteuse(n); i++)\n",
    "    sum = sum + i ;\n",
    "printf(\"%d\",sum) ;"
   ]
  },
  {
   "cell_type": "markdown",
   "id": "dbe282a1",
   "metadata": {
    "hidden": true
   },
   "source": [
    "Et préférez:"
   ]
  },
  {
   "cell_type": "code",
   "execution_count": null,
   "id": "289ea486",
   "metadata": {
    "hidden": true
   },
   "outputs": [],
   "source": [
    "int n = 5 ;\n",
    "int sum = 0 ;\n",
    "int max = fctTresCouteuse(n) ;\n",
    "for (int i = 0; i < max; i++)\n",
    "    sum = sum + i ;\n",
    "printf(\"%d\",sum) ;"
   ]
  },
  {
   "cell_type": "markdown",
   "id": "c34f2823",
   "metadata": {
    "hidden": true
   },
   "source": [
    "Un avantage du comportement atypique de la boucle FOR en C : on peut l'interrompre avant la fin."
   ]
  },
  {
   "cell_type": "code",
   "execution_count": null,
   "id": "f2e0fd50",
   "metadata": {
    "hidden": true
   },
   "outputs": [],
   "source": [
    "// Teste si syracuse(i) < ceil pour tout i <= N.\n",
    "bool test (int ceil, int N)\n",
    "{\n",
    "    bool b = true ;\n",
    "    for (int i = 0; i <= N; i++)\n",
    "    {\n",
    "        if (syracuse(i) >= ceil)\n",
    "        {\n",
    "            b = false ;\n",
    "            i = N + 1 ;\n",
    "        }\n",
    "    }\n",
    "    return b ;\n",
    "}"
   ]
  },
  {
   "cell_type": "markdown",
   "id": "750e29fa",
   "metadata": {
    "hidden": true
   },
   "source": [
    "Exercice (TD): simplifier le code cette fonction (sans modifier son comportement)."
   ]
  },
  {
   "cell_type": "markdown",
   "id": "48d9a59c",
   "metadata": {
    "heading_collapsed": true
   },
   "source": [
    "## Exécution ligne à ligne de programmes"
   ]
  },
  {
   "cell_type": "markdown",
   "id": "a9bf7aab",
   "metadata": {
    "hidden": true
   },
   "source": [
    "Un bel outil de visualisation de l'exécution ligne à ligne d'un programme:  \n",
    "https://pythontutor.com/visualize.html#mode=edit"
   ]
  },
  {
   "cell_type": "code",
   "execution_count": null,
   "id": "19ab75b8",
   "metadata": {
    "hidden": true
   },
   "outputs": [],
   "source": [
    "int syracuse (int n)\n",
    "{\n",
    "    int cpt = 0 ;\n",
    "    while (n != 1)\n",
    "    {\n",
    "        if (n % 2 == 0)\n",
    "            n = n/2 ;\n",
    "        else\n",
    "            n = 3*n+1 ;\n",
    "        cpt = cpt + 1 ;\n",
    "    }\n",
    "    return cpt ;\n",
    "}"
   ]
  },
  {
   "cell_type": "code",
   "execution_count": null,
   "id": "f6658efe",
   "metadata": {
    "hidden": true
   },
   "outputs": [],
   "source": [
    "int mysteryFunction (int n)\n",
    "{\n",
    "    int result ;\n",
    "    int mysteryVar = -1 ;\n",
    "    int cpt ;\n",
    "    for (int i = 1; i <= n; i++)\n",
    "    {\n",
    "        cpt = syracuse(n);\n",
    "        if (cpt > mysteryVar)\n",
    "        {\n",
    "            result = i ;\n",
    "            mysteryVar = cpt ;\n",
    "        }\n",
    "    }\n",
    "    return result ;\n",
    "}"
   ]
  },
  {
   "cell_type": "markdown",
   "id": "30836a8c",
   "metadata": {
    "hidden": true
   },
   "source": [
    "Au tableau: on exécute \"mysteryFunction(5)\" ligne à ligne.\n",
    "\n",
    "\n",
    "Exercice (TD): exécuter \"min(12,42)\", \"max(12,42)\" et \"sum(4)\" ligne à ligne."
   ]
  },
  {
   "cell_type": "code",
   "execution_count": null,
   "id": "97dcf9dc",
   "metadata": {
    "hidden": true
   },
   "outputs": [],
   "source": [
    "int min (int x, int y)\n",
    "{\n",
    "    if (x < y)\n",
    "        return y ;\n",
    "    else \n",
    "        return x ;\n",
    "}"
   ]
  },
  {
   "cell_type": "code",
   "execution_count": null,
   "id": "374171b1",
   "metadata": {
    "hidden": true
   },
   "outputs": [],
   "source": [
    "int max (int y, int x)\n",
    "{\n",
    "    if (x > y)\n",
    "        return y ;\n",
    "    else \n",
    "        return x ;\n",
    "}"
   ]
  },
  {
   "cell_type": "code",
   "execution_count": null,
   "id": "9bf33491",
   "metadata": {
    "hidden": true
   },
   "outputs": [],
   "source": [
    "int sum (int i)\n",
    "{\n",
    "    int result = 0 ;\n",
    "    for (int n = 0; n <= i; n++)\n",
    "    {\n",
    "        result = result + n ;\n",
    "    }\n",
    "    return result ;\n",
    "}"
   ]
  },
  {
   "cell_type": "markdown",
   "id": "d51e80d6",
   "metadata": {
    "hidden": true
   },
   "source": [
    "Exercice (TD): exécuter la fonction suivante sur quelques valeurs. Que calcule cette fonction ?  \n",
    "\n",
    "Aide: n % 2 vaut 0 lorsque n est pair, 1 sinon."
   ]
  },
  {
   "cell_type": "code",
   "execution_count": null,
   "id": "6fc6b2ea",
   "metadata": {
    "hidden": true
   },
   "outputs": [],
   "source": [
    "int mysteryFct (int n)\n",
    "{\n",
    "    if (n == 0 )\n",
    "        return 1 ;\n",
    "    else if (n % 2 == 0)\n",
    "        return (mysteryFct(n/2) * mysteryFct(n/2)) ;\n",
    "    else\n",
    "        return (2*mysteryFct((n-1)/2) * mysteryFct((n-1)/2)) ;\n",
    "}"
   ]
  },
  {
   "cell_type": "markdown",
   "id": "f0835c8f",
   "metadata": {
    "hidden": true
   },
   "source": [
    "Exercice (TD): écrivez le programme ci dessous en ajoutant les accolades optionnelles. Que retourne ce programme sur les entrées (0,0), (1,0), (0,1), (1,1) ?"
   ]
  },
  {
   "cell_type": "code",
   "execution_count": null,
   "id": "83753486",
   "metadata": {
    "hidden": true
   },
   "outputs": [],
   "source": [
    "void danglingElse (int a, int b)\n",
    "{\n",
    "    if (a == 1)\n",
    "        if (b == 1)\n",
    "            printf(\"Passe dans le IF \\n\") ;\n",
    "    else\n",
    "        printf(\"Passe dans le ELSE \\n\") ;\n",
    "}"
   ]
  },
  {
   "cell_type": "code",
   "execution_count": null,
   "id": "777306d2",
   "metadata": {
    "hidden": true
   },
   "outputs": [],
   "source": [
    "danglingElse(0,0) ;\n",
    "danglingElse(1,0) ;\n",
    "danglingElse(0,1) ;\n",
    "danglingElse(1,1) ;"
   ]
  },
  {
   "cell_type": "markdown",
   "id": "59a39ffe",
   "metadata": {
    "heading_collapsed": true
   },
   "source": [
    "## Portée des variables"
   ]
  },
  {
   "cell_type": "markdown",
   "id": "873773e9",
   "metadata": {
    "hidden": true
   },
   "source": [
    "Exercice: exécuter le code suivant:"
   ]
  },
  {
   "cell_type": "code",
   "execution_count": 48,
   "id": "1c56a8ce",
   "metadata": {
    "hidden": true
   },
   "outputs": [
    {
     "name": "stderr",
     "output_type": "stream",
     "text": [
      "input_line_61:6:16: error: use of undeclared identifier 'myVar'\n",
      "printf(\"%d\\n\", myVar);\n",
      "               ^\n"
     ]
    },
    {
     "ename": "Interpreter Error",
     "evalue": "",
     "output_type": "error",
     "traceback": [
      "Interpreter Error: "
     ]
    }
   ],
   "source": [
    "for (int i = 0; i < 12; i++)\n",
    "{\n",
    "  int myVar = i ;\n",
    "}\n",
    "printf(\"%d\\n\", myVar);"
   ]
  },
  {
   "cell_type": "markdown",
   "id": "72af0d27",
   "metadata": {
    "hidden": true
   },
   "source": [
    "Cela génère une erreur: myVar n'existe pas ! Créons la: "
   ]
  },
  {
   "cell_type": "code",
   "execution_count": 52,
   "id": "f91c6e6c",
   "metadata": {
    "hidden": true
   },
   "outputs": [
    {
     "name": "stdout",
     "output_type": "stream",
     "text": [
      "11\n"
     ]
    }
   ],
   "source": [
    "int myVar = -1 ;\n",
    "for (int i = 0; i < 12; i++)\n",
    "{\n",
    "  int myVar = i ;\n",
    "}\n",
    "printf(\"%d\\n\", myVar);"
   ]
  },
  {
   "cell_type": "markdown",
   "id": "1dd1c80d",
   "metadata": {
    "hidden": true
   },
   "source": [
    "Bien qu'ayant le même nom, les variables créées dans la boucle ne sont pas les mêmes ! \n",
    "On verra l'explication au prochain cours.  \n",
    "\n",
    "Ce problème n'existe pas en Python puisque le langage ne permet pas de faire la différence entre définir une nouvelle variable (\"int myVar = i\") et mettre à jour une variable existante (\"myVar = i\"): ces deux instructions s'écrivent \n",
    "\"myVar = i\" en Python.\n",
    "\n",
    "Notez bien qu'il est inélégant et rarement justifié de déclarer une variable à l'intérieur d'une boucle, les erreurs des deux cadres précédents ne devraient jamais vous arriver en pratique.\n",
    "\n",
    "C'est la même chose pour les appels de fonctions, et là ça peut vous arriver:"
   ]
  },
  {
   "cell_type": "code",
   "execution_count": 49,
   "id": "5096257c",
   "metadata": {
    "hidden": true
   },
   "outputs": [],
   "source": [
    "void f (int x)\n",
    "{\n",
    "  int yy = x+1 ;\n",
    "}"
   ]
  },
  {
   "cell_type": "code",
   "execution_count": 50,
   "id": "d9751f14",
   "metadata": {
    "hidden": true
   },
   "outputs": [
    {
     "name": "stderr",
     "output_type": "stream",
     "text": [
      "input_line_63:5:15: error: use of undeclared identifier 'yy'\n",
      "  printf(\"%d\",yy) ;\n",
      "              ^\n"
     ]
    },
    {
     "ename": "Interpreter Error",
     "evalue": "",
     "output_type": "error",
     "traceback": [
      "Interpreter Error: "
     ]
    }
   ],
   "source": [
    "int main ()\n",
    "{\n",
    "  int a = 3 ;\n",
    "  f(a) ;\n",
    "  printf(\"%d\",yy) ;\n",
    "}"
   ]
  },
  {
   "cell_type": "markdown",
   "id": "e3e71c78",
   "metadata": {
    "hidden": true
   },
   "source": [
    "Dans ce cas, \"y\" n'existe pas: c'est une variable **locale** de la fonction \"f\", elle n'est pas accessible depuis la fonction \"main\". Et si on définit une variable \"y\" **locale** dans la fonction \"main\", alors elle sera **locale**: ce ne sont pas les mêmes variables \"y\"."
   ]
  },
  {
   "cell_type": "code",
   "execution_count": 53,
   "id": "510447a0",
   "metadata": {
    "code_folding": [],
    "hidden": true
   },
   "outputs": [],
   "source": [
    "int main ()\n",
    "{\n",
    "  int a = 3 ;\n",
    "  int yy = 1;\n",
    "  f(a) ;\n",
    "  printf(\"%d\",yy) ;\n",
    "}"
   ]
  },
  {
   "cell_type": "code",
   "execution_count": 54,
   "id": "420d9649",
   "metadata": {
    "hidden": true
   },
   "outputs": [
    {
     "name": "stdout",
     "output_type": "stream",
     "text": [
      "1"
     ]
    }
   ],
   "source": [
    "main () ;"
   ]
  },
  {
   "cell_type": "markdown",
   "id": "44e3125b",
   "metadata": {
    "hidden": true
   },
   "source": [
    "Et sur ce point, le comportement est identique en Python (et dans la plupart des langages de programmation)."
   ]
  },
  {
   "cell_type": "markdown",
   "id": "3def93a3",
   "metadata": {
    "heading_collapsed": true
   },
   "source": [
    "## Graphe de flot de contrôle d'un programme"
   ]
  },
  {
   "cell_type": "markdown",
   "id": "eff8db31",
   "metadata": {
    "hidden": true
   },
   "source": [
    "Lorsque l'on exécute un programme sans machine, on écrit entre autre une suite de numéro de lignes du programme. Par exemple l'exécution de \"syracuse(5)\" donne la suite:  \n",
    "\n",
    "    L1,L3,  L4,L6,L9,L10,  L4,L6,L7,L10,  L4,L6,L7,L10,  L4,L6,L7,L10,  L4,L6,L7,L10,  L4,L12."
   ]
  },
  {
   "cell_type": "code",
   "execution_count": null,
   "id": "2e6ffa54",
   "metadata": {
    "hidden": true
   },
   "outputs": [],
   "source": [
    "int syracuse (int n)\n",
    "{\n",
    "    int cpt = 0 ;\n",
    "    while (n != 1)\n",
    "    {\n",
    "        if (n % 2 == 0)\n",
    "            n = n/2 ;\n",
    "        else\n",
    "            n = 3*n+1 ;\n",
    "    cpt = cpt + 1 ;\n",
    "    }\n",
    "    return(cpt) ;\n",
    "}"
   ]
  },
  {
   "cell_type": "markdown",
   "id": "a16201d2",
   "metadata": {
    "hidden": true
   },
   "source": [
    "Mais \"syracuse(2)\" donne la suite:   \n",
    "\n",
    "    L1,L3,  L4,L6,L7,L10,  L4,L12.\n",
    "    \n",
    " Cette suite est bien différente de la précédente. Pour autant, toutes les suites ne sont pas envisageables: il n'existe aucune valeur du paramètre d'entrée n telle que \"syracuse(n)\" ne donne la suite:\n",
    " \n",
    "     L1,L4,L10,L12.\n",
    "     \n",
    "En effet, une exécution de \"syracuse(n)\" commencera toujours (peu importe la valeur de n) par \n",
    "\n",
    "    L1,L3\n",
    "et finira toujours par. \n",
    "    \n",
    "    L4,L12.\n",
    "    \n",
    "On définit donc le **graphe de flot de contrôle** d'un programme. C'est une structure qui va nous permettre de visualiser simplement et efficacement toutes les exécutions possibles du programme.\n",
    "\n",
    "\n",
    "\n",
    "Exercice 5.1 (TD): dessiner le graphe de flot de contrôle de plusieurs des programmes vus plus haut."
   ]
  },
  {
   "cell_type": "markdown",
   "id": "31f8fdf9",
   "metadata": {
    "hidden": true
   },
   "source": [
    "**Vocabulaire**:\n",
    "- *Sommet* du graphe de flot de contrôle: ce sont les cercles contenant des numéros de ligne du programme.\n",
    "- *Arc* du graphe de flot de contrôle: ce sont les flèches.\n",
    "- *Chemin* du graphe de flot de contrôle: ce sont les suites de sommets que l'on peut obtenir en parcourant le graphe depuis l'entrée jusqu'à la sortie, c'est à dire que deux sommets consécutifs du chemin doivent être reliés par un arc, le premier sommet du chemin correspond à L1 et le dernier sommet du chemin correspond à la dernière ligne du programme.\n",
    "- A toute exécution du programme, on peut associer un chemin dans le graphe de flot de contrôle.\n",
    "- A l'inverse, un chemin est dit *faisable* s'il correspond à une exécution du programme. C'est à dire qu'il existe une valeur du (ou des) paramètre(s) pour lequel l'exécution produit exactement ce chemin.\n",
    "\n",
    "Quelques exemples de chemins non faisables:"
   ]
  },
  {
   "cell_type": "code",
   "execution_count": null,
   "id": "2ccd5fd9",
   "metadata": {
    "hidden": true
   },
   "outputs": [],
   "source": [
    "int stupid (int n)\n",
    "{\n",
    "    int cpt = 0 ;\n",
    "    while (false)\n",
    "        cpt = cpt + 1 ;\n",
    "    return cpt ;\n",
    "}"
   ]
  },
  {
   "cell_type": "code",
   "execution_count": null,
   "id": "575a327c",
   "metadata": {
    "hidden": true
   },
   "outputs": [],
   "source": [
    "int even ()\n",
    "{\n",
    "    int cpt = 1 ;\n",
    "    while ((cpt % 2) != 0)\n",
    "    {\n",
    "        cpt = cpt + rand() ;\n",
    "        printf(\"%d\\n\",cpt) ;\n",
    "    }\n",
    "    if (cpt % 2 == 1)\n",
    "        cpt = cpt - 1 ;\n",
    "    else\n",
    "        cpt = cpt - 2 ;\n",
    "    return cpt ;\n",
    "    \n",
    "}"
   ]
  },
  {
   "cell_type": "code",
   "execution_count": null,
   "id": "e94ccbe8",
   "metadata": {
    "hidden": true
   },
   "outputs": [],
   "source": [
    "printf(\"%d\",even()) ;"
   ]
  },
  {
   "cell_type": "code",
   "execution_count": 1,
   "id": "bbd0e42c",
   "metadata": {
    "hidden": true
   },
   "outputs": [],
   "source": [
    "int notTrivial (int n)\n",
    "{\n",
    "    int a = 0 ;\n",
    "    int s = 1 ;\n",
    "    int t = 1 ;\n",
    "    while (s <= n)\n",
    "    {\n",
    "        a++ ;\n",
    "        s = s + t + 2 ;\n",
    "        t = t + 2 ;\n",
    "    }\n",
    "    int inv1 = t/2+1 ;\n",
    "    int inv2 = t+1 ;\n",
    "    int inv3 = inv2/2 ;\n",
    "    // printf(\"Ou est le furet ?\") ;\n",
    "    if (s != inv1 * inv1)\n",
    "        printf(\"\\nIl est passe par ici \\n\") ;\n",
    "    if (s != inv2 * inv2 /4)\n",
    "        printf(\"\\nIl repassera par la \\n\") ;\n",
    "    if (s != inv3 * inv3)\n",
    "        printf(\"\\nEst-il ici aussi ? \\n\") ;\n",
    "    return a ;\n",
    "}"
   ]
  },
  {
   "cell_type": "code",
   "execution_count": 2,
   "id": "fd851334",
   "metadata": {
    "hidden": true
   },
   "outputs": [
    {
     "name": "stdout",
     "output_type": "stream",
     "text": [
      "Fini.\n"
     ]
    }
   ],
   "source": [
    "int r = 1000000 ;\n",
    "for (int  i = 0; i < r; i++)\n",
    "    notTrivial(i) ;\n",
    "printf(\"Fini.\\n\") ;"
   ]
  },
  {
   "cell_type": "markdown",
   "id": "383f326d",
   "metadata": {
    "hidden": true
   },
   "source": [
    "Ce dernier exemple montre que savoir si un chemin est faisable ou non peut être difficile: cela peut demander une analyse mathématique conséquente du programme. Nous reviendrons sur ce point dans le second chapitre: Analyse de Programmes.\n",
    "\n",
    "\n",
    "Ci dessous, encore un exemple de chemin non faisable, de nature différente:"
   ]
  },
  {
   "cell_type": "code",
   "execution_count": null,
   "id": "5926dcc1",
   "metadata": {
    "hidden": true
   },
   "outputs": [],
   "source": [
    "void triangle (int a, int b, int c)\n",
    "{\n",
    "    if (a + b < c || a + c < b || b + c < a)\n",
    "        printf(\"Impossible: un triangle verifie l'inegalite triangulaire. \\n\") ;\n",
    "    else\n",
    "    {\n",
    "        int nbEgalite = 0 ;\n",
    "        if (a == b)\n",
    "            nbEgalite++ ;\n",
    "        if (a == c)\n",
    "            nbEgalite++ ;\n",
    "        if (b == c)\n",
    "            nbEgalite++ ;\n",
    "        if (nbEgalite == 0)\n",
    "            printf(\"C'est un triangle scalene. \\n\") ;\n",
    "        else if (nbEgalite == 1)\n",
    "            printf(\"C'est un triangle isocele. \\n\") ;\n",
    "        else\n",
    "            printf(\"C'est un triangle equilateral. \\n\") ;\n",
    "    }\n",
    "}"
   ]
  },
  {
   "cell_type": "markdown",
   "id": "184cae94",
   "metadata": {
    "hidden": true
   },
   "source": [
    "Exercice 5.2: proposez des valeurs d'entrée (a,b,c) telles que chaque ligne du programme soit exécutée dans l'une au moins des exécutions.\n",
    "\n",
    "\n",
    "Pour les programmes \"stupid\", \"even\" et \"notTrivial\"; certaines lignes du programme ne sont **jamais** exécutée: peu importe l'entrée du programme, l'exécution ne passera pas par ces lignes. On dit alors que le sommet du graphe de flot de contrôle correspondant à une telle ligne est **non couvrable** (et couvrable dans le cas contraire). \n",
    "Dans tous les exemples précédents, les chemins étaient infaisables car il contenaient un sommet non couvrable. \n",
    "Mais dans le programme \"triangle\", vous venez de montrer que tous les sommets étaient couvrables. Pourtant il existe bien des chemins infaisable.\n",
    "\n",
    "Exercice 5.3: donner un chemin infaisable du graphe de flot de contrôle du programme \"triangle\".\n",
    "\n",
    "\n",
    "**Vocabulaire:**\n",
    "- Un sommet du graphe de flot de contrôle est *couvrable* s'il existe un chemin faisable passant par ce sommet.\n",
    "- Un arc du graphe de flot de contrôle est *couvrable* s'il existe un chemin faisable passant par cet arc.\n",
    "\n",
    "\n",
    "Exercice 5.4 (TD): donner les sommets non couvrables et les arcs non couvrables des différents graphes de flot de contrôle précédents.\n",
    "\n",
    "**Propriété:** s'il existe des sommets non couvrables ou des arcs non couvrables, alors on peut simplifier le programme (sans changer son comportement)."
   ]
  },
  {
   "cell_type": "markdown",
   "id": "b0a495cc",
   "metadata": {
    "heading_collapsed": true
   },
   "source": [
    "## Tester un programme (TD)"
   ]
  },
  {
   "cell_type": "markdown",
   "id": "9230bc43",
   "metadata": {
    "hidden": true
   },
   "source": [
    "Beaucoup des programmes écrit dans ce cours sont un peu artificiels: ils ont vocation à montrer un comportement spécifique du langage C, mais leur résultat est inutile. En pratique (dans le monde réel), on écrit un programme pour répondre à un problème bien précis, et il convient donc de s'assurer que le programme écrit répond effectivement au problème initial. Par exemple, si l'on doit écrire un programme qui trie une liste, on va s'assurer que le programme fonctionne en l'essayant sur quelques listes. Mais comment choisir les listes sur lesquelles tester son programme ?\n",
    "\n",
    "Voici quelques principes de choix des entrées tests:\n",
    "1. Choisir des entrées telles que tout sommet couvrable du graphe de flot de contrôle apparaisse dans au moins une exécution des tests.\n",
    "2. Choisir des entrées telles que tout arc couvrable du graphe de flot de contrôle apparaisse dans au moins une exécution des tests.\n",
    "3. Choisir des entrées \"limites\": la liste vide si l'entrée du programme est une liste, 0 si l'entrée du programme est un nombre entier positif, etc.\n",
    "4. Choisir des entrées qui valident ou invalident les tests booléens du programme de toute les façons possibles.\n",
    "5. *Programmation défensive*: choisir des entrées qui ne correspondent pas au format attendu. Exemple: -1 si le programme est conçu pour fonctionner sur des entiers positifs.\n",
    "\n",
    "\n",
    "Pour illustrer la méthode, nous allons produire un *jeu de tests* pour le programme suivant:"
   ]
  },
  {
   "cell_type": "code",
   "execution_count": null,
   "id": "164d0e16",
   "metadata": {
    "hidden": true
   },
   "outputs": [],
   "source": [
    "void triangle (int a, int b, int c)\n",
    "{\n",
    "    assert(a >= 0 && b >= 0 && c >= 0) ;\n",
    "    if (a + b < c || a + c < b || b + c < a)\n",
    "        printf(\"Impossible: un triangle verifie l'inegalite triangulaire. \\n\") ;\n",
    "    else if (a == 0 && b == 0 && c == 0)\n",
    "        printf(\"C'est un point.\\n\") ;\n",
    "    else\n",
    "    {\n",
    "        int nbEgalite = 0 ;\n",
    "        if (a == b)\n",
    "            nbEgalite++ ;\n",
    "        if (a == c)\n",
    "            nbEgalite++ ;\n",
    "        if (b == c)\n",
    "            nbEgalite++ ;\n",
    "        if (nbEgalite == 0)\n",
    "        {\n",
    "            if (a + b == c || a + c == b || b + c == a)\n",
    "                printf(\"C'est un triangle plat.\\n\") ;\n",
    "            else\n",
    "                printf(\"C'est un triangle scalene. \\n\") ;\n",
    "        }\n",
    "        else if (nbEgalite == 1)\n",
    "        {\n",
    "            if (a + b == c || a + c == b || b + c == a)\n",
    "                printf(\"C'est un triangle plat isocele.\\n\") ;\n",
    "            else\n",
    "                printf(\"C'est un triangle isocele. \\n\") ;\n",
    "        }\n",
    "        else\n",
    "            printf(\"C'est un triangle equilateral. \\n\") ;\n",
    "    }\n",
    "}"
   ]
  },
  {
   "cell_type": "markdown",
   "id": "f137f1db",
   "metadata": {},
   "source": [
    "## Programmation Défensive: utilisation de ASSERT"
   ]
  },
  {
   "cell_type": "markdown",
   "id": "cdc4f84e",
   "metadata": {
    "heading_collapsed": true
   },
   "source": [
    "### Pour les fonctions internes au programme"
   ]
  },
  {
   "cell_type": "markdown",
   "id": "161a49a2",
   "metadata": {
    "hidden": true
   },
   "source": [
    "On illustre le concept sur le programme suivant:"
   ]
  },
  {
   "cell_type": "code",
   "execution_count": 3,
   "id": "c80ad0b1",
   "metadata": {
    "hidden": true
   },
   "outputs": [],
   "source": [
    "#include <stdio.h>\n",
    "#include <assert.h>\n",
    "#include <math.h>\n",
    "#include <stdlib.h>\n",
    "\n",
    "// Mauvaise pratique:\n",
    "\n",
    "int intSqrt (double x)\n",
    "    // x est positif.\n",
    "{\n",
    "    return ((int)(sqrt(x))) ;\n",
    "}"
   ]
  },
  {
   "cell_type": "code",
   "execution_count": 4,
   "id": "1e4c352e",
   "metadata": {
    "hidden": true
   },
   "outputs": [
    {
     "name": "stdout",
     "output_type": "stream",
     "text": [
      "La racine carree entiere de 37.560000 est: 6\n",
      "La racine carree entiere de -1.000000 est: -2147483648\n",
      "\n",
      "\n",
      "Explication: \n",
      "La racine carree de -1.000000 est: -nan\n",
      "La conversion en entier de -nan donne: -2147483648\n"
     ]
    }
   ],
   "source": [
    "printf(\"La racine carree entiere de %lf est: %d\\n\",37.56,intSqrt(37.56)) ;\n",
    "printf(\"La racine carree entiere de %lf est: %d\\n\",-1.0, intSqrt(-1)) ;\n",
    "printf(\"\\n\\nExplication: \\n\") ;\n",
    "printf(\"La racine carree de %lf est: %lf\\n\",-1.0, sqrt(-1)) ;\n",
    "printf(\"La conversion en entier de -nan donne: %d\\n\",(int)(sqrt(-1))) ;"
   ]
  },
  {
   "cell_type": "markdown",
   "id": "1bfe23bf",
   "metadata": {
    "hidden": true
   },
   "source": [
    "**Problème**: parfois, l'argument ne respecte pas le format attendu par la fonction mais l'exécution ne produit pas d'erreur. Pourtant, le résultat est inutilisable:"
   ]
  },
  {
   "cell_type": "code",
   "execution_count": 5,
   "id": "56952d9e",
   "metadata": {
    "hidden": true
   },
   "outputs": [
    {
     "name": "stdout",
     "output_type": "stream",
     "text": [
      "Quand on remet au carre:\n",
      "36 < 37.560000\n",
      "0 < -15000.000000\n"
     ]
    }
   ],
   "source": [
    "double x = 37.56 ;\n",
    "printf(\"Quand on remet au carre:\\n\") ;\n",
    "printf(\"%d < %lf\\n\", intSqrt(x)*intSqrt(x),x) ;\n",
    "x = -15000 ; \n",
    "printf(\"%d < %lf\\n\", intSqrt(x)*intSqrt(x),x) ;"
   ]
  },
  {
   "cell_type": "markdown",
   "id": "3af0cd57",
   "metadata": {
    "hidden": true
   },
   "source": [
    "Normalement, si votre code est bien conçu, la fonction *interne* intSqrt est toujours appelée (par les autres fonctions de votre programme) avec des arguments positifs. Néanmoins, il est difficile de s'en assurer simplement en parcourant le code. Par sécurité, on encourage donc à vérifier que les arguments de la fonctions satisfont le format d'entrée attendu par la fonction:"
   ]
  },
  {
   "cell_type": "code",
   "execution_count": null,
   "id": "34a8a00b",
   "metadata": {
    "hidden": true
   },
   "outputs": [],
   "source": [
    "// Bonne pratique:\n",
    "#include <assert.h>\n",
    "\n",
    "int intSqrt (double x)\n",
    "{\n",
    "    assert (x >= 0) ;\n",
    "    return ((int)(sqrt(x))) ;\n",
    "}"
   ]
  },
  {
   "cell_type": "code",
   "execution_count": null,
   "id": "e24786f3",
   "metadata": {
    "hidden": true
   },
   "outputs": [],
   "source": [
    "// Fonctionnement (à tester dans un véritable environnement):\n",
    "printf(\"La racine carree entiere de %lf est: %d\\n\",37.56,intSqrt(37.56)) ;\n",
    "printf(\"(ASSERT ne fonctionne pas ici) La racine carree entiere de %lf est: %d\\n\",-1.0, intSqrt(-1)) ;"
   ]
  },
  {
   "cell_type": "markdown",
   "id": "341d9d52",
   "metadata": {
    "hidden": true
   },
   "source": [
    "Remarques:\n",
    "- L'utilisation d'assert améliore la lisibilité du code: le mot clé \"assert\" informe immédiatement un autre développeur des conditions d'utilisation de la fonction.\n",
    "- Très bon outil de debuggage, affiche notamment la ligne de l'erreur.\n",
    "- Pour des raisons de performances, on peut désactiver l'exécution des lignes ASSERT."
   ]
  },
  {
   "cell_type": "markdown",
   "id": "9034b664",
   "metadata": {
    "heading_collapsed": true
   },
   "source": [
    "### Pour les saisies de l'utilisateur"
   ]
  },
  {
   "cell_type": "markdown",
   "id": "ea139f08",
   "metadata": {
    "hidden": true
   },
   "source": [
    "Si la fonction intSqrt n'est utilisée que par d'autres fonctions de votre programme, alors vous \"pouvez\" contrôler que les arguments reçus ont le bon format. Cependant, si l'un des argument provient de l'utilisateur, il est impossible de certifier qu'il aura le bon format.\n",
    "Même si le format attendu est spécifié à l'utilisateur, on ne peut pas supposer qu'il le vérifiera (illustration dans Emacs).\n",
    "\n",
    "\n",
    "Par ailleurs, il est inélégant que l'utilisateur reçoive une erreur destinée au développeur.\n",
    "Dans le cadre d'une saisie utilisateur, on peut plutôt proposer ceci:"
   ]
  },
  {
   "cell_type": "code",
   "execution_count": null,
   "id": "16258ea9",
   "metadata": {
    "hidden": true
   },
   "outputs": [],
   "source": [
    "// Solution #4:\n",
    "int main ()\n",
    "{\n",
    "    printf(\"Entrez un réel positif: \") ;\n",
    "    double x ;\n",
    "    scanf(\"%lf\",&x) ;\n",
    "    while (x < 0)\n",
    "    {\n",
    "        printf(\"J'ai dit POSITIF ! Essaie encore: \") ;\n",
    "        scanf(\"%lf\", &x) ;\n",
    "    }\n",
    "    printf(\"La racine carre entiere est: %d\", (int)(sqrt(x))) ;\n",
    "    // Suite du code ici\n",
    "}"
   ]
  },
  {
   "cell_type": "markdown",
   "id": "29fbf69a",
   "metadata": {
    "hidden": true
   },
   "source": [
    "Cela permet à l'utilisateur de se corriger, plutôt que d'interrompre tout le programme."
   ]
  },
  {
   "cell_type": "markdown",
   "id": "eaff2ae4",
   "metadata": {},
   "source": [
    "### Propriété des sorties d'une fonction"
   ]
  },
  {
   "cell_type": "markdown",
   "id": "3a096fc5",
   "metadata": {},
   "source": [
    "Il peut aussi être intéressant de tester des propriétés en sortie de fonction:"
   ]
  },
  {
   "cell_type": "code",
   "execution_count": null,
   "id": "959617fc",
   "metadata": {},
   "outputs": [],
   "source": [
    "#include <stdio.h>\n",
    "#include <assert.h>\n",
    "#include <math.h>\n",
    "#include <stdlib.h>\n",
    "#include <time.h>\n",
    "\n",
    "int maxIndexTab (int longueur, int t[longueur])\n",
    "{\n",
    "    assert(longueur > 0) ;\n",
    "    int max = t[0];\n",
    "    int maxIndex = 0 ;\n",
    "    for (int i = 1; i <= longueur; i++)\n",
    "    {\n",
    "        if (t[i] > max)\n",
    "        {\n",
    "            max = t[i] ;\n",
    "            maxIndex = i ;\n",
    "        }\n",
    "    }\n",
    "    assert(0 <= maxIndex && maxIndex < longueur) ;\n",
    "    return maxIndex ;\n",
    "}"
   ]
  },
  {
   "cell_type": "markdown",
   "id": "5c3bbc78",
   "metadata": {},
   "source": [
    "La fonction $maxIndex$ retourne un indice du tableau $t$, cet indice doit donc être compris entre $0$ et $longueur-1$.\n",
    "\n",
    "\n",
    "De manière générale, lorsqu'on accède à une case de tableau $t[i]$, il convient toujours de se demander si $i$ est effectivement un indice valide. S'il y a un doute, autant mettre un $assert$."
   ]
  },
  {
   "cell_type": "code",
   "execution_count": null,
   "id": "93a97f71",
   "metadata": {},
   "outputs": [],
   "source": [
    "void initTabRand(int t[],int longueur)\n",
    "{\n",
    "    for (int i = 0; i < longueur; i++)\n",
    "        t[i] = rand() ;\n",
    "}"
   ]
  },
  {
   "cell_type": "code",
   "execution_count": null,
   "id": "d347a88f",
   "metadata": {},
   "outputs": [],
   "source": [
    "#include <stdlib.h>\n",
    "#include <time.h>\n",
    "\n",
    "int main ()\n",
    "{\n",
    "    srand(time(NULL));   // Initialise le generateur de nombres pseudo-aleatoires (hors programme).\n",
    "    int t[100] ;\n",
    "    initTabRand(t,100) ; // remplit le tableau de valeurs aleatoires\n",
    "    int maxIndex = maxIndexTab(100,t) ;\n",
    "    printf(\"Le plus grand elt du tableau se situe a l'indice %d et vaut %d\\n\", maxIndex,t[maxIndex]) ;\n",
    "}   \n",
    "main () ;"
   ]
  },
  {
   "cell_type": "markdown",
   "id": "b9d37189",
   "metadata": {},
   "source": [
    "## Instructions de modification du flot de contrôle (TD ?)"
   ]
  },
  {
   "cell_type": "markdown",
   "id": "4fcd38aa",
   "metadata": {},
   "source": [
    "Il existe en C plusieurs instructions qui modifie le flot de contrôle tel que nous venons de le voir."
   ]
  },
  {
   "cell_type": "markdown",
   "id": "3eb21484",
   "metadata": {},
   "source": [
    "### Instruction \"Return\""
   ]
  },
  {
   "cell_type": "code",
   "execution_count": null,
   "id": "3ba38a8f",
   "metadata": {},
   "outputs": [],
   "source": [
    "// Teste si syracuse(i) < ceil pour tout i <= N.\n",
    "bool test (int ceil, int N)\n",
    "{\n",
    "    for (int i = 0; i <= N; i++)\n",
    "    {\n",
    "        if (syracuse(i) >= ceil)\n",
    "            return false ;\n",
    "    }\n",
    "    return true ;\n",
    "}"
   ]
  },
  {
   "cell_type": "markdown",
   "id": "0541216a",
   "metadata": {},
   "source": [
    "### Instruction \"Assert\""
   ]
  },
  {
   "cell_type": "markdown",
   "id": "c92f74e9",
   "metadata": {},
   "source": [
    "Illustration sur $maxIndexTab$."
   ]
  },
  {
   "cell_type": "markdown",
   "id": "0d7ea46b",
   "metadata": {},
   "source": [
    "### Instruction \"Break\""
   ]
  },
  {
   "cell_type": "code",
   "execution_count": null,
   "id": "51f1c526",
   "metadata": {},
   "outputs": [],
   "source": [
    "void sum41 ()\n",
    "{\n",
    "    int n ;\n",
    "    int result  = 0 ;\n",
    "    printf(\"Entrez des entiers pour en faire la somme, -1 pour terminer.\\n\") ;\n",
    "    for (int i = 0; i < 41; i++)\n",
    "    {\n",
    "        scanf(\"%d\",&n) ;\n",
    "        if (n < 0)\n",
    "            break ;\n",
    "        result = result + n ;\n",
    "    }\n",
    "    printf(\"La somme totale est de %d\",result) ;\n",
    "}"
   ]
  },
  {
   "cell_type": "markdown",
   "id": "478f08f3",
   "metadata": {},
   "source": [
    "### Instruction \"Continue\""
   ]
  },
  {
   "cell_type": "markdown",
   "id": "9984525a",
   "metadata": {},
   "source": [
    "L'instruction CONTINUE n'est pas explicitement au programme mais son comportement est complémentaire à celui de l'instruction BREAK:"
   ]
  },
  {
   "cell_type": "code",
   "execution_count": null,
   "id": "943161c8",
   "metadata": {},
   "outputs": [],
   "source": [
    "void sum (int max)\n",
    "{\n",
    "    int n ;\n",
    "    int result  = 0 ;\n",
    "    printf(\"Entrez %d entiers pour en faire la somme, les negatifs sont ignores.\\n\",max) ;\n",
    "    for (int i = 0; i < max; i++)\n",
    "    {\n",
    "        scanf(\"%d\",&n) ;\n",
    "        if (n < 0)\n",
    "            continue ;\n",
    "        result = result + n ;\n",
    "    }\n",
    "    printf(\"La somme totale est de %d\",result) ;\n",
    "}"
   ]
  },
  {
   "cell_type": "markdown",
   "id": "abdff0aa",
   "metadata": {},
   "source": [
    "### Instruction \"GOTO\" (Hors Programme)"
   ]
  },
  {
   "cell_type": "markdown",
   "id": "bd2cb158",
   "metadata": {},
   "source": [
    "L'instruction GOTO permet d'ajouter un arc au graphe de flot contrôle entre deux sommets quelconques. Dans un programme qui utilise l'instruction GOTO, il devient difficile de calculer les exécutions de tête; c'est pour cela que l'utilisation de cette instruction est déconseillée (et hors programme pour vous).  "
   ]
  },
  {
   "cell_type": "markdown",
   "id": "6b36be90",
   "metadata": {},
   "source": [
    "### Exceptions"
   ]
  },
  {
   "cell_type": "markdown",
   "id": "29edf5bd",
   "metadata": {},
   "source": [
    "Il n'y en a pas en C, mais nous les verrons en OCaml."
   ]
  },
  {
   "cell_type": "markdown",
   "id": "b89aec38",
   "metadata": {},
   "source": [
    "### Exercice:"
   ]
  },
  {
   "cell_type": "markdown",
   "id": "b051c650",
   "metadata": {},
   "source": [
    "Exercice: réécrire les programmes précédents sans les instructions BREAK et CONTINUE et en utilisant l'instruction RETURN qu'en fin de programme."
   ]
  },
  {
   "cell_type": "markdown",
   "id": "06985530",
   "metadata": {
    "heading_collapsed": true
   },
   "source": [
    "## Graphes de flot de contrôle de programmes récursifs (TD)"
   ]
  },
  {
   "cell_type": "code",
   "execution_count": null,
   "id": "5de49c9a",
   "metadata": {
    "hidden": true
   },
   "outputs": [],
   "source": [
    "double power (double x, int n)\n",
    "{\n",
    "    if (n == 0 )\n",
    "        return 1 ;\n",
    "    else if (n % 2 == 0)\n",
    "        return (power(x,n/2) * power(x,n/2)) ;\n",
    "    else\n",
    "        return (x*power(x,n/2) * power(x,n/2)) ;\n",
    "}"
   ]
  },
  {
   "cell_type": "code",
   "execution_count": null,
   "id": "3d49b469",
   "metadata": {
    "hidden": true
   },
   "outputs": [],
   "source": [
    "printf(\"%lf\",power(2,5)) ;"
   ]
  },
  {
   "cell_type": "markdown",
   "id": "f892a705",
   "metadata": {
    "heading_collapsed": true
   },
   "source": [
    "## Organisation du code: structures en C"
   ]
  },
  {
   "cell_type": "markdown",
   "id": "174f53b2",
   "metadata": {
    "hidden": true
   },
   "source": [
    "En C, on peut créer des types:\n",
    "- enum: type énumération, contiennent un nombre fini d'objet.\n",
    "- struct: type enregistrement (record en anglais), ou type produit. Contiennent un certains nombre de champs."
   ]
  },
  {
   "cell_type": "code",
   "execution_count": 1,
   "id": "03c91576",
   "metadata": {
    "hidden": true
   },
   "outputs": [],
   "source": [
    "enum lyceeFR { MASSENA_NICE, VHUGO_BESANCON, MONTAIGNE_BORDEAUX, SAINTLOUIS_PARIS } ;"
   ]
  },
  {
   "cell_type": "code",
   "execution_count": 3,
   "id": "418e2ded",
   "metadata": {
    "hidden": true
   },
   "outputs": [
    {
     "name": "stdout",
     "output_type": "stream",
     "text": [
      "4\n",
      "4"
     ]
    }
   ],
   "source": [
    "enum lyceeFR lycee1 = MASSENA_NICE ;\n",
    "enum lyceeFR lycee2 = VHUGO_BESANCON;\n",
    "printf(\"%lu\\n\", (long)&lycee2 - (long)&lycee1) ;\n",
    "printf(\"%lu\", sizeof(enum lyceeFR));"
   ]
  },
  {
   "cell_type": "code",
   "execution_count": 23,
   "id": "bb7dfb97",
   "metadata": {
    "hidden": true
   },
   "outputs": [],
   "source": [
    "enum lyceeFR monLycee = SAINTLOUIS_PARIS ;"
   ]
  },
  {
   "cell_type": "code",
   "execution_count": 24,
   "id": "b2f1b727",
   "metadata": {
    "hidden": true
   },
   "outputs": [],
   "source": [
    "struct profilEleve {\n",
    "   char nom[50] ;\n",
    "   lyceeFR lycee ;\n",
    "   double moyMath ;\n",
    "   double moyPhy ;\n",
    "   double moyInfo ;\n",
    "   double moyFr ;\n",
    "   double moyEng ;\n",
    "   char comment[100] ;\n",
    " };"
   ]
  },
  {
   "cell_type": "code",
   "execution_count": 25,
   "id": "3af97f7c",
   "metadata": {
    "hidden": true
   },
   "outputs": [],
   "source": [
    "double moyGen (struct profilEleve eleve)\n",
    "{\n",
    "  return ((10*eleve.moyMath + 7*eleve.moyPhy + 7*eleve.moyInfo + 3*eleve.moyFr + 4*eleve.moyEng) / 31) ;\n",
    "}"
   ]
  },
  {
   "cell_type": "markdown",
   "id": "8cbf3419",
   "metadata": {
    "hidden": true
   },
   "source": [
    "Les types struct permettent d'améliorer la lisibilité et l'organisation du code.  \n",
    "Plusieurs possibilités pour les initialiser:"
   ]
  },
  {
   "cell_type": "code",
   "execution_count": 27,
   "id": "6d99fc27",
   "metadata": {
    "hidden": true
   },
   "outputs": [],
   "source": [
    "// 1) A la declaration:\n",
    "struct profilEleve eleve {\"Simon\", MASSENA_NICE, 20.,20.,20.,20.,20., \"Eleve brillant\"} ;\n",
    "\n",
    "// Les conversions (char*) ne sont pas nécessaires en C, mais ici c'est un noyau C++"
   ]
  },
  {
   "cell_type": "code",
   "execution_count": 31,
   "id": "10f3b1c7",
   "metadata": {
    "hidden": true
   },
   "outputs": [],
   "source": [
    "// 2) Plus tard, champs par champs:\n",
    "struct profilEleve eleve ;\n",
    "eleve.lycee = MASSENA_NICE ;\n",
    "eleve.moyMath = 20. ;\n",
    "eleve.moyEng = 15. ;"
   ]
  },
  {
   "cell_type": "code",
   "execution_count": 32,
   "id": "23d5f531",
   "metadata": {
    "hidden": true
   },
   "outputs": [],
   "source": [
    "// 3) Hybride: certains champs initialisés à la déclaration, les autres plus tard:\n",
    "struct profilEleve eleve = { .nom = \"Simon\", .moyEng = 15., .lycee = MASSENA_NICE } ;\n",
    "eleve.moyMath = 20. ;"
   ]
  },
  {
   "cell_type": "markdown",
   "id": "63ee6402",
   "metadata": {
    "hidden": true
   },
   "source": [
    "Attention, la syntaxe avec accolades est **RESERVÉE à l'initialisation** !"
   ]
  },
  {
   "cell_type": "code",
   "execution_count": 55,
   "id": "3214fb0f",
   "metadata": {
    "hidden": true
   },
   "outputs": [
    {
     "name": "stdout",
     "output_type": "stream",
     "text": [
      "15.000000"
     ]
    }
   ],
   "source": [
    "// Ce code fonctionne ici car noyau C++. A essayer sur onlinegdb ou avec gcc.\n",
    "struct profilEleve eleve ;\n",
    "// Ligne fausse:\n",
    "eleve = {\"Simon\", MASSENA_NICE, 20.,20.,20.,20.,20., \"Eleve brillant\"} ; \n",
    "// Ligne fausse:\n",
    "eleve = { .moyEng = 15., .lycee = MASSENA_NICE } ;\n",
    "printf(\"%lf\", eleve.moyEng) ;"
   ]
  },
  {
   "cell_type": "markdown",
   "id": "73905897",
   "metadata": {
    "hidden": true
   },
   "source": [
    "Cela permet aussi d'écrire une fonction qui renvoit plusieurs valeurs (on verra une autre façon de faire au prochain cours):"
   ]
  },
  {
   "cell_type": "code",
   "execution_count": 57,
   "id": "4f044dc1",
   "metadata": {
    "hidden": true
   },
   "outputs": [],
   "source": [
    "struct profilEleve inputProfil ()\n",
    "{\n",
    "  struct profilEleve eleve ;\n",
    "  printf(\"Entrez votre nom: \") ;\n",
    "  scanf(\"%50s\", eleve.nom) ;\n",
    "  printf(\"Entrez vos moyennes de Math, Physique, Informatique, Francais et Anglais, separees par des espaces: \") ;\n",
    "  scanf(\"%lf %lf %lf %lf %lf\"\n",
    "    ,&eleve.moyMath, &eleve.moyPhy, &eleve.moyInfo\n",
    "    , &eleve.moyFr, &eleve.moyEng) ;\n",
    "  return eleve ;\n",
    "} ;"
   ]
  },
  {
   "cell_type": "code",
   "execution_count": 34,
   "id": "58034a36",
   "metadata": {
    "hidden": true
   },
   "outputs": [],
   "source": [
    "int main ()\n",
    "{\n",
    "    profilEleve eleve = inputProfil () ;\n",
    "    printf(\"L'eleve %s a une moyenne generale de: %lf \\n\", eleve.nom, moyGen(eleve)) ;\n",
    "    free(eleve.nom) ;\n",
    "}"
   ]
  },
  {
   "cell_type": "markdown",
   "id": "4d6a7697",
   "metadata": {
    "hidden": true
   },
   "source": [
    "Dernière chose: on peut modifier le nom d'un type existant. \n",
    "C'est pratique pour les type STRUCT ou ENUM:"
   ]
  },
  {
   "cell_type": "code",
   "execution_count": 37,
   "id": "07bd8cf7",
   "metadata": {
    "hidden": true
   },
   "outputs": [],
   "source": [
    "typedef struct profilEleve pE ;\n",
    "pE moi = { \"Simon\", MASSENA_NICE, 20,20,20,20,20, \"Exceptional\" } ;"
   ]
  },
  {
   "cell_type": "markdown",
   "id": "46a2859e",
   "metadata": {
    "hidden": true
   },
   "source": [
    "Afin de conserver un nom intelligibile, on écrira le plus souvent:"
   ]
  },
  {
   "cell_type": "code",
   "execution_count": null,
   "id": "0ef9eb76",
   "metadata": {
    "hidden": true
   },
   "outputs": [],
   "source": [
    "typedef struct profilEleve profilEleve ;"
   ]
  },
  {
   "cell_type": "markdown",
   "id": "7ba0b1f0",
   "metadata": {
    "hidden": true
   },
   "source": [
    "Cela fonctionne aussi avec les type de base (mais vous n'en aurez sans doute pas l'utilité):"
   ]
  },
  {
   "cell_type": "code",
   "execution_count": null,
   "id": "9eb995cd",
   "metadata": {
    "hidden": true
   },
   "outputs": [],
   "source": [
    "typedef int NB ;\n",
    "NB b = 4 ;\n",
    "printf(\"%d\", b) ;"
   ]
  },
  {
   "cell_type": "markdown",
   "id": "54fdf5fc",
   "metadata": {
    "hidden": true
   },
   "source": [
    "Nous détaillerons davantage le comportement des STRUCT au prochain chapitre."
   ]
  }
 ],
 "metadata": {
  "kernelspec": {
   "display_name": "C++11",
   "language": "C++11",
   "name": "xcpp11"
  },
  "language_info": {
   "codemirror_mode": "text/x-c++src",
   "file_extension": ".cpp",
   "mimetype": "text/x-c++src",
   "name": "c++",
   "version": "11"
  },
  "toc": {
   "base_numbering": 1,
   "nav_menu": {},
   "number_sections": true,
   "sideBar": true,
   "skip_h1_title": false,
   "title_cell": "Table of Contents",
   "title_sidebar": "Contents",
   "toc_cell": false,
   "toc_position": {},
   "toc_section_display": true,
   "toc_window_display": false
  },
  "varInspector": {
   "cols": {
    "lenName": 16,
    "lenType": 16,
    "lenVar": 40
   },
   "kernels_config": {
    "python": {
     "delete_cmd_postfix": "",
     "delete_cmd_prefix": "del ",
     "library": "var_list.py",
     "varRefreshCmd": "print(var_dic_list())"
    },
    "r": {
     "delete_cmd_postfix": ") ",
     "delete_cmd_prefix": "rm(",
     "library": "var_list.r",
     "varRefreshCmd": "cat(var_dic_list()) "
    }
   },
   "types_to_exclude": [
    "module",
    "function",
    "builtin_function_or_method",
    "instance",
    "_Feature"
   ],
   "window_display": false
  }
 },
 "nbformat": 4,
 "nbformat_minor": 5
}
